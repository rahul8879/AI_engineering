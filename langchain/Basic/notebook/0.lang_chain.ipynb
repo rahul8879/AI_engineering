{
 "cells": [
  {
   "cell_type": "markdown",
   "metadata": {},
   "source": [
    "# Simple LangChain Legacy Chain Example\n",
    "\n",
    "This notebook shows how to create a simple legacy LLM Chain using LangChain"
   ]
  },
  {
   "cell_type": "markdown",
   "metadata": {
    "vscode": {
     "languageId": "plaintext"
    }
   },
   "source": [
    "#### Reference Article ( Please follow the same order as given):\n",
    "1. https://python.langchain.com/docs/introduction/\n",
    "2. https://python.langchain.com/docs/concepts/architecture/\n",
    "3. https://python.langchain.com/docs/integrations/providers/\n",
    "4. https://python.langchain.com/docs/concepts/lcel/"
   ]
  },
  {
   "cell_type": "code",
   "execution_count": 1,
   "metadata": {},
   "outputs": [],
   "source": [
    "# importing all required library\n",
    "from langchain.chains import LLMChain\n",
    "from langchain_core.prompts import ChatPromptTemplate\n",
    "from dotenv import load_dotenv\n",
    "from langchain_openai import ChatOpenAI #https://pypi.org/project/langchain-openai/0.2.12/\n",
    "from langchain_core.output_parsers import StrOutputParser"
   ]
  },
  {
   "cell_type": "code",
   "execution_count": 2,
   "metadata": {},
   "outputs": [
    {
     "data": {
      "text/plain": [
       "True"
      ]
     },
     "execution_count": 2,
     "metadata": {},
     "output_type": "execute_result"
    }
   ],
   "source": [
    "\n",
    "#load the .env : \n",
    "load_dotenv(r'C:\\Users\\Rahul\\Documents\\FREELANCING\\1.AppliedSkil\\Gen_AI_learning\\.env')\n"
   ]
  },
  {
   "cell_type": "code",
   "execution_count": 5,
   "metadata": {},
   "outputs": [],
   "source": [
    "chatgpt = ChatOpenAI(model_name=\"gpt-4o-mini\", temperature=0)\n",
    "# create a prompt template to accept user queries\n",
    "prompt_txt = \"{query}\"\n",
    "prompt_template = ChatPromptTemplate.from_template(prompt_txt)\n",
    "chain = prompt_template | chatgpt | StrOutputParser() #https://python.langchain.com/api_reference/langchain/chains/langchain.chains.llm.LLMChain.html\n",
    "response =  chain.invoke({'query' : 'Explain Generative AI in 1 line'}) "
   ]
  },
  {
   "cell_type": "code",
   "execution_count": null,
   "metadata": {},
   "outputs": [],
   "source": []
  },
  {
   "cell_type": "code",
   "execution_count": null,
   "metadata": {},
   "outputs": [],
   "source": []
  }
 ],
 "metadata": {
  "kernelspec": {
   "display_name": "ai-env",
   "language": "python",
   "name": "python3"
  },
  "language_info": {
   "codemirror_mode": {
    "name": "ipython",
    "version": 3
   },
   "file_extension": ".py",
   "mimetype": "text/x-python",
   "name": "python",
   "nbconvert_exporter": "python",
   "pygments_lexer": "ipython3",
   "version": "3.11.4"
  }
 },
 "nbformat": 4,
 "nbformat_minor": 2
}
