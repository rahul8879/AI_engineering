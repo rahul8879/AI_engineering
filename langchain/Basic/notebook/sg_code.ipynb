{
 "cells": [
  {
   "cell_type": "code",
   "execution_count": 71,
   "metadata": {},
   "outputs": [
    {
     "name": "stdout",
     "output_type": "stream",
     "text": [
      "area: 252\n"
     ]
    }
   ],
   "source": [
    "a=int(input(\"enter  length of a rectangle\"))\n",
    "length=int(input(\"length of a rectangle\"))\n",
    "breath=int(input(\"length of a rectangle\"))\n",
    "area=length*breath\n",
    "print('area:',area)"
   ]
  },
  {
   "cell_type": "code",
   "execution_count": 72,
   "metadata": {},
   "outputs": [
    {
     "name": "stdout",
     "output_type": "stream",
     "text": [
      "area is 220.5\n"
     ]
    }
   ],
   "source": [
    "base=int(input(\"enter a base\"))\n",
    "height=int(input(\"enter a height\"))\n",
    "area=1/2*base*height\n",
    "print('area is',area)\n"
   ]
  },
  {
   "cell_type": "code",
   "execution_count": 73,
   "metadata": {},
   "outputs": [
    {
     "name": "stdout",
     "output_type": "stream",
     "text": [
      "postive\n"
     ]
    }
   ],
   "source": [
    "a=int(input(\"enter a number\"))\n",
    "if a<0:\n",
    "    print(\"negative\")\n",
    "else:\n",
    "    print(\"postive\")\n",
    "    "
   ]
  },
  {
   "cell_type": "code",
   "execution_count": 74,
   "metadata": {},
   "outputs": [
    {
     "name": "stdout",
     "output_type": "stream",
     "text": [
      "area is 144.0\n"
     ]
    }
   ],
   "source": [
    "a=float(input(\"enter a side a\"))\n",
    "b=float(input(\"enter a side b\"))\n",
    "height=float(input(\"enter height\"))\n",
    "area=1/2*( a+b )*height\n",
    "print('area is',area)\n"
   ]
  },
  {
   "cell_type": "code",
   "execution_count": 75,
   "metadata": {},
   "outputs": [
    {
     "name": "stdout",
     "output_type": "stream",
     "text": [
      "displacment is  0.0\n"
     ]
    }
   ],
   "source": [
    "a=float(input(\"enter a  intail velocity\"))\n",
    "b=float(input(\"enter a  final  velocity\"))\n",
    "c=float(input(\"enter a  acceralation\"))\n",
    "d= ( a**2 - b**2 ) / (2*a)\n",
    "print(\"displacment is \",d)\n"
   ]
  },
  {
   "cell_type": "code",
   "execution_count": 76,
   "metadata": {},
   "outputs": [
    {
     "name": "stdout",
     "output_type": "stream",
     "text": [
      "miles is 7.4564520000000005\n"
     ]
    }
   ],
   "source": [
    "km=float(input(\"enter a km\"))\n",
    "miles=km *0.621371\n",
    "print('miles is',miles)\n",
    "\n"
   ]
  },
  {
   "cell_type": "markdown",
   "metadata": {},
   "source": []
  },
  {
   "cell_type": "code",
   "execution_count": 77,
   "metadata": {},
   "outputs": [
    {
     "name": "stdout",
     "output_type": "stream",
     "text": [
      "Area is 452.3893421169302\n"
     ]
    }
   ],
   "source": [
    "import math\n",
    "radius= float(input(\"enter a radius\"))\n",
    "area = math.pi*radius ** 2\n",
    "print('Area is',area)\n",
    "\n",
    "\n",
    "\n",
    "\n",
    "\n",
    "\n",
    "\n"
   ]
  },
  {
   "cell_type": "code",
   "execution_count": 78,
   "metadata": {},
   "outputs": [
    {
     "name": "stdout",
     "output_type": "stream",
     "text": [
      "total surface area is  570.0\n"
     ]
    }
   ],
   "source": [
    "length=float(input(\"enter a length\"))\n",
    "breath=float(input(\"enter a breath\"))\n",
    "height=float(input(\"enter a height\"))\n",
    "area=2*(length*breath+length*height+breath*height)\n",
    "print(\"total surface area is \",area)\n",
    "\n"
   ]
  },
  {
   "cell_type": "code",
   "execution_count": null,
   "metadata": {},
   "outputs": [],
   "source": [
    "printa= int(inp)"
   ]
  }
 ],
 "metadata": {
  "kernelspec": {
   "display_name": "ai-env",
   "language": "python",
   "name": "python3"
  },
  "language_info": {
   "codemirror_mode": {
    "name": "ipython",
    "version": 3
   },
   "file_extension": ".py",
   "mimetype": "text/x-python",
   "name": "python",
   "nbconvert_exporter": "python",
   "pygments_lexer": "ipython3",
   "version": "3.11.4"
  }
 },
 "nbformat": 4,
 "nbformat_minor": 2
}
