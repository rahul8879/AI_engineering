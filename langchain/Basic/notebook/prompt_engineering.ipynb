{
 "cells": [
  {
   "cell_type": "markdown",
   "metadata": {
    "id": "XTzBUFWQ-OWj"
   },
   "source": [
    "# Project: Prompt Engineering with LangChain and ChatGPT for real-world tasks\n",
    "\n",
    "In this notebook you will leverage ChatGPT and LangChain to solve and do a few mini-projects based on some real-world scenarios:\n",
    "\n",
    "- Mini-Project 1: Review Analyst\n",
    "- Mini-Project 2: Research Paper Analyst\n",
    "- Mini-Project 3: Social Media Marketing Analyst\n",
    "- Mini-Project 4: IT Support Analyst\n",
    "\n"
   ]
  },
  {
   "cell_type": "markdown",
   "metadata": {
    "id": "L1KvMtf54l0d"
   },
   "source": [
    "## Install OpenAI and LangChain dependencies"
   ]
  },
  {
   "cell_type": "code",
   "execution_count": null,
   "metadata": {},
   "outputs": [],
   "source": [
    "!pip install langchain==0.3.11\n",
    "!pip install langchain-openai==0.2.12\n",
    "!pip install langchain-community==0.3.11"
   ]
  },
  {
   "cell_type": "markdown",
   "metadata": {
    "id": "PtBa7rlWJWH3"
   },
   "source": [
    "## Enter API Tokens"
   ]
  },
  {
   "cell_type": "markdown",
   "metadata": {
    "id": "Y6RD7As2sm8G"
   },
   "source": [
    "#### Enter your Open AI Key here\n",
    "\n",
    "You can get the key from [here](https://platform.openai.com/api-keys) after creating an account or signing in"
   ]
  },
  {
   "cell_type": "code",
   "execution_count": 2,
   "metadata": {
    "colab": {
     "base_uri": "https://localhost:8080/"
    },
    "id": "9ogxBkS6ZnnC",
    "outputId": "4b411016-531d-4c31-85fc-b06cac039cc7"
   },
   "outputs": [
    {
     "data": {
      "text/plain": [
       "True"
      ]
     },
     "execution_count": 2,
     "metadata": {},
     "output_type": "execute_result"
    }
   ],
   "source": [
    "from dotenv import load_dotenv\n",
    "#load the .env : \n",
    "load_dotenv(r'C:\\Users\\Rahul\\Documents\\FREELANCING\\1.AppliedSkil\\Gen_AI_learning\\.env')"
   ]
  },
  {
   "cell_type": "markdown",
   "metadata": {
    "id": "T5rOqCyianbP"
   },
   "source": [
    "## Setup necessary system environment variables"
   ]
  },
  {
   "cell_type": "markdown",
   "metadata": {
    "id": "VDWhgxCy5bA6"
   },
   "source": [
    "## Load Necessary Dependencies and ChatGPT LLM"
   ]
  },
  {
   "cell_type": "code",
   "execution_count": 3,
   "metadata": {
    "id": "9GYhyRFRuJXG"
   },
   "outputs": [],
   "source": [
    "from langchain_core.prompts import ChatPromptTemplate\n",
    "from langchain_openai import ChatOpenAI"
   ]
  },
  {
   "cell_type": "code",
   "execution_count": 4,
   "metadata": {
    "id": "mY2bapqfuWq1"
   },
   "outputs": [],
   "source": [
    "chatgpt = ChatOpenAI(model_name='gpt-4o-mini', temperature=0.0)"
   ]
  },
  {
   "cell_type": "markdown",
   "metadata": {
    "id": "AeDkpvGDhMGV"
   },
   "source": [
    "## Mini-Project 1: Review Analyst\n",
    "\n",
    "You are building an AI system to be able to look at customer reviews and do some complex analysis. for each review get ChatGPT to do the following:\n",
    "\n",
    "  - Summarize the review. The summary should be at most 3 lines.\n",
    "  - Highlight both the positives and negatives\n",
    "  - Display the overall sentiment of the review (positive, negative, neutral)\n",
    "  - Display a list of 3 - 5 emotions expressed by the customer in the review\n",
    "  - If the sentiment is positive or neutral write an email and thank them for the review\n",
    "  - If the sentiment is negative apologize and write an email with an appropriate response\n",
    "\n",
    "Try to get the response in a nice structured format using an output parser"
   ]
  },
  {
   "cell_type": "markdown",
   "metadata": {
    "id": "9P_TrLpRAIXM"
   },
   "source": [
    "### Access Customer Reviews"
   ]
  },
  {
   "cell_type": "code",
   "execution_count": 5,
   "metadata": {
    "id": "hRbBZB57hT0G"
   },
   "outputs": [],
   "source": [
    "reviews = [\n",
    "    f\"\"\"\n",
    "    Just received the Bluetooth speaker I ordered for beach outings, and it's fantastic.\n",
    "    The sound quality is impressively clear with just the right amount of bass.\n",
    "    It's also waterproof, which tested true during a recent splashing incident.\n",
    "    Though it's compact, the volume can really fill the space.\n",
    "    The price was a bargain for such high-quality sound.\n",
    "    Shipping was also on point, arriving two days early in secure packaging.\n",
    "    \"\"\",\n",
    "    f\"\"\"\n",
    "    Purchased a new gaming keyboard because of its rave reviews about responsiveness and backlighting.\n",
    "    It hasn't disappointed. The keys have a satisfying click and the LED colors are vibrant,\n",
    "    enhancing my gaming experience significantly. Price-wise, it's quite competitive,\n",
    "    and I feel like I got a good deal. The delivery was swift, and it came well-protected,\n",
    "    ensuring no damage during transport.\n",
    "    \"\"\",\n",
    "    f\"\"\"\n",
    "    Ordered a set of wireless earbuds for running, and they've been a letdown.\n",
    "    The sound constantly cuts out, and the fit is uncomfortable after only a few minutes of use.\n",
    "    They advertised a 12-hour battery life, but I'm barely getting four hours.\n",
    "    Considering the cost, I expected better quality and performance.\n",
    "    They did arrive on time, but the positives end there. I'm already looking into a return.\n",
    "    \"\"\",\n",
    "    f\"\"\"\n",
    "    The tablet stand I bought was touted as being sturdy and adjustable,\n",
    "    but it's anything but. It wobbles with the slightest touch,\n",
    "    and the angles are not holding up as promised. It feels like a breeze could knock it over.\n",
    "    It was also pricier than others I've seen, which adds to the disappointment.\n",
    "    It did arrive promptly, but what's the use if the product doesn't meet basic expectations?\n",
    "    \"\"\",\n",
    "    f\"\"\"\n",
    "    Needed a new kitchen blender, but this model has been a nightmare.\n",
    "    It's supposed to handle various foods, but it struggles with anything tougher than cooked vegetables.\n",
    "    It's also incredibly noisy, and the 'easy-clean' feature is a joke; food gets stuck under the blades constantly.\n",
    "    I thought the brand meant quality, but this product has proven me wrong.\n",
    "    Plus, it arrived three days late. Definitely not worth the expense.\n",
    "    \"\"\"\n",
    "]"
   ]
  },
  {
   "cell_type": "markdown",
   "metadata": {
    "id": "Rz9SIYmYALOm"
   },
   "source": [
    "### Define Output Parser"
   ]
  },
  {
   "cell_type": "code",
   "execution_count": 6,
   "metadata": {},
   "outputs": [],
   "source": [
    "from langchain_core.prompts import PromptTemplate\n",
    "from langchain_core.output_parsers import PydanticOutputParser\n",
    "from pydantic import BaseModel, Field"
   ]
  },
  {
   "cell_type": "code",
   "execution_count": 7,
   "metadata": {
    "id": "HK0u7biN7uDh"
   },
   "outputs": [],
   "source": [
    "\n",
    "\n",
    "# Define your desired data structure - like a python data class.\n",
    "class ReviewAnalysisResponse(BaseModel):\n",
    "    summary: str = Field(description=\"A brief summary of the customer review with maximum 3 lines\")\n",
    "    positives: list = Field(description=\"A list showing the positives mentioned by the customer in the review if any - max 3 points\")\n",
    "    negatives: list = Field(description=\"A list showing the negatives mentioned by the customer in the review if any - max 3 points\")\n",
    "    sentiment: str = Field(description=\"One word showing the sentiment of the review - positive, negative or neutral\")\n",
    "    emotions: list = Field(description=\"A list of 3 - 5 emotions expressed by the customer in the review\")\n",
    "    email: str = Field(description=\"Detailed email to the customer based on the sentiment\")\n",
    "\n",
    "# Set up a parser + inject instructions into the prompt template.\n",
    "parser = PydanticOutputParser(pydantic_object=ReviewAnalysisResponse)"
   ]
  },
  {
   "cell_type": "markdown",
   "metadata": {
    "id": "Fc8awL6dAONh"
   },
   "source": [
    "### Create the input prompt for the LLM"
   ]
  },
  {
   "cell_type": "code",
   "execution_count": 8,
   "metadata": {
    "id": "0TylxOCZ85O1"
   },
   "outputs": [],
   "source": [
    "# create the final prompt with formatting instructions from the parser\n",
    "prompt_txt = \"\"\"\n",
    "             Analyze the given customer review below and generate the response based on the instructions\n",
    "             mentioned below in the format instructions.\n",
    "             Also remember to write a detailed email response for the email field based on these conditions:\n",
    "               - email should be addressed to Dear Customer and signed with Service Agent\n",
    "               - thank them if the review is positive or neutral\n",
    "               - apologize if the review is negative\n",
    "\n",
    "             Format Instructions:\n",
    "             {format_instructions}\n",
    "\n",
    "             Review:\n",
    "             {review}\n",
    "            \"\"\"\n",
    "prompt = PromptTemplate(\n",
    "    template=prompt_txt,\n",
    "    input_variables=[\"review\"],\n",
    "    partial_variables={\"format_instructions\": parser.get_format_instructions()},\n",
    ")"
   ]
  },
  {
   "cell_type": "markdown",
   "metadata": {
    "id": "EE0l_m31AQ5k"
   },
   "source": [
    "### Create a LCEL LLM Chain"
   ]
  },
  {
   "cell_type": "code",
   "execution_count": 9,
   "metadata": {
    "id": "SWfHWjm-9HuD"
   },
   "outputs": [],
   "source": [
    "# create a simple LCEL chain to take the prompt, pass it to the LLM, enforce response format using the parser\n",
    "chain = (prompt\n",
    "           |\n",
    "         chatgpt\n",
    "           |\n",
    "         parser)"
   ]
  },
  {
   "cell_type": "markdown",
   "metadata": {
    "id": "70ivaPOrATnR"
   },
   "source": [
    "### Format the input reviews"
   ]
  },
  {
   "cell_type": "code",
   "execution_count": 10,
   "metadata": {
    "colab": {
     "base_uri": "https://localhost:8080/"
    },
    "id": "BBPSeLKA9N5M",
    "outputId": "824d7e82-06d4-4ac4-a4d3-8a8f2df74a2f"
   },
   "outputs": [
    {
     "data": {
      "text/plain": [
       "{'review': \"\\n    Just received the Bluetooth speaker I ordered for beach outings, and it's fantastic.\\n    The sound quality is impressively clear with just the right amount of bass.\\n    It's also waterproof, which tested true during a recent splashing incident.\\n    Though it's compact, the volume can really fill the space.\\n    The price was a bargain for such high-quality sound.\\n    Shipping was also on point, arriving two days early in secure packaging.\\n    \"}"
      ]
     },
     "execution_count": 10,
     "metadata": {},
     "output_type": "execute_result"
    }
   ],
   "source": [
    "reviews_formatted = [{'review': review} for review in reviews]\n",
    "reviews_formatted[0]"
   ]
  },
  {
   "cell_type": "markdown",
   "metadata": {
    "id": "MHbJvZlYAVcH"
   },
   "source": [
    "### Get responses from the LLM"
   ]
  },
  {
   "cell_type": "code",
   "execution_count": 11,
   "metadata": {
    "id": "tpH9R-iO9Wbq"
   },
   "outputs": [],
   "source": [
    "responses = chain.map().invoke(reviews_formatted)"
   ]
  },
  {
   "cell_type": "markdown",
   "metadata": {
    "id": "z7wS4_lnAYAL"
   },
   "source": [
    "### View LLM responses"
   ]
  },
  {
   "cell_type": "code",
   "execution_count": 12,
   "metadata": {
    "colab": {
     "base_uri": "https://localhost:8080/"
    },
    "id": "NaC9oaRY-15M",
    "outputId": "2f2b0706-b14e-4af8-9b94-5f8d0901d911"
   },
   "outputs": [
    {
     "data": {
      "text/plain": [
       "ReviewAnalysisResponse(summary='The customer is highly satisfied with the Bluetooth speaker, praising its sound quality, waterproof feature, and value for money. They also appreciated the prompt shipping.', positives=['Fantastic sound quality with clear audio and good bass', 'Waterproof feature works well', 'Compact size with powerful volume'], negatives=[], sentiment='positive', emotions=['satisfaction', 'happiness', 'excitement'], email='Dear Customer,\\n\\nThank you for your wonderful review! We are thrilled to hear that you are enjoying your new Bluetooth speaker and that it has met your expectations in terms of sound quality, waterproof capability, and value for money. We also appreciate your feedback on the prompt shipping.\\n\\nIf you have any further questions or need assistance, please feel free to reach out.\\n\\nBest regards,\\nService Agent')"
      ]
     },
     "execution_count": 12,
     "metadata": {},
     "output_type": "execute_result"
    }
   ],
   "source": [
    "responses[0]"
   ]
  },
  {
   "cell_type": "code",
   "execution_count": 13,
   "metadata": {
    "colab": {
     "base_uri": "https://localhost:8080/"
    },
    "id": "VN7PfKvBbGZV",
    "outputId": "fc05d56f-7586-433a-be5a-fcc8ff63ce6d"
   },
   "outputs": [
    {
     "name": "stderr",
     "output_type": "stream",
     "text": [
      "C:\\Users\\Rahul\\AppData\\Local\\Temp\\ipykernel_26480\\632561186.py:1: PydanticDeprecatedSince20: The `dict` method is deprecated; use `model_dump` instead. Deprecated in Pydantic V2.0 to be removed in V3.0. See Pydantic V2 Migration Guide at https://errors.pydantic.dev/2.10/migration/\n",
      "  responses[0].dict()\n"
     ]
    },
    {
     "data": {
      "text/plain": [
       "{'summary': 'The customer is highly satisfied with the Bluetooth speaker, praising its sound quality, waterproof feature, and value for money. They also appreciated the prompt shipping.',\n",
       " 'positives': ['Fantastic sound quality with clear audio and good bass',\n",
       "  'Waterproof feature works well',\n",
       "  'Compact size with powerful volume'],\n",
       " 'negatives': [],\n",
       " 'sentiment': 'positive',\n",
       " 'emotions': ['satisfaction', 'happiness', 'excitement'],\n",
       " 'email': 'Dear Customer,\\n\\nThank you for your wonderful review! We are thrilled to hear that you are enjoying your new Bluetooth speaker and that it has met your expectations in terms of sound quality, waterproof capability, and value for money. We also appreciate your feedback on the prompt shipping.\\n\\nIf you have any further questions or need assistance, please feel free to reach out.\\n\\nBest regards,\\nService Agent'}"
      ]
     },
     "execution_count": 13,
     "metadata": {},
     "output_type": "execute_result"
    }
   ],
   "source": [
    "responses[0].dict()"
   ]
  },
  {
   "cell_type": "code",
   "execution_count": 14,
   "metadata": {
    "colab": {
     "base_uri": "https://localhost:8080/"
    },
    "id": "dHJpeC5f9ZfK",
    "outputId": "de7bfe78-63db-45c5-c40b-493a9f714538"
   },
   "outputs": [
    {
     "name": "stdout",
     "output_type": "stream",
     "text": [
      "summary:\n",
      "The customer is highly satisfied with the Bluetooth speaker, praising its sound quality, waterproof feature, and value for money. They also appreciated the prompt shipping.\n",
      "positives:\n",
      "['Fantastic sound quality with clear audio and good bass', 'Waterproof feature works well', 'Compact size with powerful volume']\n",
      "negatives:\n",
      "[]\n",
      "sentiment:\n",
      "positive\n",
      "emotions:\n",
      "['satisfaction', 'happiness', 'excitement']\n",
      "email:\n",
      "Dear Customer,\n",
      "\n",
      "Thank you for your wonderful review! We are thrilled to hear that you are enjoying your new Bluetooth speaker and that it has met your expectations in terms of sound quality, waterproof capability, and value for money. We also appreciate your feedback on the prompt shipping.\n",
      "\n",
      "If you have any further questions or need assistance, please feel free to reach out.\n",
      "\n",
      "Best regards,\n",
      "Service Agent\n",
      "-----\n",
      "\n",
      "\n",
      "summary:\n",
      "The customer is highly satisfied with their new gaming keyboard, praising its responsiveness, backlighting, and competitive pricing. They also appreciated the swift delivery and protective packaging.\n",
      "positives:\n",
      "['Responsive keys with a satisfying click', 'Vibrant LED colors enhancing gaming experience', 'Competitive pricing and good deal']\n",
      "negatives:\n",
      "[]\n",
      "sentiment:\n",
      "positive\n",
      "emotions:\n",
      "['satisfaction', 'excitement', 'contentment']\n",
      "email:\n",
      "Dear Customer,\n",
      "\n",
      "Thank you for your wonderful review! We are thrilled to hear that you are enjoying your new gaming keyboard and that it has met your expectations in terms of responsiveness and backlighting. It's great to know that you found the pricing competitive and that the delivery was swift and secure.\n",
      "\n",
      "Your feedback is invaluable to us, and we appreciate you taking the time to share your experience. If you have any further questions or need assistance, please don't hesitate to reach out.\n",
      "\n",
      "Best regards,\n",
      "Service Agent\n",
      "-----\n",
      "\n",
      "\n",
      "summary:\n",
      "The customer is disappointed with the wireless earbuds due to sound issues, uncomfortable fit, and poor battery life.\n",
      "positives:\n",
      "['Arrived on time']\n",
      "negatives:\n",
      "['Sound cuts out', 'Uncomfortable fit', 'Poor battery life']\n",
      "sentiment:\n",
      "negative\n",
      "emotions:\n",
      "['disappointment', 'frustration', 'dissatisfaction']\n",
      "email:\n",
      "Dear Customer,\n",
      "\n",
      "Thank you for your feedback regarding the wireless earbuds. We sincerely apologize for the issues you have experienced, including the sound cutting out, uncomfortable fit, and the battery life not meeting your expectations. Your satisfaction is important to us, and we would like to assist you further. Please let us know how we can help, whether it be a return or an exchange.\n",
      "\n",
      "Thank you for bringing this to our attention.\n",
      "\n",
      "Best regards,\n",
      "Service Agent\n",
      "-----\n",
      "\n",
      "\n",
      "summary:\n",
      "The customer expressed disappointment with the tablet stand's stability and adjustability, stating it wobbles easily and does not hold angles well. They also found it overpriced despite prompt delivery.\n",
      "positives:\n",
      "['Arrived promptly']\n",
      "negatives:\n",
      "['Wobbles with slightest touch', 'Angles do not hold up as promised', 'Pricier than others']\n",
      "sentiment:\n",
      "negative\n",
      "emotions:\n",
      "['disappointment', 'frustration', 'dissatisfaction']\n",
      "email:\n",
      "Dear Customer,\n",
      "\n",
      "Thank you for your feedback regarding the tablet stand. We sincerely apologize for the disappointment you've experienced with its stability and adjustability. Your concerns about the product not meeting expectations are important to us, and we will take them into consideration for future improvements. If there's anything we can do to assist you further, please let us know.\n",
      "\n",
      "Best regards,\n",
      "Service Agent\n",
      "-----\n",
      "\n",
      "\n",
      "summary:\n",
      "The customer is dissatisfied with the kitchen blender, citing performance issues, noise, cleaning difficulties, and late delivery.\n",
      "positives:\n",
      "[]\n",
      "negatives:\n",
      "['Struggles with tougher foods', 'Incredibly noisy', \"'Easy-clean' feature is ineffective\", 'Arrived three days late']\n",
      "sentiment:\n",
      "negative\n",
      "emotions:\n",
      "['frustration', 'disappointment', 'anger']\n",
      "email:\n",
      "Dear Customer,\n",
      "\n",
      "Thank you for taking the time to share your feedback regarding the kitchen blender. We sincerely apologize for the issues you have experienced with its performance, noise level, and cleaning difficulties. We understand how frustrating it can be when a product does not meet your expectations, especially when it arrives late.\n",
      "\n",
      "Your feedback is invaluable to us, and we will be addressing these concerns with our product team to ensure improvements are made. If there is anything further we can do to assist you, please do not hesitate to reach out.\n",
      "\n",
      "Thank you for your understanding.\n",
      "\n",
      "Best regards,\n",
      "Service Agent\n",
      "-----\n",
      "\n",
      "\n"
     ]
    },
    {
     "name": "stderr",
     "output_type": "stream",
     "text": [
      "C:\\Users\\Rahul\\AppData\\Local\\Temp\\ipykernel_26480\\2992996444.py:2: PydanticDeprecatedSince20: The `dict` method is deprecated; use `model_dump` instead. Deprecated in Pydantic V2.0 to be removed in V3.0. See Pydantic V2 Migration Guide at https://errors.pydantic.dev/2.10/migration/\n",
      "  for k,v in response.dict().items():\n"
     ]
    }
   ],
   "source": [
    "for response in responses:\n",
    "  for k,v in response.dict().items():\n",
    "    print(f'{k}:\\n{v}')\n",
    "  print('-----')\n",
    "  print('\\n')"
   ]
  },
  {
   "cell_type": "code",
   "execution_count": 15,
   "metadata": {
    "colab": {
     "base_uri": "https://localhost:8080/",
     "height": 293
    },
    "id": "4VgCY3aV-7AI",
    "outputId": "252507c5-ecfa-4fff-f47e-34e42f92ba2f"
   },
   "outputs": [
    {
     "name": "stderr",
     "output_type": "stream",
     "text": [
      "C:\\Users\\Rahul\\AppData\\Local\\Temp\\ipykernel_26480\\1175396765.py:3: PydanticDeprecatedSince20: The `dict` method is deprecated; use `model_dump` instead. Deprecated in Pydantic V2.0 to be removed in V3.0. See Pydantic V2 Migration Guide at https://errors.pydantic.dev/2.10/migration/\n",
      "  pd.DataFrame(response.dict() for response in responses)\n"
     ]
    },
    {
     "data": {
      "text/html": [
       "<div>\n",
       "<style scoped>\n",
       "    .dataframe tbody tr th:only-of-type {\n",
       "        vertical-align: middle;\n",
       "    }\n",
       "\n",
       "    .dataframe tbody tr th {\n",
       "        vertical-align: top;\n",
       "    }\n",
       "\n",
       "    .dataframe thead th {\n",
       "        text-align: right;\n",
       "    }\n",
       "</style>\n",
       "<table border=\"1\" class=\"dataframe\">\n",
       "  <thead>\n",
       "    <tr style=\"text-align: right;\">\n",
       "      <th></th>\n",
       "      <th>summary</th>\n",
       "      <th>positives</th>\n",
       "      <th>negatives</th>\n",
       "      <th>sentiment</th>\n",
       "      <th>emotions</th>\n",
       "      <th>email</th>\n",
       "    </tr>\n",
       "  </thead>\n",
       "  <tbody>\n",
       "    <tr>\n",
       "      <th>0</th>\n",
       "      <td>The customer is highly satisfied with the Blue...</td>\n",
       "      <td>[Fantastic sound quality with clear audio and ...</td>\n",
       "      <td>[]</td>\n",
       "      <td>positive</td>\n",
       "      <td>[satisfaction, happiness, excitement]</td>\n",
       "      <td>Dear Customer,\\n\\nThank you for your wonderful...</td>\n",
       "    </tr>\n",
       "    <tr>\n",
       "      <th>1</th>\n",
       "      <td>The customer is highly satisfied with their ne...</td>\n",
       "      <td>[Responsive keys with a satisfying click, Vibr...</td>\n",
       "      <td>[]</td>\n",
       "      <td>positive</td>\n",
       "      <td>[satisfaction, excitement, contentment]</td>\n",
       "      <td>Dear Customer,\\n\\nThank you for your wonderful...</td>\n",
       "    </tr>\n",
       "    <tr>\n",
       "      <th>2</th>\n",
       "      <td>The customer is disappointed with the wireless...</td>\n",
       "      <td>[Arrived on time]</td>\n",
       "      <td>[Sound cuts out, Uncomfortable fit, Poor batte...</td>\n",
       "      <td>negative</td>\n",
       "      <td>[disappointment, frustration, dissatisfaction]</td>\n",
       "      <td>Dear Customer,\\n\\nThank you for your feedback ...</td>\n",
       "    </tr>\n",
       "    <tr>\n",
       "      <th>3</th>\n",
       "      <td>The customer expressed disappointment with the...</td>\n",
       "      <td>[Arrived promptly]</td>\n",
       "      <td>[Wobbles with slightest touch, Angles do not h...</td>\n",
       "      <td>negative</td>\n",
       "      <td>[disappointment, frustration, dissatisfaction]</td>\n",
       "      <td>Dear Customer,\\n\\nThank you for your feedback ...</td>\n",
       "    </tr>\n",
       "    <tr>\n",
       "      <th>4</th>\n",
       "      <td>The customer is dissatisfied with the kitchen ...</td>\n",
       "      <td>[]</td>\n",
       "      <td>[Struggles with tougher foods, Incredibly nois...</td>\n",
       "      <td>negative</td>\n",
       "      <td>[frustration, disappointment, anger]</td>\n",
       "      <td>Dear Customer,\\n\\nThank you for taking the tim...</td>\n",
       "    </tr>\n",
       "  </tbody>\n",
       "</table>\n",
       "</div>"
      ],
      "text/plain": [
       "                                             summary  \\\n",
       "0  The customer is highly satisfied with the Blue...   \n",
       "1  The customer is highly satisfied with their ne...   \n",
       "2  The customer is disappointed with the wireless...   \n",
       "3  The customer expressed disappointment with the...   \n",
       "4  The customer is dissatisfied with the kitchen ...   \n",
       "\n",
       "                                           positives  \\\n",
       "0  [Fantastic sound quality with clear audio and ...   \n",
       "1  [Responsive keys with a satisfying click, Vibr...   \n",
       "2                                  [Arrived on time]   \n",
       "3                                 [Arrived promptly]   \n",
       "4                                                 []   \n",
       "\n",
       "                                           negatives sentiment  \\\n",
       "0                                                 []  positive   \n",
       "1                                                 []  positive   \n",
       "2  [Sound cuts out, Uncomfortable fit, Poor batte...  negative   \n",
       "3  [Wobbles with slightest touch, Angles do not h...  negative   \n",
       "4  [Struggles with tougher foods, Incredibly nois...  negative   \n",
       "\n",
       "                                         emotions  \\\n",
       "0           [satisfaction, happiness, excitement]   \n",
       "1         [satisfaction, excitement, contentment]   \n",
       "2  [disappointment, frustration, dissatisfaction]   \n",
       "3  [disappointment, frustration, dissatisfaction]   \n",
       "4            [frustration, disappointment, anger]   \n",
       "\n",
       "                                               email  \n",
       "0  Dear Customer,\\n\\nThank you for your wonderful...  \n",
       "1  Dear Customer,\\n\\nThank you for your wonderful...  \n",
       "2  Dear Customer,\\n\\nThank you for your feedback ...  \n",
       "3  Dear Customer,\\n\\nThank you for your feedback ...  \n",
       "4  Dear Customer,\\n\\nThank you for taking the tim...  "
      ]
     },
     "execution_count": 15,
     "metadata": {},
     "output_type": "execute_result"
    }
   ],
   "source": [
    "import pandas as pd\n",
    "\n",
    "pd.DataFrame(response.dict() for response in responses)"
   ]
  },
  {
   "cell_type": "markdown",
   "metadata": {
    "id": "eEtB1IOimA0i"
   },
   "source": [
    "## Mini-Project 2: Research Paper Analyst\n",
    "\n",
    "Make ChatGPT act as an AI expert and transform the given research paper abstract based on the nature of the audience mentioned below.\n",
    "\n",
    "- Short summary of maximum 10 lines for a general audience\n",
    "- Detailed report for a healthcare company. Have bullet points for pros and cons of ethics in Generative AI as mentioned in the paper\n",
    "- Detailed report for a generative AI company solving healthcare problems. Have bullet points for key points mentioned for Generative AI for text, images and structured data based healthcare\n",
    "\n",
    "Try to use `ChatPromptTemplate` so you can have a conversation with ChatGPT for each of the above tasks using conversational prompting"
   ]
  },
  {
   "cell_type": "markdown",
   "metadata": {
    "id": "gjiheMsOMUO6"
   },
   "source": [
    "### Access the Research Paper Abstract"
   ]
  },
  {
   "cell_type": "code",
   "execution_count": 16,
   "metadata": {
    "id": "4FnITE6zhV-9"
   },
   "outputs": [],
   "source": [
    "paper_abstract = f\"\"\"\n",
    "The widespread use of ChatGPT and other emerging technology powered by generative\n",
    "artificial intelligence (AI) has drawn much attention to potential ethical issues, especially in\n",
    "high-stakes applications such as healthcare.1–3 However, less clear is how to resolve such\n",
    "issues beyond following guidelines and regulations that are still under discussion and\n",
    "development. On the other hand, other types of generative AI have been used to synthesize\n",
    "images and other types of data for research and practical purposes, which have resolved some\n",
    "ethical issues and exposed other ethical issues,4,5 but such technology is less often the focus\n",
    "of ongoing ethical discussions. Here we highlight gaps in current ethical discussions of\n",
    "generative AI via a systematic scoping review of relevant existing research in healthcare, and\n",
    "reduce the gaps by proposing an ethics checklist for comprehensive assessment and\n",
    "transparent documentation of ethical discussions in generative AI development. While the\n",
    "checklist can be readily integrated into the current peer review and publication system to\n",
    "enhance generative AI research, it may also be used in broader settings to disclose ethicsrelated considerations in generative AI-powered products (or real-life applications of such\n",
    "products) to help users establish reasonable trust in their capabilities.\n",
    "\n",
    "Current ethical discussions on generative AI in healthcare\n",
    "We conducted a systematic scoping review to analyse current ethical discussions on\n",
    "generative AI in healthcare. Our search in four major academic research databases for\n",
    "relevant publications from January 2013 to July 2023 yielded 2859 articles (see Methods for\n",
    "detailed search strategy and Supplementary Figure S1 for the PRISMA flow diagram), of\n",
    "which 193 articles were included for analysis based on application data modality (text, image,\n",
    "or structured data), ethical issues discussed, generative AI involved, and whether generative\n",
    "AI causes or offers technical solutions for issues raised.\n",
    "\n",
    "Generative AI for text data-based healthcare\n",
    "Forty-one of the 193 articles discussed ethical considerations pertaining to generative AI\n",
    "applications for text data, with 20 articles describing methodological developments or\n",
    "applications of generative AI and the other 21 articles describing review-type works on this\n",
    "topic. Although some of these review-type articles used the general term “generative AI”, the\n",
    "main body and supporting evidence focused on LLMs. Twenty-nine articles had in-depth\n",
    "discussions on ethical issues, whereas the other 12 articles only briefly touched on some\n",
    "ethical aspects.\n",
    "Among the 41 articles, 29 articles focused on discussing ethical issues caused by LLMs (and\n",
    "specifically by GPT in 16 of the articles), covering a wide range of application scenarios and\n",
    "considered the application of all 10 ethical principles identified in the review (see Figure 1),\n",
    "as well as other less discussed concerns such as human-AI interaction, and the rights of\n",
    "LLMs to be considered as co-authors in scientific papers. One paper only commented briefly\n",
    "on the need for ethical considerations in LLMs and is summarised in the “Others” category.\n",
    "Although all ethical principles are equally important, some are discussed more often than\n",
    "others, e.g., non-maleficence (also referred to in the literature as ‘benevolence’), equity, and\n",
    "privacy.\n",
    "Fifteen of the 41 articles aimed to resolve some existing ethical issues (for example,\n",
    "confidentiality of medical data) by using LLMs and other generative AI (e.g., GAN,\n",
    "autoencoder or diffusion), such as, to reduce privacy concerns by generating synthetic\n",
    "medical text, to reduce disparity by providing accessible services and assistance, to detect\n",
    "health-related misinformation, to generate trusted content, and to improve accountability or\n",
    "transparency over existing approaches. While most articles focused on either identifying\n",
    "ethical issues caused by generative AI or proposing generative AI-based solutions, three\n",
    "articles discussed both to provide a more balanced perspective.\n",
    "\n",
    "Generative AI for image and structured data-based healthcare\n",
    "Unlike the diverse application scenarios of generative AI based on text data, for image and\n",
    "structured data, this use of generative AI focuses on data synthesis and encryption. Hence the\n",
    "majority of articles discussed the methodological developments of generative AI as giving\n",
    "rise to a more distinctive and focused set of ethical issues.\n",
    "5\n",
    "Notably, of the 98 articles on image data and 58 articles on structured data, more than half\n",
    "(n=63 for image data and n=33 for structured data) only mentioned ethical considerations as a\n",
    "brief motivation for methodological developments or as a general discussion point. The rest\n",
    "included more in-depth discussions or evaluations of ethical issues. Among these 155 articles\n",
    "(as one article covered multiple modalities), 11 articles were review-type work, where 10\n",
    "articles reviewed methods that mentioned one or two ethical perspectives, and only one\n",
    "article24 discussed detailed ethical concerns on generative AI applications.\n",
    "Resolving privacy issues was the main aim of articles for these two data modalities (n=74 for\n",
    "image data and n=50 for structured data; see Figure 1), predominantly by generating synthetic\n",
    "data using GAN. Eight articles on image data and 9 articles on structured data used\n",
    "generative AI to reduce bias, e.g., by synthesizing data for under-represented subgroups in\n",
    "existing databases. For both data modalities, we did not see explicit discussions on resolving\n",
    "autonomy, integrity, or morality issues using generative AI, and for structured data the articles\n",
    "additionally lacked discussions on trust or transparency.\n",
    "Only 11 articles for image data selectively discussed some ethical issues that generative AI\n",
    "can give rise to, without specific discussions regarding autonomy, integrity, or morality. For\n",
    "structured data, only 4 articles discussed equity, privacy, or data security issues caused by\n",
    "generative AI. Only two articles on structured data included both the cause and resolving\n",
    "perspectives by discussing ethical issues that may arise from limitations of methods\n",
    "proposed, specifically bias induced when synthesizing data in order to resolve privacy issues.\n",
    "\"\"\""
   ]
  },
  {
   "cell_type": "markdown",
   "metadata": {
    "id": "sI2cwvpIMaGJ"
   },
   "source": [
    "### Create a prompt template for paper analysis and transformation"
   ]
  },
  {
   "cell_type": "code",
   "execution_count": 17,
   "metadata": {
    "id": "E5S9fvwrYZ6u"
   },
   "outputs": [],
   "source": [
    "SYS_PROMPT = \"\"\"\n",
    "Act as a Artificial Intelligence Expert.\n",
    "Transform the input research paper abstract given below\n",
    "based on the instruction input by the user.\n",
    "\"\"\"\n",
    "prompt = ChatPromptTemplate.from_messages(\n",
    "    [\n",
    "        (\"system\", SYS_PROMPT),\n",
    "        (\"human\", \"{instruction}\"),\n",
    "    ]\n",
    ")"
   ]
  },
  {
   "cell_type": "markdown",
   "metadata": {
    "id": "PqEOQ4VZMfaC"
   },
   "source": [
    "### Create a simple LCEL LLM Chain"
   ]
  },
  {
   "cell_type": "code",
   "execution_count": 18,
   "metadata": {
    "id": "uc8fNUiXDUAC"
   },
   "outputs": [],
   "source": [
    "chain = (prompt\n",
    "            |\n",
    "         chatgpt)"
   ]
  },
  {
   "cell_type": "markdown",
   "metadata": {
    "id": "r2mbR5lfMkF8"
   },
   "source": [
    "### Generate the first summary report"
   ]
  },
  {
   "cell_type": "code",
   "execution_count": 19,
   "metadata": {
    "id": "L8cgurf6Ytds"
   },
   "outputs": [],
   "source": [
    "from langchain_core.messages import HumanMessage\n",
    "\n",
    "prompt_txt = f\"\"\"\n",
    "Based on the following research paper abstract,\n",
    "create the summary report of maximum 10 lines\n",
    "for a general audience\n",
    "\n",
    "Abstract:\n",
    "{paper_abstract}\n",
    "\"\"\"\n",
    "messages = [HumanMessage(content=prompt_txt)]\n",
    "user_instruction = {'instruction': messages}\n",
    "\n",
    "response = chain.invoke(user_instruction)\n",
    "messages.append(response)"
   ]
  },
  {
   "cell_type": "code",
   "execution_count": 20,
   "metadata": {
    "colab": {
     "base_uri": "https://localhost:8080/"
    },
    "id": "OVE4atsREzfp",
    "outputId": "76f21ec3-ee14-4fcb-c0ea-5f9066104b01"
   },
   "outputs": [
    {
     "name": "stdout",
     "output_type": "stream",
     "text": [
      "The research paper explores the ethical implications of generative artificial intelligence (AI), particularly in healthcare settings. It highlights the growing use of technologies like ChatGPT and the need for clearer ethical guidelines as these tools become more prevalent. A systematic review of existing literature identified gaps in current ethical discussions, leading to the proposal of an ethics checklist. This checklist aims to enhance transparency and accountability in generative AI research and applications. The study found that while many articles addressed ethical issues related to text-based generative AI, discussions on image and structured data were less comprehensive. The authors emphasize the importance of addressing ethical concerns to build trust in AI technologies used in healthcare.\n"
     ]
    }
   ],
   "source": [
    "print(response.content)"
   ]
  },
  {
   "cell_type": "code",
   "execution_count": 21,
   "metadata": {
    "colab": {
     "base_uri": "https://localhost:8080/",
     "height": 105
    },
    "id": "hxvTIb4SdLd7",
    "outputId": "785b1e04-0427-4a4f-bd57-8b01363b6533"
   },
   "outputs": [
    {
     "data": {
      "text/plain": [
       "'The research paper explores the ethical implications of generative artificial intelligence (AI), particularly in healthcare settings. It highlights the growing use of technologies like ChatGPT and the need for clearer ethical guidelines as these tools become more prevalent. A systematic review of existing literature identified gaps in current ethical discussions, leading to the proposal of an ethics checklist. This checklist aims to enhance transparency and accountability in generative AI research and applications. The study found that while many articles addressed ethical issues related to text-based generative AI, discussions on image and structured data were less comprehensive. The authors emphasize the importance of addressing ethical concerns to build trust in AI technologies used in healthcare.'"
      ]
     },
     "execution_count": 21,
     "metadata": {},
     "output_type": "execute_result"
    }
   ],
   "source": [
    "response.content"
   ]
  },
  {
   "cell_type": "code",
   "execution_count": 22,
   "metadata": {
    "colab": {
     "base_uri": "https://localhost:8080/"
    },
    "id": "8XYxJPOkdP9p",
    "outputId": "44e22b33-6d87-42f9-c436-85429ced96d7"
   },
   "outputs": [
    {
     "data": {
      "text/plain": [
       "[HumanMessage(content='\\nBased on the following research paper abstract,\\ncreate the summary report of maximum 10 lines\\nfor a general audience\\n\\nAbstract:\\n\\nThe widespread use of ChatGPT and other emerging technology powered by generative\\nartificial intelligence (AI) has drawn much attention to potential ethical issues, especially in\\nhigh-stakes applications such as healthcare.1–3 However, less clear is how to resolve such\\nissues beyond following guidelines and regulations that are still under discussion and\\ndevelopment. On the other hand, other types of generative AI have been used to synthesize\\nimages and other types of data for research and practical purposes, which have resolved some\\nethical issues and exposed other ethical issues,4,5 but such technology is less often the focus\\nof ongoing ethical discussions. Here we highlight gaps in current ethical discussions of\\ngenerative AI via a systematic scoping review of relevant existing research in healthcare, and\\nreduce the gaps by proposing an ethics checklist for comprehensive assessment and\\ntransparent documentation of ethical discussions in generative AI development. While the\\nchecklist can be readily integrated into the current peer review and publication system to\\nenhance generative AI research, it may also be used in broader settings to disclose ethicsrelated considerations in generative AI-powered products (or real-life applications of such\\nproducts) to help users establish reasonable trust in their capabilities.\\n\\nCurrent ethical discussions on generative AI in healthcare\\nWe conducted a systematic scoping review to analyse current ethical discussions on\\ngenerative AI in healthcare. Our search in four major academic research databases for\\nrelevant publications from January 2013 to July 2023 yielded 2859 articles (see Methods for\\ndetailed search strategy and Supplementary Figure S1 for the PRISMA flow diagram), of\\nwhich 193 articles were included for analysis based on application data modality (text, image,\\nor structured data), ethical issues discussed, generative AI involved, and whether generative\\nAI causes or offers technical solutions for issues raised.\\n\\nGenerative AI for text data-based healthcare\\nForty-one of the 193 articles discussed ethical considerations pertaining to generative AI\\napplications for text data, with 20 articles describing methodological developments or\\napplications of generative AI and the other 21 articles describing review-type works on this\\ntopic. Although some of these review-type articles used the general term “generative AI”, the\\nmain body and supporting evidence focused on LLMs. Twenty-nine articles had in-depth\\ndiscussions on ethical issues, whereas the other 12 articles only briefly touched on some\\nethical aspects.\\nAmong the 41 articles, 29 articles focused on discussing ethical issues caused by LLMs (and\\nspecifically by GPT in 16 of the articles), covering a wide range of application scenarios and\\nconsidered the application of all 10 ethical principles identified in the review (see Figure 1),\\nas well as other less discussed concerns such as human-AI interaction, and the rights of\\nLLMs to be considered as co-authors in scientific papers. One paper only commented briefly\\non the need for ethical considerations in LLMs and is summarised in the “Others” category.\\nAlthough all ethical principles are equally important, some are discussed more often than\\nothers, e.g., non-maleficence (also referred to in the literature as ‘benevolence’), equity, and\\nprivacy.\\nFifteen of the 41 articles aimed to resolve some existing ethical issues (for example,\\nconfidentiality of medical data) by using LLMs and other generative AI (e.g., GAN,\\nautoencoder or diffusion), such as, to reduce privacy concerns by generating synthetic\\nmedical text, to reduce disparity by providing accessible services and assistance, to detect\\nhealth-related misinformation, to generate trusted content, and to improve accountability or\\ntransparency over existing approaches. While most articles focused on either identifying\\nethical issues caused by generative AI or proposing generative AI-based solutions, three\\narticles discussed both to provide a more balanced perspective.\\n\\nGenerative AI for image and structured data-based healthcare\\nUnlike the diverse application scenarios of generative AI based on text data, for image and\\nstructured data, this use of generative AI focuses on data synthesis and encryption. Hence the\\nmajority of articles discussed the methodological developments of generative AI as giving\\nrise to a more distinctive and focused set of ethical issues.\\n5\\nNotably, of the 98 articles on image data and 58 articles on structured data, more than half\\n(n=63 for image data and n=33 for structured data) only mentioned ethical considerations as a\\nbrief motivation for methodological developments or as a general discussion point. The rest\\nincluded more in-depth discussions or evaluations of ethical issues. Among these 155 articles\\n(as one article covered multiple modalities), 11 articles were review-type work, where 10\\narticles reviewed methods that mentioned one or two ethical perspectives, and only one\\narticle24 discussed detailed ethical concerns on generative AI applications.\\nResolving privacy issues was the main aim of articles for these two data modalities (n=74 for\\nimage data and n=50 for structured data; see Figure 1), predominantly by generating synthetic\\ndata using GAN. Eight articles on image data and 9 articles on structured data used\\ngenerative AI to reduce bias, e.g., by synthesizing data for under-represented subgroups in\\nexisting databases. For both data modalities, we did not see explicit discussions on resolving\\nautonomy, integrity, or morality issues using generative AI, and for structured data the articles\\nadditionally lacked discussions on trust or transparency.\\nOnly 11 articles for image data selectively discussed some ethical issues that generative AI\\ncan give rise to, without specific discussions regarding autonomy, integrity, or morality. For\\nstructured data, only 4 articles discussed equity, privacy, or data security issues caused by\\ngenerative AI. Only two articles on structured data included both the cause and resolving\\nperspectives by discussing ethical issues that may arise from limitations of methods\\nproposed, specifically bias induced when synthesizing data in order to resolve privacy issues.\\n\\n', additional_kwargs={}, response_metadata={}),\n",
       " AIMessage(content='The research paper explores the ethical implications of generative artificial intelligence (AI), particularly in healthcare settings. It highlights the growing use of technologies like ChatGPT and the need for clearer ethical guidelines as these tools become more prevalent. A systematic review of existing literature identified gaps in current ethical discussions, leading to the proposal of an ethics checklist. This checklist aims to enhance transparency and accountability in generative AI research and applications. The study found that while many articles addressed ethical issues related to text-based generative AI, discussions on image and structured data were less comprehensive. The authors emphasize the importance of addressing ethical concerns to build trust in AI technologies used in healthcare.', additional_kwargs={'refusal': None}, response_metadata={'token_usage': {'completion_tokens': 130, 'prompt_tokens': 1320, 'total_tokens': 1450, 'completion_tokens_details': {'accepted_prediction_tokens': 0, 'audio_tokens': 0, 'reasoning_tokens': 0, 'rejected_prediction_tokens': 0}, 'prompt_tokens_details': {'audio_tokens': 0, 'cached_tokens': 0}}, 'model_name': 'gpt-4o-mini-2024-07-18', 'system_fingerprint': 'fp_b376dfbbd5', 'finish_reason': 'stop', 'logprobs': None}, id='run-3489c7cf-def4-4f2d-8b30-77a864e833f9-0', usage_metadata={'input_tokens': 1320, 'output_tokens': 130, 'total_tokens': 1450, 'input_token_details': {'audio': 0, 'cache_read': 0}, 'output_token_details': {'audio': 0, 'reasoning': 0}})]"
      ]
     },
     "execution_count": 22,
     "metadata": {},
     "output_type": "execute_result"
    }
   ],
   "source": [
    "messages"
   ]
  },
  {
   "cell_type": "markdown",
   "metadata": {
    "id": "Us1V2RJQM_ry"
   },
   "source": [
    "### Generate the second summary report\n",
    "\n",
    "Here we add the previous LLM response and the new instructions to the list of messages and send the whole thing to the LLM so it has access to the historical conversation"
   ]
  },
  {
   "cell_type": "code",
   "execution_count": 23,
   "metadata": {
    "id": "X_wqbVYOI42b"
   },
   "outputs": [],
   "source": [
    "prompt_txt = f\"\"\"\n",
    "Use only the research paper abstract from earlier and create a detailed report for a healthcare company.\n",
    "In the report, also include bullet points (3 max) for pros and cons of ethics in Generative AI\n",
    "\"\"\"\n",
    "messages.append(HumanMessage(content=prompt_txt))\n",
    "user_instruction = {'instruction': messages}\n",
    "response = chain.invoke(user_instruction)\n",
    "messages.append(response)"
   ]
  },
  {
   "cell_type": "code",
   "execution_count": 25,
   "metadata": {
    "colab": {
     "base_uri": "https://localhost:8080/"
    },
    "id": "up-RtmIfFrAV",
    "outputId": "5f99582f-6492-48fd-feac-a84003df4232"
   },
   "outputs": [
    {
     "name": "stdout",
     "output_type": "stream",
     "text": [
      "### Detailed Report on Ethical Considerations in Generative AI for Healthcare\n",
      "\n",
      "#### Introduction\n",
      "The rapid adoption of generative artificial intelligence (AI) technologies, such as ChatGPT, has raised significant ethical concerns, particularly in high-stakes fields like healthcare. This report synthesizes findings from a systematic review of existing literature on the ethical implications of generative AI in healthcare, highlighting gaps in current discussions and proposing a comprehensive ethics checklist to guide future research and applications.\n",
      "\n",
      "#### Key Findings\n",
      "- **Ethical Gaps Identified**: The review revealed that while there is a growing body of literature addressing ethical issues related to text-based generative AI, discussions surrounding image and structured data applications are less comprehensive. This inconsistency highlights the need for a more uniform approach to ethical considerations across different modalities of generative AI.\n",
      "  \n",
      "- **Proposed Ethics Checklist**: To address the identified gaps, the authors propose an ethics checklist designed to facilitate a thorough assessment and transparent documentation of ethical discussions in generative AI development. This checklist can be integrated into existing peer review and publication processes, enhancing the ethical rigor of generative AI research.\n",
      "\n",
      "- **Trust and Transparency**: The implementation of the ethics checklist aims to foster trust among users by ensuring that ethical considerations are disclosed in generative AI-powered products and applications. This transparency is crucial for establishing reasonable trust in the capabilities of these technologies.\n",
      "\n",
      "#### Pros and Cons of Ethics in Generative AI\n",
      "\n",
      "**Pros:**\n",
      "- **Enhanced Trust**: Establishing clear ethical guidelines can help build user confidence in generative AI technologies, particularly in sensitive areas like healthcare.\n",
      "- **Improved Accountability**: An ethics checklist promotes accountability among researchers and developers, ensuring that ethical considerations are systematically addressed.\n",
      "- **Guidance for Development**: Ethical frameworks can guide the responsible development and deployment of generative AI, minimizing potential harms and maximizing benefits.\n",
      "\n",
      "**Cons:**\n",
      "- **Complexity of Implementation**: Integrating ethical considerations into existing frameworks may complicate the research and development processes, potentially slowing innovation.\n",
      "- **Potential for Overregulation**: Excessive focus on ethics could lead to overregulation, stifling creativity and the exploration of new applications for generative AI.\n",
      "- **Varied Interpretations**: Different stakeholders may interpret ethical guidelines differently, leading to inconsistencies in application and enforcement.\n",
      "\n",
      "#### Conclusion\n",
      "As generative AI technologies continue to evolve and permeate various aspects of healthcare, addressing ethical considerations is paramount. The proposed ethics checklist serves as a valuable tool for researchers and developers, promoting transparency and accountability while fostering trust among users. By systematically addressing ethical issues, the healthcare industry can harness the full potential of generative AI while safeguarding against its risks.\n"
     ]
    }
   ],
   "source": [
    "print(response.content)"
   ]
  },
  {
   "cell_type": "code",
   "execution_count": 250,
   "metadata": {
    "colab": {
     "base_uri": "https://localhost:8080/"
    },
    "id": "cC_wp-OBdxgh",
    "outputId": "6372b9a9-67c5-4745-b5ce-d64e16021521"
   },
   "outputs": [
    {
     "data": {
      "text/plain": [
       "[HumanMessage(content='\\nBased on the following research paper abstract,\\ncreate the summary report of maximum 10 lines\\nfor a general audience\\n\\nAbstract:\\n\\nThe widespread use of ChatGPT and other emerging technology powered by generative\\nartificial intelligence (AI) has drawn much attention to potential ethical issues, especially in\\nhigh-stakes applications such as healthcare.1–3 However, less clear is how to resolve such\\nissues beyond following guidelines and regulations that are still under discussion and\\ndevelopment. On the other hand, other types of generative AI have been used to synthesize\\nimages and other types of data for research and practical purposes, which have resolved some\\nethical issues and exposed other ethical issues,4,5 but such technology is less often the focus\\nof ongoing ethical discussions. Here we highlight gaps in current ethical discussions of\\ngenerative AI via a systematic scoping review of relevant existing research in healthcare, and\\nreduce the gaps by proposing an ethics checklist for comprehensive assessment and\\ntransparent documentation of ethical discussions in generative AI development. While the\\nchecklist can be readily integrated into the current peer review and publication system to\\nenhance generative AI research, it may also be used in broader settings to disclose ethicsrelated considerations in generative AI-powered products (or real-life applications of such\\nproducts) to help users establish reasonable trust in their capabilities.\\n\\nCurrent ethical discussions on generative AI in healthcare\\nWe conducted a systematic scoping review to analyse current ethical discussions on\\ngenerative AI in healthcare. Our search in four major academic research databases for\\nrelevant publications from January 2013 to July 2023 yielded 2859 articles (see Methods for\\ndetailed search strategy and Supplementary Figure S1 for the PRISMA flow diagram), of\\nwhich 193 articles were included for analysis based on application data modality (text, image,\\nor structured data), ethical issues discussed, generative AI involved, and whether generative\\nAI causes or offers technical solutions for issues raised.\\n\\nGenerative AI for text data-based healthcare\\nForty-one of the 193 articles discussed ethical considerations pertaining to generative AI\\napplications for text data, with 20 articles describing methodological developments or\\napplications of generative AI and the other 21 articles describing review-type works on this\\ntopic. Although some of these review-type articles used the general term “generative AI”, the\\nmain body and supporting evidence focused on LLMs. Twenty-nine articles had in-depth\\ndiscussions on ethical issues, whereas the other 12 articles only briefly touched on some\\nethical aspects.\\nAmong the 41 articles, 29 articles focused on discussing ethical issues caused by LLMs (and\\nspecifically by GPT in 16 of the articles), covering a wide range of application scenarios and\\nconsidered the application of all 10 ethical principles identified in the review (see Figure 1),\\nas well as other less discussed concerns such as human-AI interaction, and the rights of\\nLLMs to be considered as co-authors in scientific papers. One paper only commented briefly\\non the need for ethical considerations in LLMs and is summarised in the “Others” category.\\nAlthough all ethical principles are equally important, some are discussed more often than\\nothers, e.g., non-maleficence (also referred to in the literature as ‘benevolence’), equity, and\\nprivacy.\\nFifteen of the 41 articles aimed to resolve some existing ethical issues (for example,\\nconfidentiality of medical data) by using LLMs and other generative AI (e.g., GAN,\\nautoencoder or diffusion), such as, to reduce privacy concerns by generating synthetic\\nmedical text, to reduce disparity by providing accessible services and assistance, to detect\\nhealth-related misinformation, to generate trusted content, and to improve accountability or\\ntransparency over existing approaches. While most articles focused on either identifying\\nethical issues caused by generative AI or proposing generative AI-based solutions, three\\narticles discussed both to provide a more balanced perspective.\\n\\nGenerative AI for image and structured data-based healthcare\\nUnlike the diverse application scenarios of generative AI based on text data, for image and\\nstructured data, this use of generative AI focuses on data synthesis and encryption. Hence the\\nmajority of articles discussed the methodological developments of generative AI as giving\\nrise to a more distinctive and focused set of ethical issues.\\n5\\nNotably, of the 98 articles on image data and 58 articles on structured data, more than half\\n(n=63 for image data and n=33 for structured data) only mentioned ethical considerations as a\\nbrief motivation for methodological developments or as a general discussion point. The rest\\nincluded more in-depth discussions or evaluations of ethical issues. Among these 155 articles\\n(as one article covered multiple modalities), 11 articles were review-type work, where 10\\narticles reviewed methods that mentioned one or two ethical perspectives, and only one\\narticle24 discussed detailed ethical concerns on generative AI applications.\\nResolving privacy issues was the main aim of articles for these two data modalities (n=74 for\\nimage data and n=50 for structured data; see Figure 1), predominantly by generating synthetic\\ndata using GAN. Eight articles on image data and 9 articles on structured data used\\ngenerative AI to reduce bias, e.g., by synthesizing data for under-represented subgroups in\\nexisting databases. For both data modalities, we did not see explicit discussions on resolving\\nautonomy, integrity, or morality issues using generative AI, and for structured data the articles\\nadditionally lacked discussions on trust or transparency.\\nOnly 11 articles for image data selectively discussed some ethical issues that generative AI\\ncan give rise to, without specific discussions regarding autonomy, integrity, or morality. For\\nstructured data, only 4 articles discussed equity, privacy, or data security issues caused by\\ngenerative AI. Only two articles on structured data included both the cause and resolving\\nperspectives by discussing ethical issues that may arise from limitations of methods\\nproposed, specifically bias induced when synthesizing data in order to resolve privacy issues.\\n\\n'),\n",
       " AIMessage(content='Summary:\\nThe use of generative artificial intelligence (AI) technologies like ChatGPT in healthcare raises ethical concerns. A systematic review identified gaps in ethical discussions and proposed an ethics checklist for transparent documentation. In healthcare, generative AI is used for text, image, and structured data, with a focus on resolving privacy issues and reducing bias. While some articles discuss ethical issues caused by generative AI, others propose solutions like generating synthetic data and improving transparency. However, discussions on autonomy, integrity, and morality issues are limited in the context of generative AI applications in healthcare.', response_metadata={'token_usage': {'completion_tokens': 115, 'prompt_tokens': 1321, 'total_tokens': 1436}, 'model_name': 'gpt-3.5-turbo', 'system_fingerprint': None, 'finish_reason': 'stop', 'logprobs': None}, id='run-c1ecfca5-f7b2-4f54-990d-b3e907698ed1-0'),\n",
       " HumanMessage(content='\\nUse only the research paper abstract from earlier and create a detailed report for a healthcare company.\\nIn the report, also include bullet points (3 max) for pros and cons of ethics in Generative AI\\n'),\n",
       " AIMessage(content='**Summary Report for Healthcare Company:**\\n\\nThe use of generative artificial intelligence (AI) technologies, such as ChatGPT, in healthcare has raised significant ethical concerns. A systematic scoping review highlighted gaps in current ethical discussions and proposed an ethics checklist for transparent documentation in the development of generative AI.\\n\\n**Key Points:**\\n- Generative AI is utilized in healthcare for text, image, and structured data applications.\\n- The focus is on addressing privacy issues and reducing bias through the generation of synthetic data.\\n- While some articles discuss ethical issues stemming from generative AI, others propose solutions to enhance transparency and accountability.\\n\\n**Pros of Ethics in Generative AI:**\\n- Enhances transparency and accountability in AI development.\\n- Facilitates the resolution of privacy concerns through the generation of synthetic data.\\n- Supports the reduction of bias by providing data for under-represented subgroups.\\n\\n**Cons of Ethics in Generative AI:**\\n- Limited discussions on autonomy, integrity, and morality issues in generative AI applications.\\n- Challenges in addressing complex ethical dilemmas that may arise from the use of AI in healthcare.\\n- Lack of explicit focus on trust and transparency issues in certain data modalities.\\n\\nThis report emphasizes the importance of integrating ethical considerations into the development and deployment of generative AI technologies in healthcare to ensure responsible and ethical use for the benefit of patients and healthcare providers.', response_metadata={'token_usage': {'completion_tokens': 275, 'prompt_tokens': 1583, 'total_tokens': 1858}, 'model_name': 'gpt-3.5-turbo', 'system_fingerprint': None, 'finish_reason': 'stop', 'logprobs': None}, id='run-5dd6da6d-0a4a-4690-ae55-2ecf36b37c8f-0')]"
      ]
     },
     "execution_count": 250,
     "metadata": {},
     "output_type": "execute_result"
    }
   ],
   "source": [
    "messages"
   ]
  },
  {
   "cell_type": "markdown",
   "metadata": {
    "id": "xS2PGF6DNMky"
   },
   "source": [
    "### Generate the third summary report\n",
    "\n",
    "Here we add the previous LLM response and the new instructions to the list of messages and send the whole thing to the LLM so it has access to the historical conversation"
   ]
  },
  {
   "cell_type": "code",
   "execution_count": 26,
   "metadata": {
    "id": "lD6sIrMVJrRx"
   },
   "outputs": [],
   "source": [
    "prompt_txt = f\"\"\"\n",
    "Use only the research paper abstract from earlier and create a detailed report for a generative AI company solving healthcare problems.\n",
    "In the report also include sections for key points mentioned around Generative AI for text, images and structured data based healthcare\n",
    "\"\"\"\n",
    "messages.append(HumanMessage(content=prompt_txt))\n",
    "user_instruction = {'instruction': messages}\n",
    "response = chain.invoke(user_instruction)"
   ]
  },
  {
   "cell_type": "code",
   "execution_count": 27,
   "metadata": {
    "colab": {
     "base_uri": "https://localhost:8080/"
    },
    "id": "fUjMVo63eZit",
    "outputId": "8e3ad813-30b5-4e3f-9b93-ce9a2e91397b"
   },
   "outputs": [
    {
     "name": "stdout",
     "output_type": "stream",
     "text": [
      "### Detailed Report on Generative AI in Healthcare\n",
      "\n",
      "#### Introduction\n",
      "The integration of generative artificial intelligence (AI) technologies, such as ChatGPT, into healthcare has sparked significant ethical discussions. This report synthesizes findings from a systematic review of existing literature on the ethical implications of generative AI in healthcare, focusing on the use of AI for text, images, and structured data. It highlights the current gaps in ethical discussions and proposes a comprehensive ethics checklist to guide future research and applications.\n",
      "\n",
      "#### Key Points\n",
      "\n",
      "**Generative AI for Text Data in Healthcare**\n",
      "- A total of 41 articles were identified that discuss ethical considerations related to text-based generative AI applications.\n",
      "- Key ethical issues include non-maleficence, equity, and privacy, with a significant focus on large language models (LLMs) like GPT.\n",
      "- Many articles propose solutions to ethical challenges, such as using LLMs to enhance confidentiality and reduce health-related misinformation.\n",
      "\n",
      "**Generative AI for Image Data in Healthcare**\n",
      "- The review identified 98 articles discussing generative AI applications for image data, with a focus on data synthesis and encryption.\n",
      "- Ethical considerations were often mentioned briefly, with a primary emphasis on resolving privacy issues through synthetic data generation.\n",
      "- Discussions on autonomy, integrity, and morality were notably limited, indicating a need for deeper exploration of these topics.\n",
      "\n",
      "**Generative AI for Structured Data in Healthcare**\n",
      "- A total of 58 articles focused on structured data, with many addressing ethical considerations only superficially.\n",
      "- The main ethical focus was on privacy, with some articles discussing bias reduction through data synthesis for under-represented groups.\n",
      "- There was a lack of comprehensive discussions on trust, transparency, and the ethical implications of generative AI methods.\n",
      "\n",
      "#### Proposed Ethics Checklist\n",
      "To address the identified gaps in ethical discussions, the authors propose an ethics checklist designed to facilitate thorough assessments and transparent documentation of ethical considerations in generative AI development. This checklist can be integrated into existing peer review and publication processes, enhancing the ethical rigor of generative AI research.\n",
      "\n",
      "#### Conclusion\n",
      "As generative AI technologies continue to evolve and play a crucial role in healthcare, addressing ethical considerations is essential. The proposed ethics checklist serves as a valuable tool for researchers and developers, promoting transparency and accountability while fostering trust among users. By systematically addressing ethical issues, the healthcare industry can harness the full potential of generative AI while safeguarding against its risks.\n"
     ]
    }
   ],
   "source": [
    "print(response.content)"
   ]
  },
  {
   "cell_type": "markdown",
   "metadata": {
    "id": "eX8i7Yg2NS9F"
   },
   "source": [
    "## Mini-Project 3: Social Media Marketing Analyst\n",
    "\n",
    "You have the technical fact sheets of one smartphone. Try some iterative prompt engineering and do the following:\n",
    "\n",
    "1. Generate marketing product description for the smartphone\n",
    "\n",
    "2. Custom product description which has the following:\n",
    "\n",
    "```\n",
    "The description should follow this format:\n",
    "\n",
    "Product Name: <Name of the smartphone>\n",
    "​\n",
    "Description: <Brief Overview of the features>\n",
    "​\n",
    "Product Specifications:\n",
    "<Table with key product feature specifications>\n",
    "​\n",
    "The description should focus on the most important features\n",
    "a customer might look for in a phone including the foldable display screen, processing power, RAM, camera and battery life.\n",
    "​\n",
    "After the description, the table should have the\n",
    "key specifications of the product. It should have two columns.\n",
    "The first column should have 'Feature'\n",
    "and the second column should have 'Specification'\n",
    "and try to put exact numeric values for features if they exist.\n",
    "Only put these features in the table - foldable display screen, processing power, RAM, camera and battery life\n",
    "```\n",
    "\n",
    "3. Custom product description focusing on specific aspects like display, camera and in less than 60 words"
   ]
  },
  {
   "cell_type": "markdown",
   "metadata": {
    "id": "NmADan2jQmWt"
   },
   "source": [
    "### Access the product factsheet data"
   ]
  },
  {
   "cell_type": "code",
   "execution_count": 253,
   "metadata": {
    "id": "tyaP_Ab_L9c5"
   },
   "outputs": [],
   "source": [
    "fact_sheet_mobile = \"\"\"\n",
    "PRODUCT NAME\n",
    "Samsung Galaxy Z Fold4 5G Black\n",
    "​\n",
    "PRODUCT OVERVIEW\n",
    "Stands out. Stands up. Unfolds.\n",
    "The Galaxy Z Fold4 does a lot in one hand with its 15.73 cm(6.2-inch) Cover Screen.\n",
    "Unfolded, the 19.21 cm(7.6-inch) Main Screen lets you really get into the zone.\n",
    "Pushed-back bezels and the Under Display Camera means there's more screen\n",
    "and no black dot getting between you and the breathtaking Infinity Flex Display.\n",
    "Do more than more with Multi View. Whether toggling between texts or catching up\n",
    "on emails, take full advantage of the expansive Main Screen with Multi View.\n",
    "PC-like power thanks to Qualcomm Snapdragon 8+ Gen 1 processor in your pocket,\n",
    "transforms apps optimized with One UI to give you menus and more in a glance\n",
    "New Taskbar for PC-like multitasking. Wipe out tasks in fewer taps. Add\n",
    "apps to the Taskbar for quick navigation and bouncing between windows when\n",
    "you're in the groove.4 And with App Pair, one tap launches up to three apps,\n",
    "all sharing one super-productive screen\n",
    "Our toughest Samsung Galaxy foldables ever. From the inside out,\n",
    "Galaxy Z Fold4 is made with materials that are not only stunning,\n",
    "but stand up to life's bumps and fumbles. The front and rear panels,\n",
    "made with exclusive Corning Gorilla Glass Victus+, are ready to resist\n",
    "sneaky scrapes and scratches. With our toughest aluminum frame made with\n",
    "Armor Aluminum, this is one durable smartphone.\n",
    "World’s first water resistant foldable smartphones. Be adventurous, rain\n",
    "or shine. You don't have to sweat the forecast when you've got one of the\n",
    "world's first water-resistant foldable smartphones.\n",
    "​\n",
    "PRODUCT SPECS\n",
    "OS - Android 12.0\n",
    "RAM - 12 GB\n",
    "Product Dimensions - 15.5 x 13 x 0.6 cm; 263 Grams\n",
    "Batteries - 2 Lithium Ion batteries required. (included)\n",
    "Item model number - SM-F936BZKDINU_5\n",
    "Wireless communication technologies - Cellular\n",
    "Connectivity technologies - Bluetooth, Wi-Fi, USB, NFC\n",
    "GPS - True\n",
    "Special features - Fast Charging Support, Dual SIM, Wireless Charging, Built-In GPS, Water Resistant\n",
    "Other display features - Wireless\n",
    "Device interface - primary - Touchscreen\n",
    "Resolution - 2176x1812\n",
    "Other camera features - Rear, Front\n",
    "Form factor - Foldable Screen\n",
    "Colour - Phantom Black\n",
    "Battery Power Rating - 4400\n",
    "Whats in the box - SIM Tray Ejector, USB Cable\n",
    "Manufacturer - Samsung India pvt Ltd\n",
    "Country of Origin - China\n",
    "Item Weight - 263 g\n",
    "\"\"\""
   ]
  },
  {
   "cell_type": "markdown",
   "metadata": {
    "id": "didH1ICSQrX0"
   },
   "source": [
    "### Create prompt template for the first advert"
   ]
  },
  {
   "cell_type": "code",
   "execution_count": 254,
   "metadata": {
    "id": "2EJ2PPzJN3U5"
   },
   "outputs": [],
   "source": [
    "prompt_txt = \"\"\"\n",
    "Act as a marketing manager.\n",
    "Your task is to help a marketing team create a\n",
    "description for a retail website advert of a product based\n",
    "on a technical fact sheet specifications for a mobile smartphone\n",
    "​\n",
    "Write a brief product description\n",
    "\n",
    "Technical specifications:\n",
    "{fact_sheet_mobile}\n",
    "\"\"\"\n",
    "chat_template = ChatPromptTemplate.from_template(prompt_txt)"
   ]
  },
  {
   "cell_type": "markdown",
   "metadata": {
    "id": "tq1SXWSBQuzJ"
   },
   "source": [
    "### Use an LCEL LLM Chain to generate the first advert"
   ]
  },
  {
   "cell_type": "code",
   "execution_count": 255,
   "metadata": {
    "id": "Shlyf_lxOo1E"
   },
   "outputs": [],
   "source": [
    "chain = (chat_template\n",
    "            |\n",
    "         chatgpt)\n",
    "response = chain.invoke({\"fact_sheet_mobile\": fact_sheet_mobile})"
   ]
  },
  {
   "cell_type": "code",
   "execution_count": 256,
   "metadata": {
    "colab": {
     "base_uri": "https://localhost:8080/"
    },
    "id": "ZGlB6xteO-FP",
    "outputId": "3453137f-7d28-4625-a671-669800b02c80"
   },
   "outputs": [
    {
     "name": "stdout",
     "output_type": "stream",
     "text": [
      "Introducing the Samsung Galaxy Z Fold4 5G Black - the ultimate smartphone that stands out, stands up, and unfolds to reveal a world of possibilities. With a stunning 6.2-inch Cover Screen and a massive 7.6-inch Main Screen, you can truly immerse yourself in your favorite content like never before.\n",
      "\n",
      "Powered by the Qualcomm Snapdragon 8+ Gen 1 processor and 12GB of RAM, the Galaxy Z Fold4 offers PC-like power in your pocket. The new Taskbar feature allows for seamless multitasking, while the App Pair function lets you launch up to three apps on one screen for maximum productivity.\n",
      "\n",
      "Not only is the Galaxy Z Fold4 powerful, but it's also durable. Made with Corning Gorilla Glass Victus+ and Armor Aluminum, this smartphone can withstand life's bumps and fumbles. Plus, it's the world's first water-resistant foldable smartphone, so you can be adventurous rain or shine.\n",
      "\n",
      "Experience the future of smartphones with the Samsung Galaxy Z Fold4 5G Black. Get yours today and elevate your mobile experience like never before.\n"
     ]
    }
   ],
   "source": [
    "print(response.content)"
   ]
  },
  {
   "cell_type": "code",
   "execution_count": 257,
   "metadata": {
    "colab": {
     "base_uri": "https://localhost:8080/",
     "height": 169
    },
    "id": "jPE1vZuTPgJs",
    "outputId": "9ca9384f-5b95-48f8-e18b-28ea9aa59aa7"
   },
   "outputs": [
    {
     "data": {
      "text/markdown": [
       "Introducing the Samsung Galaxy Z Fold4 5G Black - the ultimate smartphone that stands out, stands up, and unfolds to reveal a world of possibilities. With a stunning 6.2-inch Cover Screen and a massive 7.6-inch Main Screen, you can truly immerse yourself in your favorite content like never before.\n",
       "\n",
       "Powered by the Qualcomm Snapdragon 8+ Gen 1 processor and 12GB of RAM, the Galaxy Z Fold4 offers PC-like power in your pocket. The new Taskbar feature allows for seamless multitasking, while the App Pair function lets you launch up to three apps on one screen for maximum productivity.\n",
       "\n",
       "Not only is the Galaxy Z Fold4 powerful, but it's also durable. Made with Corning Gorilla Glass Victus+ and Armor Aluminum, this smartphone can withstand life's bumps and fumbles. Plus, it's the world's first water-resistant foldable smartphone, so you can be adventurous rain or shine.\n",
       "\n",
       "Experience the future of smartphones with the Samsung Galaxy Z Fold4 5G Black. Get yours today and elevate your mobile experience like never before."
      ],
      "text/plain": [
       "<IPython.core.display.Markdown object>"
      ]
     },
     "metadata": {},
     "output_type": "display_data"
    }
   ],
   "source": [
    "from IPython.display import display, Markdown\n",
    "display(Markdown(response.content))"
   ]
  },
  {
   "cell_type": "markdown",
   "metadata": {
    "id": "iqNQsEWPQ3qz"
   },
   "source": [
    "### Create prompt template for the second advert"
   ]
  },
  {
   "cell_type": "code",
   "execution_count": 258,
   "metadata": {
    "id": "j-CsFl0FPA9z"
   },
   "outputs": [],
   "source": [
    "prompt_txt = \"\"\"\n",
    "Act as a marketing manager.\n",
    "Your task is to help a marketing team create a\n",
    "description for a retail website advert of a product based\n",
    "on a technical fact sheet specifications for a mobile smartphone\n",
    "​\n",
    "The description should follow this format:\n",
    "\n",
    "Product Name: <Name of the smartphone>\n",
    "​\n",
    "Description: <Brief Overview of the features>\n",
    "​\n",
    "Product Specifications:\n",
    "<Table with key product feature specifications>\n",
    "​\n",
    "The description should focus on the most important features\n",
    "a customer might look for in a phone including the foldable display screen, processing power, RAM, camera and battery life.\n",
    "​\n",
    "After the description, the table should have the\n",
    "key specifications of the product. It should have two columns.\n",
    "The first column should have 'Feature'\n",
    "and the second column should have 'Specification'\n",
    "and try to put exact numeric values for features if they exist.\n",
    "Only put these features in the table - foldable display screen, processing power, RAM, camera and battery life\n",
    "\n",
    "Technical specifications:\n",
    "{fact_sheet_mobile}\n",
    "\"\"\"\n",
    "chat_template = ChatPromptTemplate.from_template(prompt_txt)"
   ]
  },
  {
   "cell_type": "markdown",
   "metadata": {
    "id": "C6EmK1TkRADG"
   },
   "source": [
    "### Use an LCEL LLM Chain to generate the second advert"
   ]
  },
  {
   "cell_type": "code",
   "execution_count": 259,
   "metadata": {
    "id": "uievnu1GPSgj"
   },
   "outputs": [],
   "source": [
    "chain = (chat_template\n",
    "            |\n",
    "         chatgpt)\n",
    "response = chain.invoke({\"fact_sheet_mobile\": fact_sheet_mobile})"
   ]
  },
  {
   "cell_type": "code",
   "execution_count": 260,
   "metadata": {
    "colab": {
     "base_uri": "https://localhost:8080/"
    },
    "id": "2fY4nEK3PUbU",
    "outputId": "e5ef446f-5b69-468e-f3be-db2ccb0c0a6b"
   },
   "outputs": [
    {
     "name": "stdout",
     "output_type": "stream",
     "text": [
      "Product Name: Samsung Galaxy Z Fold4 5G Black\n",
      "\n",
      "Description: The Samsung Galaxy Z Fold4 5G Black is a revolutionary foldable smartphone that combines cutting-edge technology with a sleek design. With a 15.73 cm(6.2-inch) Cover Screen and a 19.21 cm(7.6-inch) Main Screen, you can enjoy a truly immersive experience. The Qualcomm Snapdragon 8+ Gen 1 processor ensures PC-like power in your pocket, while the Under Display Camera and Multi View feature enhance your multitasking capabilities. This durable smartphone is made with Corning Gorilla Glass Victus+ and Armor Aluminum, making it our toughest Galaxy foldable yet. Plus, it's the world's first water-resistant foldable smartphone, so you can be adventurous rain or shine.\n",
      "\n",
      "Product Specifications:\n",
      "\n",
      "| Feature                  | Specification       |\n",
      "|--------------------------|---------------------|\n",
      "| Foldable Display Screen  | 15.73 cm Cover Screen, 19.21 cm Main Screen |\n",
      "| Processing Power         | Qualcomm Snapdragon 8+ Gen 1 processor |\n",
      "| RAM                      | 12 GB               |\n",
      "| Camera                   | Rear and Front      |\n",
      "| Battery Life             | 4400 mAh            |\n"
     ]
    }
   ],
   "source": [
    "print(response.content)"
   ]
  },
  {
   "cell_type": "code",
   "execution_count": 261,
   "metadata": {
    "colab": {
     "base_uri": "https://localhost:8080/",
     "height": 352
    },
    "id": "dsBjspPgPWX7",
    "outputId": "5465303d-b961-4053-aee2-b21562702ab7"
   },
   "outputs": [
    {
     "data": {
      "text/markdown": [
       "Product Name: Samsung Galaxy Z Fold4 5G Black\n",
       "\n",
       "Description: The Samsung Galaxy Z Fold4 5G Black is a revolutionary foldable smartphone that combines cutting-edge technology with a sleek design. With a 15.73 cm(6.2-inch) Cover Screen and a 19.21 cm(7.6-inch) Main Screen, you can enjoy a truly immersive experience. The Qualcomm Snapdragon 8+ Gen 1 processor ensures PC-like power in your pocket, while the Under Display Camera and Multi View feature enhance your multitasking capabilities. This durable smartphone is made with Corning Gorilla Glass Victus+ and Armor Aluminum, making it our toughest Galaxy foldable yet. Plus, it's the world's first water-resistant foldable smartphone, so you can be adventurous rain or shine.\n",
       "\n",
       "Product Specifications:\n",
       "\n",
       "| Feature                  | Specification       |\n",
       "|--------------------------|---------------------|\n",
       "| Foldable Display Screen  | 15.73 cm Cover Screen, 19.21 cm Main Screen |\n",
       "| Processing Power         | Qualcomm Snapdragon 8+ Gen 1 processor |\n",
       "| RAM                      | 12 GB               |\n",
       "| Camera                   | Rear and Front      |\n",
       "| Battery Life             | 4400 mAh            |"
      ],
      "text/plain": [
       "<IPython.core.display.Markdown object>"
      ]
     },
     "metadata": {},
     "output_type": "display_data"
    }
   ],
   "source": [
    "from IPython.display import display, Markdown\n",
    "display(Markdown(response.content))"
   ]
  },
  {
   "cell_type": "markdown",
   "metadata": {
    "id": "oPytTJ6KQ50L"
   },
   "source": [
    "### Create prompt template for the third advert"
   ]
  },
  {
   "cell_type": "code",
   "execution_count": 262,
   "metadata": {
    "id": "1nB4OZp0PcN6"
   },
   "outputs": [],
   "source": [
    "prompt_txt = \"\"\"\n",
    "Act as a marketing manager.\n",
    "Your task is to help a marketing team create a\n",
    "description for a retail website advert of a product based\n",
    "on a technical fact sheet specifications for a mobile smartphone\n",
    "​\n",
    "Write a catchy product description with some emojis,\n",
    "which uses at most 60 words\n",
    "and focuses on the most important things about the smartphone\n",
    "which might matter to users like display and camera\n",
    "\n",
    "Technical specifications:\n",
    "{fact_sheet_mobile}\n",
    "\"\"\"\n",
    "chat_template = ChatPromptTemplate.from_template(prompt_txt)"
   ]
  },
  {
   "cell_type": "markdown",
   "metadata": {
    "id": "4wKXMaZbRCxO"
   },
   "source": [
    "### Use an LCEL LLM Chain to generate the third advert"
   ]
  },
  {
   "cell_type": "code",
   "execution_count": 263,
   "metadata": {
    "id": "hDAYappnQXN4"
   },
   "outputs": [],
   "source": [
    "chain = (chat_template\n",
    "            |\n",
    "         chatgpt)\n",
    "response = chain.invoke({\"fact_sheet_mobile\": fact_sheet_mobile})"
   ]
  },
  {
   "cell_type": "code",
   "execution_count": 264,
   "metadata": {
    "colab": {
     "base_uri": "https://localhost:8080/"
    },
    "id": "2_QMf99GQZZo",
    "outputId": "905076b3-c9a7-43e8-aeb3-3822ba1a2997"
   },
   "outputs": [
    {
     "name": "stdout",
     "output_type": "stream",
     "text": [
      "🌟 Introducing the Samsung Galaxy Z Fold4 5G Black 📱 Unfold endless possibilities with a 7.6-inch Main Screen and Under Display Camera for a seamless viewing experience. 💫 Powered by Qualcomm Snapdragon 8+ Gen 1 processor, multitask like a pro with Multi View and Taskbar for PC-like efficiency. 🚀 With water-resistant and durable design, this is the ultimate smartphone for the modern adventurer. #GalaxyZFold4 #InnovationUnfolds 🌈\n"
     ]
    }
   ],
   "source": [
    "print(response.content)"
   ]
  },
  {
   "cell_type": "code",
   "execution_count": 265,
   "metadata": {
    "colab": {
     "base_uri": "https://localhost:8080/",
     "height": 81
    },
    "id": "tc7LJylgQa9j",
    "outputId": "3c983edb-f88d-4caf-8bcc-1d7a2b907a4e"
   },
   "outputs": [
    {
     "data": {
      "text/markdown": [
       "🌟 Introducing the Samsung Galaxy Z Fold4 5G Black 📱 Unfold endless possibilities with a 7.6-inch Main Screen and Under Display Camera for a seamless viewing experience. 💫 Powered by Qualcomm Snapdragon 8+ Gen 1 processor, multitask like a pro with Multi View and Taskbar for PC-like efficiency. 🚀 With water-resistant and durable design, this is the ultimate smartphone for the modern adventurer. #GalaxyZFold4 #InnovationUnfolds 🌈"
      ],
      "text/plain": [
       "<IPython.core.display.Markdown object>"
      ]
     },
     "metadata": {},
     "output_type": "display_data"
    }
   ],
   "source": [
    "from IPython.display import display, Markdown\n",
    "display(Markdown(response.content))"
   ]
  },
  {
   "cell_type": "markdown",
   "metadata": {
    "id": "EGvqHtrZRqTs"
   },
   "source": [
    "## Mini-Project 4 - IT Support Analyst\n",
    "\n",
    "Ask ChatGPT to act as a IT support agent, process each customer IT ticket message and output the response in JSON with the following fields\n",
    "\n",
    "```\n",
    "orig_msg: The original customer message\n",
    "orig_lang: Detected language of the customer message e.g. Spanish\n",
    "category: 1-2 word describing the category of the problem\n",
    "trans_msg: Translated customer message in English\n",
    "response: Response to the customer in orig_lang\n",
    "trans_response: Response to the customer in English\n",
    "```\n",
    "\n",
    "Try to use a JSON parser to get the responses in JSON for each ticket"
   ]
  },
  {
   "cell_type": "markdown",
   "metadata": {
    "id": "7g40fksfTNpQ"
   },
   "source": [
    "### Define Output Parser"
   ]
  },
  {
   "cell_type": "code",
   "execution_count": 266,
   "metadata": {
    "id": "F7yEig9NRvsB"
   },
   "outputs": [],
   "source": [
    "from langchain_core.prompts import PromptTemplate\n",
    "from langchain_core.output_parsers import JsonOutputParser\n",
    "from langchain_core.pydantic_v1 import BaseModel, Field\n",
    "\n",
    "\n",
    "# Define your desired data structure - like a python data class.\n",
    "class ITSupportResponse(BaseModel):\n",
    "    orig_msg: str = Field(description=\"The original customer IT support query message\")\n",
    "    orig_lang: str = Field(description=\"Detected language of the customer message e.g. Spanish\")\n",
    "    category: str = Field(description=\"1-2 word describing the category of the problem\")\n",
    "    trans_msg: str = Field(description=\"Translated customer IT support query message in English\")\n",
    "    response: str = Field(description=\"Response to the customer in their original language - orig_lang\")\n",
    "    trans_response: str = Field(description=\"Response to the customer in English\")\n",
    "\n",
    "\n",
    "parser = JsonOutputParser(pydantic_object=ITSupportResponse)"
   ]
  },
  {
   "cell_type": "markdown",
   "metadata": {
    "id": "TEQL4DhYTZug"
   },
   "source": [
    "### Create the input prompt for the LLM"
   ]
  },
  {
   "cell_type": "code",
   "execution_count": 267,
   "metadata": {
    "id": "XbT3tGUUSIct"
   },
   "outputs": [],
   "source": [
    "# create the final prompt with formatting instructions from the parser\n",
    "prompt_txt = \"\"\"\n",
    "             Act as an Information Technology (IT) customer support agent.\n",
    "             For the IT support message mentioned below\n",
    "             use the following output format when generating the output response\n",
    "\n",
    "             Output format instructions:\n",
    "             {format_instructions}\n",
    "\n",
    "             Customer IT support message:\n",
    "             {it_support_msg}\n",
    "             \"\"\"\n",
    "prompt = PromptTemplate(\n",
    "    template=prompt_txt,\n",
    "    input_variables=[\"it_support_msg\"],\n",
    "    partial_variables={\"format_instructions\": parser.get_format_instructions()},\n",
    ")"
   ]
  },
  {
   "cell_type": "markdown",
   "metadata": {
    "id": "RMA7qY1XTeeR"
   },
   "source": [
    "### Create a LCEL LLM Chain"
   ]
  },
  {
   "cell_type": "code",
   "execution_count": 268,
   "metadata": {
    "id": "Le18crwjSnY_"
   },
   "outputs": [],
   "source": [
    "# create a simple LCEL chain to take the prompt, pass it to the LLM, enforce response format using the parser\n",
    "llm_chain = (prompt\n",
    "              |\n",
    "            chatgpt\n",
    "              |\n",
    "            parser)"
   ]
  },
  {
   "cell_type": "markdown",
   "metadata": {
    "id": "li4TbuTGTj2H"
   },
   "source": [
    "### Access Customer IT Support ticket data"
   ]
  },
  {
   "cell_type": "code",
   "execution_count": 269,
   "metadata": {
    "colab": {
     "base_uri": "https://localhost:8080/"
    },
    "id": "CdlcULKISsC2",
    "outputId": "16eb3869-ef21-46cf-c5b3-f63e4ce7a585"
   },
   "outputs": [
    {
     "data": {
      "text/plain": [
       "{'it_support_msg': 'Não consigo sincronizar meus contatos com o telefone. Sempre recebo uma mensagem de falha.'}"
      ]
     },
     "execution_count": 269,
     "metadata": {},
     "output_type": "execute_result"
    }
   ],
   "source": [
    "it_support_queue = [\n",
    "    \"Não consigo sincronizar meus contatos com o telefone. Sempre recebo uma mensagem de falha.\",\n",
    "    \"Ho problemi a stampare i documenti da remoto. Il lavoro non viene inviato alla stampante di rete.\",\n",
    "    \"プリンターのトナーを交換しましたが、印刷品質が低下しています。サポートが必要です。\",\n",
    "    \"Я не могу войти в систему учета времени, появляется сообщение об ошибке. Мне нужна помощь.\",\n",
    "    \"Internet bağlantım çok yavaş ve bazen tamamen kesiliyor. Yardım eder misiniz?\",\n",
    "    \"Не могу установить обновление безопасности. Появляется код ошибки. Помогите, пожалуйста.\"\n",
    "]\n",
    "\n",
    "formatted_msgs = [{\"it_support_msg\": msg}\n",
    "                    for msg in it_support_queue]\n",
    "formatted_msgs[0]"
   ]
  },
  {
   "cell_type": "markdown",
   "metadata": {
    "id": "MuTYg0GyTtei"
   },
   "source": [
    "### Get responses from the LLM"
   ]
  },
  {
   "cell_type": "code",
   "execution_count": 270,
   "metadata": {
    "id": "adEaXYtsSxWa"
   },
   "outputs": [],
   "source": [
    "responses = llm_chain.map().invoke(formatted_msgs)"
   ]
  },
  {
   "cell_type": "markdown",
   "metadata": {
    "id": "7iVZrIqITu3j"
   },
   "source": [
    "### View LLM responses"
   ]
  },
  {
   "cell_type": "code",
   "execution_count": 271,
   "metadata": {
    "colab": {
     "base_uri": "https://localhost:8080/"
    },
    "id": "EgbcB5K7S3z0",
    "outputId": "a35f454e-51cf-403b-a931-2aeae6e83b9d"
   },
   "outputs": [
    {
     "data": {
      "text/plain": [
       "{'orig_msg': 'Não consigo sincronizar meus contatos com o telefone. Sempre recebo uma mensagem de falha.',\n",
       " 'orig_lang': 'Portuguese',\n",
       " 'category': 'Sync Issue',\n",
       " 'trans_msg': \"I can't sync my contacts with the phone. I always receive a failure message.\",\n",
       " 'response': 'Por favor, verifique se a conexão com a internet está funcionando corretamente e tente sincronizar novamente. Se o problema persistir, entre em contato com nosso suporte técnico para obter assistência adicional.',\n",
       " 'trans_response': 'Please check if the internet connection is working properly and try to sync again. If the issue persists, please contact our technical support for further assistance.'}"
      ]
     },
     "execution_count": 271,
     "metadata": {},
     "output_type": "execute_result"
    }
   ],
   "source": [
    "responses[0]"
   ]
  },
  {
   "cell_type": "code",
   "execution_count": 272,
   "metadata": {
    "colab": {
     "base_uri": "https://localhost:8080/"
    },
    "id": "n9U5mhraS65l",
    "outputId": "8f350fc6-97e8-4116-b838-f26b4ca05194"
   },
   "outputs": [
    {
     "data": {
      "text/plain": [
       "dict"
      ]
     },
     "execution_count": 272,
     "metadata": {},
     "output_type": "execute_result"
    }
   ],
   "source": [
    "type(responses[0])"
   ]
  },
  {
   "cell_type": "code",
   "execution_count": 273,
   "metadata": {
    "colab": {
     "base_uri": "https://localhost:8080/",
     "height": 428
    },
    "id": "xD3rJqPGS-bd",
    "outputId": "7d13c32a-6007-478f-f2d7-9bcefeb89b08"
   },
   "outputs": [
    {
     "data": {
      "application/vnd.google.colaboratory.intrinsic+json": {
       "summary": "{\n  \"name\": \"df\",\n  \"rows\": 6,\n  \"fields\": [\n    {\n      \"column\": \"orig_msg\",\n      \"properties\": {\n        \"dtype\": \"string\",\n        \"num_unique_values\": 6,\n        \"samples\": [\n          \"N\\u00e3o consigo sincronizar meus contatos com o telefone. Sempre recebo uma mensagem de falha.\",\n          \"Ho problemi a stampare i documenti da remoto. Il lavoro non viene inviato alla stampante di rete.\",\n          \"\\u041d\\u0435 \\u043c\\u043e\\u0433\\u0443 \\u0443\\u0441\\u0442\\u0430\\u043d\\u043e\\u0432\\u0438\\u0442\\u044c \\u043e\\u0431\\u043d\\u043e\\u0432\\u043b\\u0435\\u043d\\u0438\\u0435 \\u0431\\u0435\\u0437\\u043e\\u043f\\u0430\\u0441\\u043d\\u043e\\u0441\\u0442\\u0438. \\u041f\\u043e\\u044f\\u0432\\u043b\\u044f\\u0435\\u0442\\u0441\\u044f \\u043a\\u043e\\u0434 \\u043e\\u0448\\u0438\\u0431\\u043a\\u0438. \\u041f\\u043e\\u043c\\u043e\\u0433\\u0438\\u0442\\u0435, \\u043f\\u043e\\u0436\\u0430\\u043b\\u0443\\u0439\\u0441\\u0442\\u0430.\"\n        ],\n        \"semantic_type\": \"\",\n        \"description\": \"\"\n      }\n    },\n    {\n      \"column\": \"orig_lang\",\n      \"properties\": {\n        \"dtype\": \"string\",\n        \"num_unique_values\": 5,\n        \"samples\": [\n          \"Italian\",\n          \"Turkish\",\n          \"Japanese\"\n        ],\n        \"semantic_type\": \"\",\n        \"description\": \"\"\n      }\n    },\n    {\n      \"column\": \"category\",\n      \"properties\": {\n        \"dtype\": \"string\",\n        \"num_unique_values\": 6,\n        \"samples\": [\n          \"Sync Issue\",\n          \"Printing\",\n          \"Installation\"\n        ],\n        \"semantic_type\": \"\",\n        \"description\": \"\"\n      }\n    },\n    {\n      \"column\": \"trans_msg\",\n      \"properties\": {\n        \"dtype\": \"string\",\n        \"num_unique_values\": 6,\n        \"samples\": [\n          \"I can't sync my contacts with the phone. I always receive a failure message.\",\n          \"I am having trouble printing documents remotely. The job is not being sent to the network printer.\",\n          \"Unable to install security update. Error code is appearing. Please help.\"\n        ],\n        \"semantic_type\": \"\",\n        \"description\": \"\"\n      }\n    },\n    {\n      \"column\": \"response\",\n      \"properties\": {\n        \"dtype\": \"string\",\n        \"num_unique_values\": 6,\n        \"samples\": [\n          \"Por favor, verifique se a conex\\u00e3o com a internet est\\u00e1 funcionando corretamente e tente sincronizar novamente. Se o problema persistir, entre em contato com nosso suporte t\\u00e9cnico para obter assist\\u00eancia adicional.\",\n          \"Grazie per averci contattato. Per risolvere il problema, ti consigliamo di controllare la connessione di rete e assicurarti che la stampante sia correttamente configurata. Se il problema persiste, ti preghiamo di contattarci nuovamente per ulteriore assistenza.\",\n          \"\\u0418\\u0437\\u0432\\u0438\\u043d\\u0438\\u0442\\u0435 \\u0437\\u0430 \\u0432\\u043e\\u0437\\u043d\\u0438\\u043a\\u0448\\u0438\\u0435 \\u043f\\u0440\\u043e\\u0431\\u043b\\u0435\\u043c\\u044b. \\u041f\\u043e\\u0436\\u0430\\u043b\\u0443\\u0439\\u0441\\u0442\\u0430, \\u043f\\u043e\\u043f\\u0440\\u043e\\u0431\\u0443\\u0439\\u0442\\u0435 \\u0432\\u044b\\u043f\\u043e\\u043b\\u043d\\u0438\\u0442\\u044c \\u0441\\u043b\\u0435\\u0434\\u0443\\u044e\\u0449\\u0438\\u0435 \\u0448\\u0430\\u0433\\u0438: 1. \\u041f\\u0435\\u0440\\u0435\\u0437\\u0430\\u0433\\u0440\\u0443\\u0437\\u0438\\u0442\\u0435 \\u043a\\u043e\\u043c\\u043f\\u044c\\u044e\\u0442\\u0435\\u0440. 2. \\u0417\\u0430\\u043f\\u0443\\u0441\\u0442\\u0438\\u0442\\u0435 \\u043f\\u0440\\u043e\\u0446\\u0435\\u0441\\u0441 \\u0443\\u0441\\u0442\\u0430\\u043d\\u043e\\u0432\\u043a\\u0438 \\u043e\\u0431\\u043d\\u043e\\u0432\\u043b\\u0435\\u043d\\u0438\\u044f \\u0441\\u043d\\u043e\\u0432\\u0430. \\u0415\\u0441\\u043b\\u0438 \\u043f\\u0440\\u043e\\u0431\\u043b\\u0435\\u043c\\u0430 \\u043d\\u0435 \\u0440\\u0435\\u0448\\u0435\\u043d\\u0430, \\u043e\\u0431\\u0440\\u0430\\u0442\\u0438\\u0442\\u0435\\u0441\\u044c \\u043a \\u0441\\u043b\\u0443\\u0436\\u0431\\u0435 \\u043f\\u043e\\u0434\\u0434\\u0435\\u0440\\u0436\\u043a\\u0438.\"\n        ],\n        \"semantic_type\": \"\",\n        \"description\": \"\"\n      }\n    },\n    {\n      \"column\": \"trans_response\",\n      \"properties\": {\n        \"dtype\": \"string\",\n        \"num_unique_values\": 6,\n        \"samples\": [\n          \"Please check if the internet connection is working properly and try to sync again. If the issue persists, please contact our technical support for further assistance.\",\n          \"Thank you for contacting us. To resolve the issue, we recommend checking the network connection and ensuring that the printer is properly configured. If the problem persists, please contact us again for further assistance.\",\n          \"Apologies for the inconvenience. Please try the following steps: 1. Restart your computer. 2. Retry the update installation process. If the issue persists, please contact support.\"\n        ],\n        \"semantic_type\": \"\",\n        \"description\": \"\"\n      }\n    }\n  ]\n}",
       "type": "dataframe",
       "variable_name": "df"
      },
      "text/html": [
       "\n",
       "  <div id=\"df-39435360-5ea2-49c5-a419-063716dc0c69\" class=\"colab-df-container\">\n",
       "    <div>\n",
       "<style scoped>\n",
       "    .dataframe tbody tr th:only-of-type {\n",
       "        vertical-align: middle;\n",
       "    }\n",
       "\n",
       "    .dataframe tbody tr th {\n",
       "        vertical-align: top;\n",
       "    }\n",
       "\n",
       "    .dataframe thead th {\n",
       "        text-align: right;\n",
       "    }\n",
       "</style>\n",
       "<table border=\"1\" class=\"dataframe\">\n",
       "  <thead>\n",
       "    <tr style=\"text-align: right;\">\n",
       "      <th></th>\n",
       "      <th>orig_msg</th>\n",
       "      <th>orig_lang</th>\n",
       "      <th>category</th>\n",
       "      <th>trans_msg</th>\n",
       "      <th>response</th>\n",
       "      <th>trans_response</th>\n",
       "    </tr>\n",
       "  </thead>\n",
       "  <tbody>\n",
       "    <tr>\n",
       "      <th>0</th>\n",
       "      <td>Não consigo sincronizar meus contatos com o te...</td>\n",
       "      <td>Portuguese</td>\n",
       "      <td>Sync Issue</td>\n",
       "      <td>I can't sync my contacts with the phone. I alw...</td>\n",
       "      <td>Por favor, verifique se a conexão com a intern...</td>\n",
       "      <td>Please check if the internet connection is wor...</td>\n",
       "    </tr>\n",
       "    <tr>\n",
       "      <th>1</th>\n",
       "      <td>Ho problemi a stampare i documenti da remoto. ...</td>\n",
       "      <td>Italian</td>\n",
       "      <td>Printing</td>\n",
       "      <td>I am having trouble printing documents remotel...</td>\n",
       "      <td>Grazie per averci contattato. Per risolvere il...</td>\n",
       "      <td>Thank you for contacting us. To resolve the is...</td>\n",
       "    </tr>\n",
       "    <tr>\n",
       "      <th>2</th>\n",
       "      <td>プリンターのトナーを交換しましたが、印刷品質が低下しています。サポートが必要です。</td>\n",
       "      <td>Japanese</td>\n",
       "      <td>Printer</td>\n",
       "      <td>I replaced the toner of the printer, but the p...</td>\n",
       "      <td>トナーを正しく交換したことを確認してください。プリンターのメンテナンスを行う必要があるかもし...</td>\n",
       "      <td>Please make sure you replaced the toner correc...</td>\n",
       "    </tr>\n",
       "    <tr>\n",
       "      <th>3</th>\n",
       "      <td>Я не могу войти в систему учета времени, появл...</td>\n",
       "      <td>Russian</td>\n",
       "      <td>Login Issue</td>\n",
       "      <td>I can't log into the time tracking system, an ...</td>\n",
       "      <td>Пожалуйста, попробуйте сбросить пароль и попро...</td>\n",
       "      <td>Please try resetting your password and try aga...</td>\n",
       "    </tr>\n",
       "    <tr>\n",
       "      <th>4</th>\n",
       "      <td>Internet bağlantım çok yavaş ve bazen tamamen ...</td>\n",
       "      <td>Turkish</td>\n",
       "      <td>Internet Connectivity</td>\n",
       "      <td>My internet connection is very slow and someti...</td>\n",
       "      <td>Evet, tabii ki yardımcı olabiliriz. Lütfen mod...</td>\n",
       "      <td>Yes, of course we can help. Please check your ...</td>\n",
       "    </tr>\n",
       "    <tr>\n",
       "      <th>5</th>\n",
       "      <td>Не могу установить обновление безопасности. По...</td>\n",
       "      <td>Russian</td>\n",
       "      <td>Installation</td>\n",
       "      <td>Unable to install security update. Error code ...</td>\n",
       "      <td>Извините за возникшие проблемы. Пожалуйста, по...</td>\n",
       "      <td>Apologies for the inconvenience. Please try th...</td>\n",
       "    </tr>\n",
       "  </tbody>\n",
       "</table>\n",
       "</div>\n",
       "    <div class=\"colab-df-buttons\">\n",
       "\n",
       "  <div class=\"colab-df-container\">\n",
       "    <button class=\"colab-df-convert\" onclick=\"convertToInteractive('df-39435360-5ea2-49c5-a419-063716dc0c69')\"\n",
       "            title=\"Convert this dataframe to an interactive table.\"\n",
       "            style=\"display:none;\">\n",
       "\n",
       "  <svg xmlns=\"http://www.w3.org/2000/svg\" height=\"24px\" viewBox=\"0 -960 960 960\">\n",
       "    <path d=\"M120-120v-720h720v720H120Zm60-500h600v-160H180v160Zm220 220h160v-160H400v160Zm0 220h160v-160H400v160ZM180-400h160v-160H180v160Zm440 0h160v-160H620v160ZM180-180h160v-160H180v160Zm440 0h160v-160H620v160Z\"/>\n",
       "  </svg>\n",
       "    </button>\n",
       "\n",
       "  <style>\n",
       "    .colab-df-container {\n",
       "      display:flex;\n",
       "      gap: 12px;\n",
       "    }\n",
       "\n",
       "    .colab-df-convert {\n",
       "      background-color: #E8F0FE;\n",
       "      border: none;\n",
       "      border-radius: 50%;\n",
       "      cursor: pointer;\n",
       "      display: none;\n",
       "      fill: #1967D2;\n",
       "      height: 32px;\n",
       "      padding: 0 0 0 0;\n",
       "      width: 32px;\n",
       "    }\n",
       "\n",
       "    .colab-df-convert:hover {\n",
       "      background-color: #E2EBFA;\n",
       "      box-shadow: 0px 1px 2px rgba(60, 64, 67, 0.3), 0px 1px 3px 1px rgba(60, 64, 67, 0.15);\n",
       "      fill: #174EA6;\n",
       "    }\n",
       "\n",
       "    .colab-df-buttons div {\n",
       "      margin-bottom: 4px;\n",
       "    }\n",
       "\n",
       "    [theme=dark] .colab-df-convert {\n",
       "      background-color: #3B4455;\n",
       "      fill: #D2E3FC;\n",
       "    }\n",
       "\n",
       "    [theme=dark] .colab-df-convert:hover {\n",
       "      background-color: #434B5C;\n",
       "      box-shadow: 0px 1px 3px 1px rgba(0, 0, 0, 0.15);\n",
       "      filter: drop-shadow(0px 1px 2px rgba(0, 0, 0, 0.3));\n",
       "      fill: #FFFFFF;\n",
       "    }\n",
       "  </style>\n",
       "\n",
       "    <script>\n",
       "      const buttonEl =\n",
       "        document.querySelector('#df-39435360-5ea2-49c5-a419-063716dc0c69 button.colab-df-convert');\n",
       "      buttonEl.style.display =\n",
       "        google.colab.kernel.accessAllowed ? 'block' : 'none';\n",
       "\n",
       "      async function convertToInteractive(key) {\n",
       "        const element = document.querySelector('#df-39435360-5ea2-49c5-a419-063716dc0c69');\n",
       "        const dataTable =\n",
       "          await google.colab.kernel.invokeFunction('convertToInteractive',\n",
       "                                                    [key], {});\n",
       "        if (!dataTable) return;\n",
       "\n",
       "        const docLinkHtml = 'Like what you see? Visit the ' +\n",
       "          '<a target=\"_blank\" href=https://colab.research.google.com/notebooks/data_table.ipynb>data table notebook</a>'\n",
       "          + ' to learn more about interactive tables.';\n",
       "        element.innerHTML = '';\n",
       "        dataTable['output_type'] = 'display_data';\n",
       "        await google.colab.output.renderOutput(dataTable, element);\n",
       "        const docLink = document.createElement('div');\n",
       "        docLink.innerHTML = docLinkHtml;\n",
       "        element.appendChild(docLink);\n",
       "      }\n",
       "    </script>\n",
       "  </div>\n",
       "\n",
       "\n",
       "<div id=\"df-d1aa2fc8-14d7-444f-9de9-dd3598283114\">\n",
       "  <button class=\"colab-df-quickchart\" onclick=\"quickchart('df-d1aa2fc8-14d7-444f-9de9-dd3598283114')\"\n",
       "            title=\"Suggest charts\"\n",
       "            style=\"display:none;\">\n",
       "\n",
       "<svg xmlns=\"http://www.w3.org/2000/svg\" height=\"24px\"viewBox=\"0 0 24 24\"\n",
       "     width=\"24px\">\n",
       "    <g>\n",
       "        <path d=\"M19 3H5c-1.1 0-2 .9-2 2v14c0 1.1.9 2 2 2h14c1.1 0 2-.9 2-2V5c0-1.1-.9-2-2-2zM9 17H7v-7h2v7zm4 0h-2V7h2v10zm4 0h-2v-4h2v4z\"/>\n",
       "    </g>\n",
       "</svg>\n",
       "  </button>\n",
       "\n",
       "<style>\n",
       "  .colab-df-quickchart {\n",
       "      --bg-color: #E8F0FE;\n",
       "      --fill-color: #1967D2;\n",
       "      --hover-bg-color: #E2EBFA;\n",
       "      --hover-fill-color: #174EA6;\n",
       "      --disabled-fill-color: #AAA;\n",
       "      --disabled-bg-color: #DDD;\n",
       "  }\n",
       "\n",
       "  [theme=dark] .colab-df-quickchart {\n",
       "      --bg-color: #3B4455;\n",
       "      --fill-color: #D2E3FC;\n",
       "      --hover-bg-color: #434B5C;\n",
       "      --hover-fill-color: #FFFFFF;\n",
       "      --disabled-bg-color: #3B4455;\n",
       "      --disabled-fill-color: #666;\n",
       "  }\n",
       "\n",
       "  .colab-df-quickchart {\n",
       "    background-color: var(--bg-color);\n",
       "    border: none;\n",
       "    border-radius: 50%;\n",
       "    cursor: pointer;\n",
       "    display: none;\n",
       "    fill: var(--fill-color);\n",
       "    height: 32px;\n",
       "    padding: 0;\n",
       "    width: 32px;\n",
       "  }\n",
       "\n",
       "  .colab-df-quickchart:hover {\n",
       "    background-color: var(--hover-bg-color);\n",
       "    box-shadow: 0 1px 2px rgba(60, 64, 67, 0.3), 0 1px 3px 1px rgba(60, 64, 67, 0.15);\n",
       "    fill: var(--button-hover-fill-color);\n",
       "  }\n",
       "\n",
       "  .colab-df-quickchart-complete:disabled,\n",
       "  .colab-df-quickchart-complete:disabled:hover {\n",
       "    background-color: var(--disabled-bg-color);\n",
       "    fill: var(--disabled-fill-color);\n",
       "    box-shadow: none;\n",
       "  }\n",
       "\n",
       "  .colab-df-spinner {\n",
       "    border: 2px solid var(--fill-color);\n",
       "    border-color: transparent;\n",
       "    border-bottom-color: var(--fill-color);\n",
       "    animation:\n",
       "      spin 1s steps(1) infinite;\n",
       "  }\n",
       "\n",
       "  @keyframes spin {\n",
       "    0% {\n",
       "      border-color: transparent;\n",
       "      border-bottom-color: var(--fill-color);\n",
       "      border-left-color: var(--fill-color);\n",
       "    }\n",
       "    20% {\n",
       "      border-color: transparent;\n",
       "      border-left-color: var(--fill-color);\n",
       "      border-top-color: var(--fill-color);\n",
       "    }\n",
       "    30% {\n",
       "      border-color: transparent;\n",
       "      border-left-color: var(--fill-color);\n",
       "      border-top-color: var(--fill-color);\n",
       "      border-right-color: var(--fill-color);\n",
       "    }\n",
       "    40% {\n",
       "      border-color: transparent;\n",
       "      border-right-color: var(--fill-color);\n",
       "      border-top-color: var(--fill-color);\n",
       "    }\n",
       "    60% {\n",
       "      border-color: transparent;\n",
       "      border-right-color: var(--fill-color);\n",
       "    }\n",
       "    80% {\n",
       "      border-color: transparent;\n",
       "      border-right-color: var(--fill-color);\n",
       "      border-bottom-color: var(--fill-color);\n",
       "    }\n",
       "    90% {\n",
       "      border-color: transparent;\n",
       "      border-bottom-color: var(--fill-color);\n",
       "    }\n",
       "  }\n",
       "</style>\n",
       "\n",
       "  <script>\n",
       "    async function quickchart(key) {\n",
       "      const quickchartButtonEl =\n",
       "        document.querySelector('#' + key + ' button');\n",
       "      quickchartButtonEl.disabled = true;  // To prevent multiple clicks.\n",
       "      quickchartButtonEl.classList.add('colab-df-spinner');\n",
       "      try {\n",
       "        const charts = await google.colab.kernel.invokeFunction(\n",
       "            'suggestCharts', [key], {});\n",
       "      } catch (error) {\n",
       "        console.error('Error during call to suggestCharts:', error);\n",
       "      }\n",
       "      quickchartButtonEl.classList.remove('colab-df-spinner');\n",
       "      quickchartButtonEl.classList.add('colab-df-quickchart-complete');\n",
       "    }\n",
       "    (() => {\n",
       "      let quickchartButtonEl =\n",
       "        document.querySelector('#df-d1aa2fc8-14d7-444f-9de9-dd3598283114 button');\n",
       "      quickchartButtonEl.style.display =\n",
       "        google.colab.kernel.accessAllowed ? 'block' : 'none';\n",
       "    })();\n",
       "  </script>\n",
       "</div>\n",
       "\n",
       "  <div id=\"id_4db1b797-3803-4088-a2c6-06b0f39eaa0d\">\n",
       "    <style>\n",
       "      .colab-df-generate {\n",
       "        background-color: #E8F0FE;\n",
       "        border: none;\n",
       "        border-radius: 50%;\n",
       "        cursor: pointer;\n",
       "        display: none;\n",
       "        fill: #1967D2;\n",
       "        height: 32px;\n",
       "        padding: 0 0 0 0;\n",
       "        width: 32px;\n",
       "      }\n",
       "\n",
       "      .colab-df-generate:hover {\n",
       "        background-color: #E2EBFA;\n",
       "        box-shadow: 0px 1px 2px rgba(60, 64, 67, 0.3), 0px 1px 3px 1px rgba(60, 64, 67, 0.15);\n",
       "        fill: #174EA6;\n",
       "      }\n",
       "\n",
       "      [theme=dark] .colab-df-generate {\n",
       "        background-color: #3B4455;\n",
       "        fill: #D2E3FC;\n",
       "      }\n",
       "\n",
       "      [theme=dark] .colab-df-generate:hover {\n",
       "        background-color: #434B5C;\n",
       "        box-shadow: 0px 1px 3px 1px rgba(0, 0, 0, 0.15);\n",
       "        filter: drop-shadow(0px 1px 2px rgba(0, 0, 0, 0.3));\n",
       "        fill: #FFFFFF;\n",
       "      }\n",
       "    </style>\n",
       "    <button class=\"colab-df-generate\" onclick=\"generateWithVariable('df')\"\n",
       "            title=\"Generate code using this dataframe.\"\n",
       "            style=\"display:none;\">\n",
       "\n",
       "  <svg xmlns=\"http://www.w3.org/2000/svg\" height=\"24px\"viewBox=\"0 0 24 24\"\n",
       "       width=\"24px\">\n",
       "    <path d=\"M7,19H8.4L18.45,9,17,7.55,7,17.6ZM5,21V16.75L18.45,3.32a2,2,0,0,1,2.83,0l1.4,1.43a1.91,1.91,0,0,1,.58,1.4,1.91,1.91,0,0,1-.58,1.4L9.25,21ZM18.45,9,17,7.55Zm-12,3A5.31,5.31,0,0,0,4.9,8.1,5.31,5.31,0,0,0,1,6.5,5.31,5.31,0,0,0,4.9,4.9,5.31,5.31,0,0,0,6.5,1,5.31,5.31,0,0,0,8.1,4.9,5.31,5.31,0,0,0,12,6.5,5.46,5.46,0,0,0,6.5,12Z\"/>\n",
       "  </svg>\n",
       "    </button>\n",
       "    <script>\n",
       "      (() => {\n",
       "      const buttonEl =\n",
       "        document.querySelector('#id_4db1b797-3803-4088-a2c6-06b0f39eaa0d button.colab-df-generate');\n",
       "      buttonEl.style.display =\n",
       "        google.colab.kernel.accessAllowed ? 'block' : 'none';\n",
       "\n",
       "      buttonEl.onclick = () => {\n",
       "        google.colab.notebook.generateWithVariable('df');\n",
       "      }\n",
       "      })();\n",
       "    </script>\n",
       "  </div>\n",
       "\n",
       "    </div>\n",
       "  </div>\n"
      ],
      "text/plain": [
       "                                            orig_msg   orig_lang  \\\n",
       "0  Não consigo sincronizar meus contatos com o te...  Portuguese   \n",
       "1  Ho problemi a stampare i documenti da remoto. ...     Italian   \n",
       "2          プリンターのトナーを交換しましたが、印刷品質が低下しています。サポートが必要です。    Japanese   \n",
       "3  Я не могу войти в систему учета времени, появл...     Russian   \n",
       "4  Internet bağlantım çok yavaş ve bazen tamamen ...     Turkish   \n",
       "5  Не могу установить обновление безопасности. По...     Russian   \n",
       "\n",
       "                category                                          trans_msg  \\\n",
       "0             Sync Issue  I can't sync my contacts with the phone. I alw...   \n",
       "1               Printing  I am having trouble printing documents remotel...   \n",
       "2                Printer  I replaced the toner of the printer, but the p...   \n",
       "3            Login Issue  I can't log into the time tracking system, an ...   \n",
       "4  Internet Connectivity  My internet connection is very slow and someti...   \n",
       "5           Installation  Unable to install security update. Error code ...   \n",
       "\n",
       "                                            response  \\\n",
       "0  Por favor, verifique se a conexão com a intern...   \n",
       "1  Grazie per averci contattato. Per risolvere il...   \n",
       "2  トナーを正しく交換したことを確認してください。プリンターのメンテナンスを行う必要があるかもし...   \n",
       "3  Пожалуйста, попробуйте сбросить пароль и попро...   \n",
       "4  Evet, tabii ki yardımcı olabiliriz. Lütfen mod...   \n",
       "5  Извините за возникшие проблемы. Пожалуйста, по...   \n",
       "\n",
       "                                      trans_response  \n",
       "0  Please check if the internet connection is wor...  \n",
       "1  Thank you for contacting us. To resolve the is...  \n",
       "2  Please make sure you replaced the toner correc...  \n",
       "3  Please try resetting your password and try aga...  \n",
       "4  Yes, of course we can help. Please check your ...  \n",
       "5  Apologies for the inconvenience. Please try th...  "
      ]
     },
     "execution_count": 273,
     "metadata": {},
     "output_type": "execute_result"
    }
   ],
   "source": [
    "import pandas as pd\n",
    "\n",
    "df = pd.DataFrame(responses)\n",
    "df"
   ]
  },
  {
   "cell_type": "markdown",
   "metadata": {
    "id": "IKS3-MEFTyjM"
   },
   "source": [
    "Try out more use-cases based on your own problems using what you learnt!"
   ]
  }
 ],
 "metadata": {
  "colab": {
   "provenance": []
  },
  "kernelspec": {
   "display_name": "ai-env",
   "language": "python",
   "name": "python3"
  },
  "language_info": {
   "codemirror_mode": {
    "name": "ipython",
    "version": 3
   },
   "file_extension": ".py",
   "mimetype": "text/x-python",
   "name": "python",
   "nbconvert_exporter": "python",
   "pygments_lexer": "ipython3",
   "version": "3.11.4"
  }
 },
 "nbformat": 4,
 "nbformat_minor": 4
}
