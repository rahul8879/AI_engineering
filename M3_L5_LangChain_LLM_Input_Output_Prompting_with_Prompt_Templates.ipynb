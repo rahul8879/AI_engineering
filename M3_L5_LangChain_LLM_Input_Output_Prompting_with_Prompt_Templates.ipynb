{
 "cells": [
  {
   "cell_type": "markdown",
   "metadata": {
    "id": "TVraWpDTW8i0"
   },
   "source": [
    "# Prompting with Prompt Templates for LLM Input / Output with LangChain"
   ]
  },
  {
   "cell_type": "markdown",
   "metadata": {
    "id": "L1KvMtf54l0d"
   },
   "source": [
    "## Install OpenAI, HuggingFace and LangChain dependencies"
   ]
  },
  {
   "cell_type": "code",
   "execution_count": null,
   "metadata": {},
   "outputs": [],
   "source": [
    "!pip install langchain==0.3.11\n",
    "!pip install langchain-openai==0.2.12\n",
    "!pip install langchain-community==0.3.11"
   ]
  },
  {
   "cell_type": "markdown",
   "metadata": {
    "id": "PtBa7rlWJWH3"
   },
   "source": [
    "## Enter API Tokens"
   ]
  },
  {
   "cell_type": "markdown",
   "metadata": {
    "id": "Y6RD7As2sm8G"
   },
   "source": [
    "#### Enter your Open AI Key here\n",
    "\n",
    "You can get the key from [here](https://platform.openai.com/api-keys) after creating an account or signing in"
   ]
  },
  {
   "cell_type": "code",
   "execution_count": null,
   "metadata": {},
   "outputs": [],
   "source": [
    "from getpass import getpass\n",
    "\n",
    "OPENAI_KEY = getpass('Enter Open AI API Key: ')"
   ]
  },
  {
   "cell_type": "code",
   "execution_count": 5,
   "metadata": {
    "id": "cKlax-updNW-"
   },
   "outputs": [],
   "source": [
    "import os\n",
    "os.environ['OPENAI_API_KEY'] = OPENAI_KEY"
   ]
  },
  {
   "cell_type": "markdown",
   "metadata": {
    "id": "_4h0xywyJ3v7"
   },
   "source": [
    "## Chat Models and LLMs\n",
    "\n",
    "Large Language Models (LLMs) are a core component of LangChain. LangChain does not implement or build its own LLMs. It provides a standard API for interacting with almost every LLM out there.\n",
    "\n",
    "There are lots of LLM providers (OpenAI, Hugging Face, etc) - the LLM class is designed to provide a standard interface for all of them."
   ]
  },
  {
   "cell_type": "markdown",
   "metadata": {
    "id": "cSdF6_R7J45Z"
   },
   "source": [
    "## Accessing Commercial LLMs like ChatGPT"
   ]
  },
  {
   "cell_type": "code",
   "execution_count": 6,
   "metadata": {
    "id": "v8nnrOGxZ2uZ"
   },
   "outputs": [],
   "source": [
    "from langchain_openai import ChatOpenAI\n",
    "\n",
    "chatgpt = ChatOpenAI(model_name=\"gpt-4o-mini\", temperature=0)"
   ]
  },
  {
   "cell_type": "markdown",
   "metadata": {
    "id": "8i8KIVTwnD6Y"
   },
   "source": [
    "## Prompt Templates\n",
    "Prompt templates are pre-designed formats used to generate prompts for language models. These templates can include instructions, few-shot examples, and specific contexts and questions suited for particular tasks.\n",
    "\n",
    "LangChain provides tools for creating and using prompt templates. It aims to develop model-agnostic templates to facilitate the reuse of existing templates across different language models. Typically, these models expect prompts in the form of either a string or a list of chat messages.\n",
    "\n",
    "### Types of Prompt Templates\n",
    "\n",
    "- **PromptTemplate:**\n",
    "  - Used for creating string-based prompts.\n",
    "  - Utilizes Python's `str.format` syntax for templating, supporting any number of variables, including scenarios with no variables.\n",
    "\n",
    "- **ChatPromptTemplate:**\n",
    "  - Designed for chat models, where the prompt consists of a list of chat messages.\n",
    "  - Each chat message includes content and a role parameter. For instance, in the OpenAI Chat Completions API, a chat message could be assigned to an AI assistant, a human, or a system role.\n",
    "- **FewShotChatMessagePromptTemplate**\n",
    "  - A few-shot prompt template can be constructed from a set of examples\n"
   ]
  },
  {
   "cell_type": "markdown",
   "metadata": {
    "id": "7Oh9UiTNqaPf"
   },
   "source": [
    "### PromptTemplate\n",
    "\n",
    "We can use `PromptTemplate` to create a template for a string prompt.\n",
    "\n",
    "By default, `PromptTemplate` uses Python's `str.format` syntax for templating.\n",
    "\n",
    "You can create custom prompt templates that format the prompt in any way you want. For more information, see [Prompt Template Composition](https://python.langchain.com/v0.1/docs/modules/model_io/prompts/composition/)."
   ]
  },
  {
   "cell_type": "code",
   "execution_count": 7,
   "metadata": {
    "colab": {
     "base_uri": "https://localhost:8080/"
    },
    "id": "xoUCbb4FkaIW",
    "outputId": "2f255135-a1b7-415c-ee72-a284ac2da032"
   },
   "outputs": [
    {
     "data": {
      "text/plain": [
       "PromptTemplate(input_variables=[], input_types={}, partial_variables={}, template='Explain to me what is Generative AI in 3 bullet points?')"
      ]
     },
     "execution_count": 7,
     "metadata": {},
     "output_type": "execute_result"
    }
   ],
   "source": [
    "from langchain.prompts import PromptTemplate\n",
    "\n",
    "# Simple prompt\n",
    "\n",
    "prompt = \"\"\"Explain to me what is Generative AI in 3 bullet points?\"\"\"\n",
    "prompt_template = PromptTemplate.from_template(prompt)\n",
    "prompt_template"
   ]
  },
  {
   "cell_type": "code",
   "execution_count": 8,
   "metadata": {
    "colab": {
     "base_uri": "https://localhost:8080/",
     "height": 35
    },
    "id": "nPNs1Efsn2Zf",
    "outputId": "447ac1d7-db90-46dd-e07c-3c1fe7e7dc97"
   },
   "outputs": [
    {
     "data": {
      "text/plain": [
       "'Explain to me what is Generative AI in 3 bullet points?'"
      ]
     },
     "execution_count": 8,
     "metadata": {},
     "output_type": "execute_result"
    }
   ],
   "source": [
    "prompt_template.format()"
   ]
  },
  {
   "cell_type": "code",
   "execution_count": 9,
   "metadata": {
    "colab": {
     "base_uri": "https://localhost:8080/"
    },
    "id": "iM5oNvXpnSq7",
    "outputId": "31946dc3-313f-45da-d756-171fe6457af3"
   },
   "outputs": [
    {
     "name": "stdout",
     "output_type": "stream",
     "text": [
      "- **Definition**: Generative AI refers to a class of artificial intelligence models that can create new content, such as text, images, music, or videos, by learning patterns and structures from existing data.\n",
      "\n",
      "- **Techniques**: It often employs advanced techniques like deep learning, particularly neural networks such as Generative Adversarial Networks (GANs) and Transformer models, to generate high-quality and coherent outputs.\n",
      "\n",
      "- **Applications**: Generative AI is used in various fields, including creative arts (e.g., art and music generation), content creation (e.g., writing and summarization), and even in practical applications like drug discovery and game design.\n"
     ]
    }
   ],
   "source": [
    "response = chatgpt.invoke(prompt_template.format())\n",
    "print(response.content)"
   ]
  },
  {
   "cell_type": "code",
   "execution_count": 10,
   "metadata": {
    "colab": {
     "base_uri": "https://localhost:8080/"
    },
    "id": "2VTvciVcnajD",
    "outputId": "48497e6c-a1d6-4eae-e5a4-8161a63df48e"
   },
   "outputs": [
    {
     "data": {
      "text/plain": [
       "PromptTemplate(input_variables=['language', 'topic'], input_types={}, partial_variables={}, template='Explain to me briefly about {topic} in {language}.')"
      ]
     },
     "execution_count": 10,
     "metadata": {},
     "output_type": "execute_result"
    }
   ],
   "source": [
    "# more complex prompt with placeholders\n",
    "prompt = \"\"\"Explain to me briefly about {topic} in {language}.\"\"\"\n",
    "\n",
    "prompt_template = PromptTemplate.from_template(prompt)\n",
    "prompt_template"
   ]
  },
  {
   "cell_type": "code",
   "execution_count": 11,
   "metadata": {
    "colab": {
     "base_uri": "https://localhost:8080/"
    },
    "id": "FyXhUhbapZ7T",
    "outputId": "5df86fd5-c9dd-445d-a597-8169eb2006a6"
   },
   "outputs": [
    {
     "data": {
      "text/plain": [
       "['Explain to me briefly about Generative AI in english.',\n",
       " 'Explain to me briefly about Artificial Intelligence in hindi.',\n",
       " 'Explain to me briefly about Deep Learning in german.']"
      ]
     },
     "execution_count": 11,
     "metadata": {},
     "output_type": "execute_result"
    }
   ],
   "source": [
    "inputs = [(\"Generative AI\", \"english\"),\n",
    "          (\"Artificial Intelligence\", \"hindi\"),\n",
    "          (\"Deep Learning\", \"german\")]\n",
    "\n",
    "prompts = [prompt_template.format(topic=topic, language=language) for topic, language in inputs]\n",
    "prompts"
   ]
  },
  {
   "cell_type": "code",
   "execution_count": 12,
   "metadata": {
    "id": "edPyCf_Aps9Q"
   },
   "outputs": [],
   "source": [
    "# use map to run on multiple prompts in one go\n",
    "responses = chatgpt.map().invoke(prompts)"
   ]
  },
  {
   "cell_type": "code",
   "execution_count": 13,
   "metadata": {
    "colab": {
     "base_uri": "https://localhost:8080/"
    },
    "id": "wZ8cDck4ck_g",
    "outputId": "0d78d17a-e61f-4a58-f75c-6d447fc5214c"
   },
   "outputs": [
    {
     "data": {
      "text/plain": [
       "[AIMessage(content='Generative AI refers to a class of artificial intelligence models that can create new content, such as text, images, music, or even videos, based on the patterns and information they have learned from existing data. These models, like GPT-3 for text or DALL-E for images, use deep learning techniques to understand and generate outputs that resemble human-created content. Generative AI has applications in various fields, including art, entertainment, marketing, and more, enabling innovative solutions and creative possibilities.', additional_kwargs={'refusal': None}, response_metadata={'token_usage': {'completion_tokens': 99, 'prompt_tokens': 18, 'total_tokens': 117, 'completion_tokens_details': {'accepted_prediction_tokens': 0, 'audio_tokens': 0, 'reasoning_tokens': 0, 'rejected_prediction_tokens': 0}, 'prompt_tokens_details': {'audio_tokens': 0, 'cached_tokens': 0}}, 'model_name': 'gpt-4o-mini-2024-07-18', 'system_fingerprint': 'fp_0ba0d124f1', 'finish_reason': 'stop', 'logprobs': None}, id='run-07bf69a4-9b2f-4e50-9188-d2b29b7bfbdb-0', usage_metadata={'input_tokens': 18, 'output_tokens': 99, 'total_tokens': 117, 'input_token_details': {'audio': 0, 'cache_read': 0}, 'output_token_details': {'audio': 0, 'reasoning': 0}}),\n",
       " AIMessage(content='कृत्रिम बुद्धिमत्ता (Artificial Intelligence या AI) एक ऐसी तकनीक है जो मशीनों और कंप्यूटरों को मानव जैसी बुद्धिमत्ता और सोचने की क्षमता प्रदान करती है। इसका उद्देश्य मशीनों को इस तरह से विकसित करना है कि वे डेटा को समझ सकें, सीख सकें, निर्णय ले सकें और समस्याओं को हल कर सकें। \\n\\nAI का उपयोग विभिन्न क्षेत्रों में किया जाता है, जैसे कि स्वास्थ्य सेवा, वित्त, परिवहन, और ग्राहक सेवा। उदाहरण के लिए, चैटबॉट्स, स्वायत्त वाहन, और व्यक्तिगत अनुशंसा प्रणाली सभी AI के उदाहरण हैं। AI तकनीकें मशीन लर्निंग, डीप लर्निंग, और प्राकृतिक भाषा प्रसंस्करण (NLP) जैसी विधियों पर आधारित होती हैं। \\n\\nसंक्षेप में, AI का मुख्य उद्देश्य मानव कार्यों को स्वचालित करना और अधिक कुशल बनाना है।', additional_kwargs={'refusal': None}, response_metadata={'token_usage': {'completion_tokens': 189, 'prompt_tokens': 17, 'total_tokens': 206, 'completion_tokens_details': {'accepted_prediction_tokens': 0, 'audio_tokens': 0, 'reasoning_tokens': 0, 'rejected_prediction_tokens': 0}, 'prompt_tokens_details': {'audio_tokens': 0, 'cached_tokens': 0}}, 'model_name': 'gpt-4o-mini-2024-07-18', 'system_fingerprint': 'fp_0ba0d124f1', 'finish_reason': 'stop', 'logprobs': None}, id='run-15940de4-8626-4642-9abe-e35c5bb18cc3-0', usage_metadata={'input_tokens': 17, 'output_tokens': 189, 'total_tokens': 206, 'input_token_details': {'audio': 0, 'cache_read': 0}, 'output_token_details': {'audio': 0, 'reasoning': 0}}),\n",
       " AIMessage(content='Deep Learning ist ein Teilbereich des maschinellen Lernens, der auf künstlichen neuronalen Netzwerken basiert. Es ermöglicht Computern, aus großen Datenmengen zu lernen und komplexe Muster zu erkennen. Deep Learning wird häufig in Anwendungen wie Bild- und Spracherkennung, natürlicher Sprachverarbeitung und autonomen Fahrzeugen eingesetzt. Durch die Verwendung mehrerer Schichten von Neuronen kann das Modell hierarchische Merkmale aus den Daten extrahieren, was zu einer hohen Genauigkeit bei der Vorhersage und Klassifizierung führt.', additional_kwargs={'refusal': None}, response_metadata={'token_usage': {'completion_tokens': 111, 'prompt_tokens': 17, 'total_tokens': 128, 'completion_tokens_details': {'accepted_prediction_tokens': 0, 'audio_tokens': 0, 'reasoning_tokens': 0, 'rejected_prediction_tokens': 0}, 'prompt_tokens_details': {'audio_tokens': 0, 'cached_tokens': 0}}, 'model_name': 'gpt-4o-mini-2024-07-18', 'system_fingerprint': 'fp_f59a81427f', 'finish_reason': 'stop', 'logprobs': None}, id='run-1c306d48-3555-42c8-b829-cab6d0a0b35f-0', usage_metadata={'input_tokens': 17, 'output_tokens': 111, 'total_tokens': 128, 'input_token_details': {'audio': 0, 'cache_read': 0}, 'output_token_details': {'audio': 0, 'reasoning': 0}})]"
      ]
     },
     "execution_count": 13,
     "metadata": {},
     "output_type": "execute_result"
    }
   ],
   "source": [
    "responses"
   ]
  },
  {
   "cell_type": "code",
   "execution_count": 14,
   "metadata": {
    "colab": {
     "base_uri": "https://localhost:8080/"
    },
    "id": "tRWUf9eTqEMU",
    "outputId": "42467835-6b0e-4622-caf9-35e399e88cd6"
   },
   "outputs": [
    {
     "name": "stdout",
     "output_type": "stream",
     "text": [
      "Generative AI refers to a class of artificial intelligence models that can create new content, such as text, images, music, or even videos, based on the patterns and information they have learned from existing data. These models, like GPT-3 for text or DALL-E for images, use deep learning techniques to understand and generate outputs that resemble human-created content. Generative AI has applications in various fields, including art, entertainment, marketing, and more, enabling innovative solutions and creative possibilities.\n",
      "-----\n",
      "कृत्रिम बुद्धिमत्ता (Artificial Intelligence या AI) एक ऐसी तकनीक है जो मशीनों और कंप्यूटरों को मानव जैसी बुद्धिमत्ता और सोचने की क्षमता प्रदान करती है। इसका उद्देश्य मशीनों को इस तरह से विकसित करना है कि वे डेटा को समझ सकें, सीख सकें, निर्णय ले सकें और समस्याओं को हल कर सकें। \n",
      "\n",
      "AI का उपयोग विभिन्न क्षेत्रों में किया जाता है, जैसे कि स्वास्थ्य सेवा, वित्त, परिवहन, और ग्राहक सेवा। उदाहरण के लिए, चैटबॉट्स, स्वायत्त वाहन, और व्यक्तिगत अनुशंसा प्रणाली सभी AI के उदाहरण हैं। AI तकनीकें मशीन लर्निंग, डीप लर्निंग, और प्राकृतिक भाषा प्रसंस्करण (NLP) जैसी विधियों पर आधारित होती हैं। \n",
      "\n",
      "संक्षेप में, AI का मुख्य उद्देश्य मानव कार्यों को स्वचालित करना और अधिक कुशल बनाना है।\n",
      "-----\n",
      "Deep Learning ist ein Teilbereich des maschinellen Lernens, der auf künstlichen neuronalen Netzwerken basiert. Es ermöglicht Computern, aus großen Datenmengen zu lernen und komplexe Muster zu erkennen. Deep Learning wird häufig in Anwendungen wie Bild- und Spracherkennung, natürlicher Sprachverarbeitung und autonomen Fahrzeugen eingesetzt. Durch die Verwendung mehrerer Schichten von Neuronen kann das Modell hierarchische Merkmale aus den Daten extrahieren, was zu einer hohen Genauigkeit bei der Vorhersage und Klassifizierung führt.\n",
      "-----\n"
     ]
    }
   ],
   "source": [
    "for response in responses:\n",
    "  print(response.content)\n",
    "  print('-----')"
   ]
  },
  {
   "cell_type": "markdown",
   "metadata": {
    "id": "VAGmjR-tqfmV"
   },
   "source": [
    "### ChatPromptTemplate\n",
    "\n",
    "The standard prompt format to [chat models](https://python.langchain.com/v0.1/docs/modules/model_io/chat/) is a list of [chat messages](https://python.langchain.com/v0.1/docs/modules/model_io/chat/message_types/).\n",
    "\n",
    "Each chat message is associated with content, and an additional parameter called `role`. For example, in the OpenAI Chat Completions API, a chat message can be associated with an AI assistant, a human or a system role."
   ]
  },
  {
   "cell_type": "code",
   "execution_count": 15,
   "metadata": {
    "colab": {
     "base_uri": "https://localhost:8080/"
    },
    "id": "tawdWLueqHG6",
    "outputId": "3dd83fa4-e2ac-4eb0-f7b6-2c6f8e989aac"
   },
   "outputs": [
    {
     "data": {
      "text/plain": [
       "ChatPromptTemplate(input_variables=['topic'], input_types={}, partial_variables={}, messages=[HumanMessagePromptTemplate(prompt=PromptTemplate(input_variables=['topic'], input_types={}, partial_variables={}, template='Explain to me briefly about {topic}.'), additional_kwargs={})])"
      ]
     },
     "execution_count": 15,
     "metadata": {},
     "output_type": "execute_result"
    }
   ],
   "source": [
    "from langchain_core.prompts import ChatPromptTemplate\n",
    "\n",
    "# simple prompt with placeholders\n",
    "prompt = \"\"\"Explain to me briefly about {topic}.\"\"\"\n",
    "\n",
    "chat_template = ChatPromptTemplate.from_template(prompt)\n",
    "chat_template"
   ]
  },
  {
   "cell_type": "code",
   "execution_count": 16,
   "metadata": {
    "colab": {
     "base_uri": "https://localhost:8080/"
    },
    "id": "Hr0sC7xHqxOp",
    "outputId": "69467a00-ece8-4dbf-ffc0-954ae01c4510"
   },
   "outputs": [
    {
     "data": {
      "text/plain": [
       "['Human: Explain to me briefly about mortgage.',\n",
       " 'Human: Explain to me briefly about fractional real estate.',\n",
       " 'Human: Explain to me briefly about commercial real estate.']"
      ]
     },
     "execution_count": 16,
     "metadata": {},
     "output_type": "execute_result"
    }
   ],
   "source": [
    "topics = ['mortgage', 'fractional real estate', 'commercial real estate']\n",
    "prompts = [chat_template.format(topic=topic) for topic in topics]\n",
    "prompts"
   ]
  },
  {
   "cell_type": "code",
   "execution_count": 17,
   "metadata": {
    "colab": {
     "base_uri": "https://localhost:8080/"
    },
    "id": "cU9YObv9rY4P",
    "outputId": "97fe9ad3-2944-431e-9902-7a663ae66d75"
   },
   "outputs": [
    {
     "name": "stdout",
     "output_type": "stream",
     "text": [
      "A mortgage is a type of loan specifically used to purchase real estate. In a mortgage agreement, the borrower receives funds from a lender to buy a home and agrees to repay the loan over a specified period, typically 15 to 30 years. The property itself serves as collateral, meaning if the borrower fails to make payments, the lender can take possession of the property through a process called foreclosure. Mortgages usually involve monthly payments that cover both principal (the amount borrowed) and interest (the cost of borrowing), and they may also include property taxes and insurance.\n",
      "-----\n",
      "Fractional real estate refers to a shared ownership model where multiple investors collectively own a property, allowing them to share the costs and benefits associated with it. Each owner holds a fraction of the property, which entitles them to a proportional share of the income generated (like rental income) and appreciation in value. This model makes real estate investment more accessible, as individuals can invest smaller amounts compared to purchasing an entire property. Fractional ownership is often used for vacation homes, commercial properties, or luxury real estate, and it can be facilitated through various platforms or companies that manage the property and the ownership structure.\n",
      "-----\n",
      "Commercial real estate (CRE) refers to properties that are used for business purposes rather than residential living. This category includes various types of properties, such as office buildings, retail spaces, industrial warehouses, hotels, and multifamily apartment complexes. Investors and businesses typically engage in CRE for income generation through leasing or renting out space, as well as potential appreciation in property value over time. The commercial real estate market is influenced by factors such as location, economic conditions, and market demand, making it a dynamic sector within the broader real estate industry.\n",
      "-----\n"
     ]
    }
   ],
   "source": [
    "responses = chatgpt.map().invoke(prompts)\n",
    "for response in responses:\n",
    "  print(response.content)\n",
    "  print('-----')"
   ]
  },
  {
   "cell_type": "code",
   "execution_count": 18,
   "metadata": {
    "colab": {
     "base_uri": "https://localhost:8080/"
    },
    "id": "8NHhUa48rm_g",
    "outputId": "0ce02334-631a-4533-dad4-3a382da0435d"
   },
   "outputs": [
    {
     "data": {
      "text/plain": [
       "AIMessage(content='A mortgage is a type of loan specifically used to purchase real estate. In a mortgage agreement, the borrower receives funds from a lender to buy a home and agrees to repay the loan over a specified period, typically 15 to 30 years. The property itself serves as collateral, meaning if the borrower fails to make payments, the lender can take possession of the property through a process called foreclosure. Mortgages usually involve monthly payments that cover both principal (the amount borrowed) and interest (the cost of borrowing), and they may also include property taxes and insurance.', additional_kwargs={'refusal': None}, response_metadata={'token_usage': {'completion_tokens': 112, 'prompt_tokens': 16, 'total_tokens': 128, 'completion_tokens_details': {'accepted_prediction_tokens': 0, 'audio_tokens': 0, 'reasoning_tokens': 0, 'rejected_prediction_tokens': 0}, 'prompt_tokens_details': {'audio_tokens': 0, 'cached_tokens': 0}}, 'model_name': 'gpt-4o-mini-2024-07-18', 'system_fingerprint': 'fp_f59a81427f', 'finish_reason': 'stop', 'logprobs': None}, id='run-99b5b102-4b96-4210-8cd3-e4e315b5965d-0', usage_metadata={'input_tokens': 16, 'output_tokens': 112, 'total_tokens': 128, 'input_token_details': {'audio': 0, 'cache_read': 0}, 'output_token_details': {'audio': 0, 'reasoning': 0}})"
      ]
     },
     "execution_count": 18,
     "metadata": {},
     "output_type": "execute_result"
    }
   ],
   "source": [
    "responses[0]"
   ]
  },
  {
   "cell_type": "code",
   "execution_count": 19,
   "metadata": {
    "colab": {
     "base_uri": "https://localhost:8080/"
    },
    "id": "1PSkafcfsme2",
    "outputId": "d15d31fc-c4dd-43ff-a54f-40fd00aa3cba"
   },
   "outputs": [
    {
     "data": {
      "text/plain": [
       "ChatPromptTemplate(input_variables=['user_prompt'], input_types={}, partial_variables={}, messages=[SystemMessagePromptTemplate(prompt=PromptTemplate(input_variables=[], input_types={}, partial_variables={}, template='Act as an expert in real estate and provide brief answers'), additional_kwargs={}), HumanMessagePromptTemplate(prompt=PromptTemplate(input_variables=[], input_types={}, partial_variables={}, template='what is your name?'), additional_kwargs={}), AIMessagePromptTemplate(prompt=PromptTemplate(input_variables=[], input_types={}, partial_variables={}, template='my name is AIBot'), additional_kwargs={}), HumanMessagePromptTemplate(prompt=PromptTemplate(input_variables=['user_prompt'], input_types={}, partial_variables={}, template='{user_prompt}'), additional_kwargs={})])"
      ]
     },
     "execution_count": 19,
     "metadata": {},
     "output_type": "execute_result"
    }
   ],
   "source": [
    "# more complex prompt with a series of messages\n",
    "messages = [\n",
    "        (\"system\", \"Act as an expert in real estate and provide brief answers\"),\n",
    "        (\"human\", \"what is your name?\"),\n",
    "        (\"ai\", \"my name is AIBot\"),\n",
    "        (\"human\", \"{user_prompt}\"),\n",
    "]\n",
    "chat_template = ChatPromptTemplate.from_messages(messages)\n",
    "chat_template"
   ]
  },
  {
   "cell_type": "code",
   "execution_count": 20,
   "metadata": {
    "colab": {
     "base_uri": "https://localhost:8080/"
    },
    "id": "N5ncYrVVtUWU",
    "outputId": "a6eb9f20-19f3-4aca-88e9-6291bc350d97"
   },
   "outputs": [
    {
     "data": {
      "text/plain": [
       "['System: Act as an expert in real estate and provide brief answers\\nHuman: what is your name?\\nAI: my name is AIBot\\nHuman: what is your name?',\n",
       " 'System: Act as an expert in real estate and provide brief answers\\nHuman: what is your name?\\nAI: my name is AIBot\\nHuman: explain commercial real estate to me']"
      ]
     },
     "execution_count": 20,
     "metadata": {},
     "output_type": "execute_result"
    }
   ],
   "source": [
    "text_prompts = [\"what is your name?\",\n",
    "                \"explain commercial real estate to me\"]\n",
    "chat_prompts = [chat_template.format(user_prompt=prompt) for prompt in text_prompts]\n",
    "chat_prompts"
   ]
  },
  {
   "cell_type": "code",
   "execution_count": 21,
   "metadata": {
    "colab": {
     "base_uri": "https://localhost:8080/"
    },
    "id": "vQd1Bk_Td2mM",
    "outputId": "9b1b8375-1a16-432e-d6a2-77f1e023a393"
   },
   "outputs": [
    {
     "name": "stdout",
     "output_type": "stream",
     "text": [
      "System: Act as an expert in real estate and provide brief answers\n",
      "Human: what is your name?\n",
      "AI: my name is AIBot\n",
      "Human: what is your name?\n"
     ]
    }
   ],
   "source": [
    "print(chat_prompts[0])"
   ]
  },
  {
   "cell_type": "code",
   "execution_count": 22,
   "metadata": {
    "colab": {
     "base_uri": "https://localhost:8080/"
    },
    "id": "xQnrzTfj59gv",
    "outputId": "28ac7692-1933-4779-b82d-77e8ac092f8c"
   },
   "outputs": [
    {
     "name": "stdout",
     "output_type": "stream",
     "text": [
      "System: Act as an expert in real estate and provide brief answers\n",
      "Human: what is your name?\n",
      "AI: my name is AIBot\n",
      "Human: explain commercial real estate to me\n"
     ]
    }
   ],
   "source": [
    "print(chat_prompts[1])"
   ]
  },
  {
   "cell_type": "code",
   "execution_count": 23,
   "metadata": {
    "colab": {
     "base_uri": "https://localhost:8080/"
    },
    "id": "73R370WTuAIR",
    "outputId": "add8b521-d274-494b-a28d-54dda747d8a3"
   },
   "outputs": [
    {
     "name": "stdout",
     "output_type": "stream",
     "text": [
      "AI: I am AIBot, your real estate expert. How can I assist you today?\n",
      "-----\n",
      "Commercial real estate (CRE) refers to properties used for business purposes, including office buildings, retail spaces, warehouses, and industrial properties. Unlike residential real estate, which is primarily for living, CRE is intended to generate profit through rental income or capital appreciation. It often involves longer lease terms and can be more complex in terms of financing and management.\n",
      "-----\n"
     ]
    }
   ],
   "source": [
    "responses = chatgpt.map().invoke(chat_prompts)\n",
    "for response in responses:\n",
    "  print(response.content)\n",
    "  print('-----')"
   ]
  },
  {
   "cell_type": "code",
   "execution_count": 24,
   "metadata": {
    "colab": {
     "base_uri": "https://localhost:8080/"
    },
    "id": "qQJP-Q6SuLmV",
    "outputId": "95dff59f-9ed1-4eb8-f25e-27f55db82d70"
   },
   "outputs": [
    {
     "data": {
      "text/plain": [
       "['System: Act as an expert in real estate and provide very detailed answers with examples\\nHuman: what is your name?\\nAI: my name is AIBot\\nHuman: what is your name?',\n",
       " 'System: Act as an expert in real estate and provide very detailed answers with examples\\nHuman: what is your name?\\nAI: my name is AIBot\\nHuman: explain commercial real estate to me']"
      ]
     },
     "execution_count": 24,
     "metadata": {},
     "output_type": "execute_result"
    }
   ],
   "source": [
    "messages = [\n",
    "        (\"system\", \"Act as an expert in real estate and provide very detailed answers with examples\"),\n",
    "        (\"human\", \"what is your name?\"),\n",
    "        (\"ai\", \"my name is AIBot\"),\n",
    "        (\"human\", \"{user_prompt}\"),\n",
    "]\n",
    "chat_template = ChatPromptTemplate.from_messages(messages)\n",
    "text_prompts = [\"what is your name?\", \"explain commercial real estate to me\"]\n",
    "chat_prompts = [chat_template.format(user_prompt=prompt) for prompt in text_prompts]\n",
    "chat_prompts"
   ]
  },
  {
   "cell_type": "code",
   "execution_count": 25,
   "metadata": {
    "colab": {
     "base_uri": "https://localhost:8080/"
    },
    "id": "JK9VxeObuTXj",
    "outputId": "79a981ca-e34b-4897-fa69-7cd97910a275"
   },
   "outputs": [
    {
     "name": "stdout",
     "output_type": "stream",
     "text": [
      "AI: My name is AIBot, and I'm here to assist you with any questions you have about real estate. Whether you're looking for information on buying, selling, investing, or understanding market trends, feel free to ask!\n",
      "-----\n",
      "Commercial real estate (CRE) refers to properties that are used exclusively for business purposes. This category of real estate is distinct from residential real estate, which is primarily used for living purposes. Understanding commercial real estate involves recognizing its various types, investment potential, market dynamics, and the factors that influence its value.\n",
      "\n",
      "### Types of Commercial Real Estate\n",
      "\n",
      "1. **Office Buildings**: These properties are designed for business operations and can range from single-tenant buildings to large skyscrapers. They are often categorized into:\n",
      "   - **Class A**: High-quality buildings in prime locations with top amenities (e.g., high-rise buildings in downtown areas).\n",
      "   - **Class B**: Older buildings that are still functional but may require some renovations.\n",
      "   - **Class C**: Older buildings in less desirable locations, often needing significant repairs.\n",
      "\n",
      "   **Example**: A Class A office building in Manhattan might house a major financial firm, while a Class C office building could be located in a suburban area and rented by a small startup.\n",
      "\n",
      "2. **Retail Properties**: These include shopping centers, malls, and standalone stores. Retail properties can be further divided into:\n",
      "   - **Neighborhood Centers**: Small shopping areas that serve local communities.\n",
      "   - **Regional Malls**: Larger shopping complexes that attract customers from a wider area.\n",
      "   - **Power Centers**: Large retail spaces that typically include big-box retailers.\n",
      "\n",
      "   **Example**: A neighborhood center might include a grocery store, a pharmacy, and a few local restaurants, while a regional mall could feature multiple department stores and specialty shops.\n",
      "\n",
      "3. **Industrial Properties**: These are used for manufacturing, production, distribution, and storage. Types include:\n",
      "   - **Warehouses**: Large spaces for storing goods.\n",
      "   - **Manufacturing Facilities**: Buildings where products are made.\n",
      "   - **Flex Spaces**: Versatile spaces that can be used for both office and industrial purposes.\n",
      "\n",
      "   **Example**: A warehouse in an industrial park might be used by an e-commerce company for inventory storage and distribution.\n",
      "\n",
      "4. **Multifamily Properties**: While often considered residential, multifamily properties with five or more units are classified as commercial real estate. This includes:\n",
      "   - **Apartments**: Buildings with multiple rental units.\n",
      "   - **Condominiums**: Individually owned units within a larger building.\n",
      "\n",
      "   **Example**: A 100-unit apartment complex in a growing urban area can be a lucrative investment for real estate investors.\n",
      "\n",
      "5. **Hospitality Properties**: This category includes hotels, motels, and resorts. These properties cater to travelers and can vary widely in size and service level.\n",
      "   \n",
      "   **Example**: A luxury hotel in a tourist destination may offer high-end amenities, while a budget motel on a highway caters to road travelers.\n",
      "\n",
      "6. **Special Purpose Properties**: These are unique properties that serve specific functions, such as schools, churches, and medical facilities.\n",
      "\n",
      "   **Example**: A medical office building that houses a group of doctors and specialists.\n",
      "\n",
      "### Investment Potential\n",
      "\n",
      "Investing in commercial real estate can provide several benefits, including:\n",
      "\n",
      "- **Cash Flow**: Commercial properties often generate higher rental income compared to residential properties. For instance, a well-located retail space can command significant rent from established tenants.\n",
      "  \n",
      "- **Longer Lease Terms**: Commercial leases typically last longer than residential leases, often ranging from 3 to 10 years, providing more stability in income.\n",
      "\n",
      "- **Appreciation**: Over time, commercial properties can appreciate in value, especially in growing markets. For example, a warehouse in a developing industrial area may increase in value as demand for logistics space rises.\n",
      "\n",
      "- **Tax Benefits**: Investors can benefit from various tax deductions, including depreciation, mortgage interest, and operating expenses.\n",
      "\n",
      "### Market Dynamics\n",
      "\n",
      "The commercial real estate market is influenced by various factors, including:\n",
      "\n",
      "- **Economic Conditions**: Economic growth can lead to increased demand for office and retail space, while recessions may result in higher vacancy rates.\n",
      "\n",
      "- **Location**: Properties in prime locations tend to attract higher rents and have lower vacancy rates. For example, a retail store in a busy shopping district will likely perform better than one in a less-trafficked area.\n",
      "\n",
      "- **Interest Rates**: Changes in interest rates can affect financing costs and, consequently, the demand for commercial properties. Lower interest rates can stimulate investment, while higher rates may deter it.\n",
      "\n",
      "- **Market Trends**: Trends such as remote work can impact office space demand, while e-commerce growth can influence the need for industrial properties.\n",
      "\n",
      "### Conclusion\n",
      "\n",
      "Commercial real estate is a diverse and dynamic sector that offers various opportunities for investors and businesses. Understanding the different types of properties, their investment potential, and the market dynamics is crucial for making informed decisions in this field. Whether you are looking to invest, lease, or develop commercial properties, a thorough understanding of these elements will help you navigate the complexities of the commercial real estate market effectively.\n",
      "-----\n"
     ]
    }
   ],
   "source": [
    "responses = chatgpt.map().invoke(chat_prompts)\n",
    "for response in responses:\n",
    "  print(response.content)\n",
    "  print('-----')"
   ]
  },
  {
   "cell_type": "markdown",
   "metadata": {
    "id": "7PnxbHHoiDHZ"
   },
   "source": [
    "#### PromptTemplate and ChatPromptTemplate supports LCEL\n",
    "\n",
    "`PromptTemplate` and `ChatPromptTemplate` implement the [Runnable interface](https://python.langchain.com/v0.1/docs/expression_language/interface/), the basic building block of the LangChain Expression Language (LCEL). This means they support `invoke`, `ainvoke`, `stream`, `astream`, `batch`, `abatch`, `astream_log` calls.\n",
    "\n",
    "`PromptTemplate` accepts a dictionary (of the prompt variables) and returns a `StringPromptValue`. A `ChatPromptTemplate` accepts a dictionary and returns a `ChatPromptValue`."
   ]
  },
  {
   "cell_type": "code",
   "execution_count": 26,
   "metadata": {
    "colab": {
     "base_uri": "https://localhost:8080/"
    },
    "id": "Qxsx7a0xe2u6",
    "outputId": "b5c3d28d-55fa-488f-eb9f-159acd710cc1"
   },
   "outputs": [
    {
     "data": {
      "text/plain": [
       "[ChatPromptValue(messages=[SystemMessage(content='Act as an expert in real estate and provide very detailed answers with examples', additional_kwargs={}, response_metadata={}), HumanMessage(content='what is your name?', additional_kwargs={}, response_metadata={}), AIMessage(content='my name is AIBot', additional_kwargs={}, response_metadata={}), HumanMessage(content='what is your name?', additional_kwargs={}, response_metadata={})]),\n",
       " ChatPromptValue(messages=[SystemMessage(content='Act as an expert in real estate and provide very detailed answers with examples', additional_kwargs={}, response_metadata={}), HumanMessage(content='what is your name?', additional_kwargs={}, response_metadata={}), AIMessage(content='my name is AIBot', additional_kwargs={}, response_metadata={}), HumanMessage(content='explain commercial real estate to me', additional_kwargs={}, response_metadata={})])]"
      ]
     },
     "execution_count": 26,
     "metadata": {},
     "output_type": "execute_result"
    }
   ],
   "source": [
    "text_prompts = [\"what is your name?\", \"explain commercial real estate to me\"]\n",
    "chat_prompts = [chat_template.invoke({'user_prompt' : prompt}) for prompt in text_prompts]\n",
    "chat_prompts"
   ]
  },
  {
   "cell_type": "code",
   "execution_count": 27,
   "metadata": {
    "colab": {
     "base_uri": "https://localhost:8080/"
    },
    "id": "tCqy3Exuiuu0",
    "outputId": "5dc1990e-cef5-4738-8675-7d34134bb229"
   },
   "outputs": [
    {
     "data": {
      "text/plain": [
       "ChatPromptValue(messages=[SystemMessage(content='Act as an expert in real estate and provide very detailed answers with examples', additional_kwargs={}, response_metadata={}), HumanMessage(content='what is your name?', additional_kwargs={}, response_metadata={}), AIMessage(content='my name is AIBot', additional_kwargs={}, response_metadata={}), HumanMessage(content='explain commercial real estate to me', additional_kwargs={}, response_metadata={})])"
      ]
     },
     "execution_count": 27,
     "metadata": {},
     "output_type": "execute_result"
    }
   ],
   "source": [
    "chat_prompts[1]"
   ]
  },
  {
   "cell_type": "code",
   "execution_count": 28,
   "metadata": {
    "colab": {
     "base_uri": "https://localhost:8080/"
    },
    "id": "wND5o7kCiyKG",
    "outputId": "4e251c6a-2391-4ab4-ec5d-766b603e51e7"
   },
   "outputs": [
    {
     "name": "stdout",
     "output_type": "stream",
     "text": [
      "System: Act as an expert in real estate and provide very detailed answers with examples\n",
      "Human: what is your name?\n",
      "AI: my name is AIBot\n",
      "Human: explain commercial real estate to me\n"
     ]
    }
   ],
   "source": [
    "print(chat_prompts[1].to_string())"
   ]
  },
  {
   "cell_type": "code",
   "execution_count": 29,
   "metadata": {
    "colab": {
     "base_uri": "https://localhost:8080/"
    },
    "id": "egsNrmqui6ls",
    "outputId": "e7b24f79-0eda-443f-e5ce-3ee370db9f99"
   },
   "outputs": [
    {
     "data": {
      "text/plain": [
       "[SystemMessage(content='Act as an expert in real estate and provide very detailed answers with examples', additional_kwargs={}, response_metadata={}),\n",
       " HumanMessage(content='what is your name?', additional_kwargs={}, response_metadata={}),\n",
       " AIMessage(content='my name is AIBot', additional_kwargs={}, response_metadata={}),\n",
       " HumanMessage(content='explain commercial real estate to me', additional_kwargs={}, response_metadata={})]"
      ]
     },
     "execution_count": 29,
     "metadata": {},
     "output_type": "execute_result"
    }
   ],
   "source": [
    "chat_prompts[1].to_messages()"
   ]
  },
  {
   "cell_type": "code",
   "execution_count": 30,
   "metadata": {
    "colab": {
     "base_uri": "https://localhost:8080/"
    },
    "id": "r_ywweDLflCq",
    "outputId": "e97c0372-2dd1-498a-8852-9cee2b6a5470"
   },
   "outputs": [
    {
     "name": "stdout",
     "output_type": "stream",
     "text": [
      "I am known as AIBot. How can I assist you with your real estate inquiries today?\n",
      "-----\n",
      "Commercial real estate (CRE) refers to properties that are used exclusively for business purposes or to provide a workspace rather than as a residence. This sector of real estate encompasses a wide range of property types, each serving different functions and catering to various industries. Here’s a detailed breakdown of commercial real estate, including its types, investment considerations, and examples.\n",
      "\n",
      "### Types of Commercial Real Estate\n",
      "\n",
      "1. **Office Buildings**: \n",
      "   - **Description**: These properties are designed for business operations and can range from single-tenant buildings to multi-tenant skyscrapers.\n",
      "   - **Examples**: Corporate headquarters, co-working spaces, and medical office buildings.\n",
      "   - **Investment Considerations**: Location, tenant mix, lease terms, and building amenities are crucial factors. For instance, a well-located office building in a metropolitan area may attract higher rents.\n",
      "\n",
      "2. **Retail Properties**: \n",
      "   - **Description**: These include spaces where goods and services are sold directly to consumers.\n",
      "   - **Examples**: Shopping malls, strip malls, standalone retail stores, and restaurants.\n",
      "   - **Investment Considerations**: Foot traffic, visibility, and proximity to residential areas are key. For example, a retail store in a high-traffic area may generate more sales, making it a more attractive investment.\n",
      "\n",
      "3. **Industrial Properties**: \n",
      "   - **Description**: These properties are used for manufacturing, production, distribution, and storage.\n",
      "   - **Examples**: Warehouses, distribution centers, and manufacturing plants.\n",
      "   - **Investment Considerations**: Location relative to transportation networks (highways, railroads, ports) and the type of industrial activity (light vs. heavy manufacturing) are important. For instance, a warehouse near a major highway can facilitate faster distribution.\n",
      "\n",
      "4. **Multifamily Properties**: \n",
      "   - **Description**: While often considered residential, multifamily properties with five or more units are classified as commercial real estate.\n",
      "   - **Examples**: Apartment complexes, condominiums, and townhouses.\n",
      "   - **Investment Considerations**: Market demand, occupancy rates, and rental income potential are critical. For example, a well-managed apartment complex in a growing urban area may yield strong returns.\n",
      "\n",
      "5. **Hospitality Properties**: \n",
      "   - **Description**: These include establishments that provide lodging, food, and other services to travelers and tourists.\n",
      "   - **Examples**: Hotels, motels, and resorts.\n",
      "   - **Investment Considerations**: Location, brand affiliation, and occupancy rates are vital. A hotel in a tourist-heavy area may experience higher occupancy and room rates.\n",
      "\n",
      "6. **Special Purpose Properties**: \n",
      "   - **Description**: These are properties designed for a specific use and may not fit into the other categories.\n",
      "   - **Examples**: Schools, churches, self-storage facilities, and gas stations.\n",
      "   - **Investment Considerations**: Zoning regulations and the specific needs of the property type are important. For instance, a self-storage facility in a densely populated area may have high demand.\n",
      "\n",
      "### Investment Considerations in Commercial Real Estate\n",
      "\n",
      "1. **Location**: The adage \"location, location, location\" holds true in commercial real estate. Properties in prime locations tend to attract higher rents and have lower vacancy rates.\n",
      "\n",
      "2. **Market Trends**: Understanding local and national market trends is crucial. For example, the rise of e-commerce has increased demand for industrial properties like warehouses, while traditional retail spaces may face challenges.\n",
      "\n",
      "3. **Financing**: Commercial real estate often requires different financing structures compared to residential properties. Investors may use commercial mortgages, which typically have shorter terms and higher interest rates.\n",
      "\n",
      "4. **Lease Structures**: Commercial leases can vary significantly. Common types include:\n",
      "   - **Gross Lease**: The landlord covers all operating expenses.\n",
      "   - **Net Lease**: The tenant pays a portion of the operating expenses in addition to rent.\n",
      "   - **Percentage Lease**: Rent is based on a percentage of the tenant's sales, common in retail.\n",
      "\n",
      "5. **Due Diligence**: Before purchasing commercial real estate, investors should conduct thorough due diligence, including property inspections, financial analysis, and market research.\n",
      "\n",
      "### Example of a Commercial Real Estate Investment\n",
      "\n",
      "Consider an investor looking to purchase a small retail strip mall. The investor would analyze the following:\n",
      "\n",
      "- **Location**: The strip mall is located in a growing suburban area with increasing population density.\n",
      "- **Tenant Mix**: The mall has a mix of tenants, including a grocery store, a coffee shop, and a fitness center, which can attract diverse customer traffic.\n",
      "- **Financials**: The investor reviews the current lease agreements, tenant payment histories, and operating expenses to assess cash flow potential.\n",
      "- **Market Trends**: The investor researches local economic conditions, such as employment rates and consumer spending trends, to gauge future demand.\n",
      "\n",
      "By carefully evaluating these factors, the investor can make an informed decision about the potential profitability of the retail strip mall.\n",
      "\n",
      "In summary, commercial real estate is a diverse and complex sector that offers various investment opportunities. Understanding the different types of properties, market dynamics, and financial considerations is essential for success in this field.\n",
      "-----\n"
     ]
    }
   ],
   "source": [
    "responses = chatgpt.map().invoke(chat_prompts)\n",
    "for response in responses:\n",
    "  print(response.content)\n",
    "  print('-----')"
   ]
  },
  {
   "cell_type": "markdown",
   "metadata": {
    "id": "QFDEQ-9B07hl"
   },
   "source": [
    "### FewShotChatMessagePromptTemplate\n",
    "\n",
    "This is a Chat prompt template that supports few-shot examples.\n",
    "\n",
    "The high level structure of produced by this prompt template is a list of messages consisting of prefix message(s), example message(s), and suffix message(s).\n",
    "\n",
    "This structure enables creating a conversation with intermediate examples like:\n",
    "\n",
    "```\n",
    "System: You are a helpful AI Assistant\n",
    "Human: What is 2+2?\n",
    "AI: 4\n",
    "Human: What is 2+3?\n",
    "AI: 5\n",
    "Human: What is 4+4?\n",
    "```"
   ]
  },
  {
   "cell_type": "markdown",
   "metadata": {
    "id": "1O_nxtWMkbw4"
   },
   "source": [
    "Define the few-shot examples you'd like to include."
   ]
  },
  {
   "cell_type": "code",
   "execution_count": 31,
   "metadata": {
    "colab": {
     "base_uri": "https://localhost:8080/"
    },
    "id": "-urY3gcrwTAv",
    "outputId": "297c28af-a514-4d2e-aa78-0892d86a481a"
   },
   "outputs": [
    {
     "data": {
      "text/plain": [
       "[('Wimbledon 2023 Women’s Final.\\n    Marketa Vondrousova beats Ons Jabeur to win her maiden Grand Slam title',\n",
       "  'Sports'),\n",
       " (\"It's time to call it a day as India had another medal-laden day at the Asian Athletics Championships\\n    in Bangkok. Murali Sreeshankar's Olympic qualifying jump grabbed the limelight while 400m mixed relay\\n    team added's India's sixth gold medal! There will be plenty of medals up for grab on the final day of\\n    the tournament as well with Jyothi Yarraji, women's and men's 400m relay teams in action\",\n",
       "  'Sports'),\n",
       " (\"Kicking things off with the Galaxy Tab S9 FE Plus. It's going to be powered by the Exynos 1380\\n    with 8GB of RAM, and pack a 12.4-inch display. The slate will measure 285.4 x 185.4 x 6.54 mm and\\n    feature dual speakers, a side-mounted fingerprint sensor. It will come in Grey, Light Green,\\n    Light Pink, and Silver color options.\",\n",
       "  'Technology'),\n",
       " ('The share of the cigarette business to ITC’s business in revenue terms has dropped from 47\\n    per cent in FY13 to 37 per cent in FY23 on a larger revenue base.\\n    According to the company’s most recent annual report, the leadership position has been sustained\\n    \"through its unwavering focus on nurturing a future-ready portfolio of world-class products anchored on\\n    its integrated seed to smoke value chain, superior consumer insights, robust innovation pipeline and\\n    world-class product development capabilities.\" ',\n",
       "  'Business')]"
      ]
     },
     "execution_count": 31,
     "metadata": {},
     "output_type": "execute_result"
    }
   ],
   "source": [
    "from langchain_core.prompts import ChatPromptTemplate, FewShotChatMessagePromptTemplate\n",
    "\n",
    "example_data = [\n",
    "    (\"\"\"Wimbledon 2023 Women’s Final.\n",
    "    Marketa Vondrousova beats Ons Jabeur to win her maiden Grand Slam title\"\"\",\n",
    "     'Sports'),\n",
    "    (\"\"\"It's time to call it a day as India had another medal-laden day at the Asian Athletics Championships\n",
    "    in Bangkok. Murali Sreeshankar's Olympic qualifying jump grabbed the limelight while 400m mixed relay\n",
    "    team added's India's sixth gold medal! There will be plenty of medals up for grab on the final day of\n",
    "    the tournament as well with Jyothi Yarraji, women's and men's 400m relay teams in action\"\"\",\n",
    "     'Sports'),\n",
    "    (\"\"\"Kicking things off with the Galaxy Tab S9 FE Plus. It's going to be powered by the Exynos 1380\n",
    "    with 8GB of RAM, and pack a 12.4-inch display. The slate will measure 285.4 x 185.4 x 6.54 mm and\n",
    "    feature dual speakers, a side-mounted fingerprint sensor. It will come in Grey, Light Green,\n",
    "    Light Pink, and Silver color options.\"\"\",\n",
    "     'Technology'),\n",
    "    (\"\"\"The share of the cigarette business to ITC’s business in revenue terms has dropped from 47\n",
    "    per cent in FY13 to 37 per cent in FY23 on a larger revenue base.\n",
    "    According to the company’s most recent annual report, the leadership position has been sustained\n",
    "    \"through its unwavering focus on nurturing a future-ready portfolio of world-class products anchored on\n",
    "    its integrated seed to smoke value chain, superior consumer insights, robust innovation pipeline and\n",
    "    world-class product development capabilities.\" \"\"\",\n",
    "     'Business')\n",
    "]\n",
    "\n",
    "example_data"
   ]
  },
  {
   "cell_type": "code",
   "execution_count": 32,
   "metadata": {
    "colab": {
     "base_uri": "https://localhost:8080/"
    },
    "id": "u-jpdb5GyYzo",
    "outputId": "70cafe4f-f951-4091-a22e-1e6c8cdcb21e"
   },
   "outputs": [
    {
     "data": {
      "text/plain": [
       "[{'input': 'Wimbledon 2023 Women’s Final.\\n    Marketa Vondrousova beats Ons Jabeur to win her maiden Grand Slam title',\n",
       "  'output': 'Sports'},\n",
       " {'input': \"It's time to call it a day as India had another medal-laden day at the Asian Athletics Championships\\n    in Bangkok. Murali Sreeshankar's Olympic qualifying jump grabbed the limelight while 400m mixed relay\\n    team added's India's sixth gold medal! There will be plenty of medals up for grab on the final day of\\n    the tournament as well with Jyothi Yarraji, women's and men's 400m relay teams in action\",\n",
       "  'output': 'Sports'},\n",
       " {'input': \"Kicking things off with the Galaxy Tab S9 FE Plus. It's going to be powered by the Exynos 1380\\n    with 8GB of RAM, and pack a 12.4-inch display. The slate will measure 285.4 x 185.4 x 6.54 mm and\\n    feature dual speakers, a side-mounted fingerprint sensor. It will come in Grey, Light Green,\\n    Light Pink, and Silver color options.\",\n",
       "  'output': 'Technology'},\n",
       " {'input': 'The share of the cigarette business to ITC’s business in revenue terms has dropped from 47\\n    per cent in FY13 to 37 per cent in FY23 on a larger revenue base.\\n    According to the company’s most recent annual report, the leadership position has been sustained\\n    \"through its unwavering focus on nurturing a future-ready portfolio of world-class products anchored on\\n    its integrated seed to smoke value chain, superior consumer insights, robust innovation pipeline and\\n    world-class product development capabilities.\" ',\n",
       "  'output': 'Business'}]"
      ]
     },
     "execution_count": 32,
     "metadata": {},
     "output_type": "execute_result"
    }
   ],
   "source": [
    "example_data_formatted = [{\"input\": input, \"output\": output}\n",
    "                            for input, output in example_data]\n",
    "example_data_formatted"
   ]
  },
  {
   "cell_type": "markdown",
   "metadata": {
    "id": "KR8lVYEvkfO6"
   },
   "source": [
    "Assemble them into the few-shot prompt template."
   ]
  },
  {
   "cell_type": "code",
   "execution_count": 33,
   "metadata": {
    "colab": {
     "base_uri": "https://localhost:8080/"
    },
    "id": "Yr9_BgVauk4h",
    "outputId": "d4090ed9-e7cf-403e-f8f8-4db715291746"
   },
   "outputs": [
    {
     "data": {
      "text/plain": [
       "FewShotChatMessagePromptTemplate(examples=[{'input': 'Wimbledon 2023 Women’s Final.\\n    Marketa Vondrousova beats Ons Jabeur to win her maiden Grand Slam title', 'output': 'Sports'}, {'input': \"It's time to call it a day as India had another medal-laden day at the Asian Athletics Championships\\n    in Bangkok. Murali Sreeshankar's Olympic qualifying jump grabbed the limelight while 400m mixed relay\\n    team added's India's sixth gold medal! There will be plenty of medals up for grab on the final day of\\n    the tournament as well with Jyothi Yarraji, women's and men's 400m relay teams in action\", 'output': 'Sports'}, {'input': \"Kicking things off with the Galaxy Tab S9 FE Plus. It's going to be powered by the Exynos 1380\\n    with 8GB of RAM, and pack a 12.4-inch display. The slate will measure 285.4 x 185.4 x 6.54 mm and\\n    feature dual speakers, a side-mounted fingerprint sensor. It will come in Grey, Light Green,\\n    Light Pink, and Silver color options.\", 'output': 'Technology'}, {'input': 'The share of the cigarette business to ITC’s business in revenue terms has dropped from 47\\n    per cent in FY13 to 37 per cent in FY23 on a larger revenue base.\\n    According to the company’s most recent annual report, the leadership position has been sustained\\n    \"through its unwavering focus on nurturing a future-ready portfolio of world-class products anchored on\\n    its integrated seed to smoke value chain, superior consumer insights, robust innovation pipeline and\\n    world-class product development capabilities.\" ', 'output': 'Business'}], input_variables=[], input_types={}, partial_variables={}, example_prompt=ChatPromptTemplate(input_variables=['input', 'output'], input_types={}, partial_variables={}, messages=[HumanMessagePromptTemplate(prompt=PromptTemplate(input_variables=['input'], input_types={}, partial_variables={}, template='{input}'), additional_kwargs={}), AIMessagePromptTemplate(prompt=PromptTemplate(input_variables=['output'], input_types={}, partial_variables={}, template='{output}'), additional_kwargs={})]))"
      ]
     },
     "execution_count": 33,
     "metadata": {},
     "output_type": "execute_result"
    }
   ],
   "source": [
    "data_prompt = ChatPromptTemplate.from_messages(\n",
    "    [\n",
    "        (\"human\", \"{input}\"),\n",
    "        (\"ai\", \"{output}\"),\n",
    "    ]\n",
    ")\n",
    "\n",
    "few_shot_prompt = FewShotChatMessagePromptTemplate(\n",
    "    example_prompt=data_prompt,\n",
    "    examples=example_data_formatted,\n",
    ")\n",
    "\n",
    "few_shot_prompt"
   ]
  },
  {
   "cell_type": "code",
   "execution_count": 34,
   "metadata": {
    "colab": {
     "base_uri": "https://localhost:8080/"
    },
    "id": "O0fQUjDLjkJg",
    "outputId": "90351039-da3d-410f-dc64-427821abc0c7"
   },
   "outputs": [
    {
     "name": "stdout",
     "output_type": "stream",
     "text": [
      "Human: Wimbledon 2023 Women’s Final.\n",
      "    Marketa Vondrousova beats Ons Jabeur to win her maiden Grand Slam title\n",
      "AI: Sports\n",
      "Human: It's time to call it a day as India had another medal-laden day at the Asian Athletics Championships\n",
      "    in Bangkok. Murali Sreeshankar's Olympic qualifying jump grabbed the limelight while 400m mixed relay\n",
      "    team added's India's sixth gold medal! There will be plenty of medals up for grab on the final day of\n",
      "    the tournament as well with Jyothi Yarraji, women's and men's 400m relay teams in action\n",
      "AI: Sports\n",
      "Human: Kicking things off with the Galaxy Tab S9 FE Plus. It's going to be powered by the Exynos 1380\n",
      "    with 8GB of RAM, and pack a 12.4-inch display. The slate will measure 285.4 x 185.4 x 6.54 mm and\n",
      "    feature dual speakers, a side-mounted fingerprint sensor. It will come in Grey, Light Green,\n",
      "    Light Pink, and Silver color options.\n",
      "AI: Technology\n",
      "Human: The share of the cigarette business to ITC’s business in revenue terms has dropped from 47\n",
      "    per cent in FY13 to 37 per cent in FY23 on a larger revenue base.\n",
      "    According to the company’s most recent annual report, the leadership position has been sustained\n",
      "    \"through its unwavering focus on nurturing a future-ready portfolio of world-class products anchored on\n",
      "    its integrated seed to smoke value chain, superior consumer insights, robust innovation pipeline and\n",
      "    world-class product development capabilities.\" \n",
      "AI: Business\n"
     ]
    }
   ],
   "source": [
    "print(few_shot_prompt.format())"
   ]
  },
  {
   "cell_type": "markdown",
   "metadata": {
    "id": "m0cPbQdgkmVi"
   },
   "source": [
    "Finally, assemble your final prompt and use it with a LLM."
   ]
  },
  {
   "cell_type": "code",
   "execution_count": 35,
   "metadata": {
    "colab": {
     "base_uri": "https://localhost:8080/"
    },
    "id": "WyW9Xg7gy3nn",
    "outputId": "be911ce3-83e2-4fde-ffcd-364109519e2e"
   },
   "outputs": [
    {
     "data": {
      "text/plain": [
       "ChatPromptTemplate(input_variables=['input'], input_types={}, partial_variables={}, messages=[SystemMessagePromptTemplate(prompt=PromptTemplate(input_variables=[], input_types={}, partial_variables={}, template='Classify every new news article using a similar format as shown below'), additional_kwargs={}), FewShotChatMessagePromptTemplate(examples=[{'input': 'Wimbledon 2023 Women’s Final.\\n    Marketa Vondrousova beats Ons Jabeur to win her maiden Grand Slam title', 'output': 'Sports'}, {'input': \"It's time to call it a day as India had another medal-laden day at the Asian Athletics Championships\\n    in Bangkok. Murali Sreeshankar's Olympic qualifying jump grabbed the limelight while 400m mixed relay\\n    team added's India's sixth gold medal! There will be plenty of medals up for grab on the final day of\\n    the tournament as well with Jyothi Yarraji, women's and men's 400m relay teams in action\", 'output': 'Sports'}, {'input': \"Kicking things off with the Galaxy Tab S9 FE Plus. It's going to be powered by the Exynos 1380\\n    with 8GB of RAM, and pack a 12.4-inch display. The slate will measure 285.4 x 185.4 x 6.54 mm and\\n    feature dual speakers, a side-mounted fingerprint sensor. It will come in Grey, Light Green,\\n    Light Pink, and Silver color options.\", 'output': 'Technology'}, {'input': 'The share of the cigarette business to ITC’s business in revenue terms has dropped from 47\\n    per cent in FY13 to 37 per cent in FY23 on a larger revenue base.\\n    According to the company’s most recent annual report, the leadership position has been sustained\\n    \"through its unwavering focus on nurturing a future-ready portfolio of world-class products anchored on\\n    its integrated seed to smoke value chain, superior consumer insights, robust innovation pipeline and\\n    world-class product development capabilities.\" ', 'output': 'Business'}], input_variables=[], input_types={}, partial_variables={}, example_prompt=ChatPromptTemplate(input_variables=['input', 'output'], input_types={}, partial_variables={}, messages=[HumanMessagePromptTemplate(prompt=PromptTemplate(input_variables=['input'], input_types={}, partial_variables={}, template='{input}'), additional_kwargs={}), AIMessagePromptTemplate(prompt=PromptTemplate(input_variables=['output'], input_types={}, partial_variables={}, template='{output}'), additional_kwargs={})])), HumanMessagePromptTemplate(prompt=PromptTemplate(input_variables=['input'], input_types={}, partial_variables={}, template='{input}'), additional_kwargs={})])"
      ]
     },
     "execution_count": 35,
     "metadata": {},
     "output_type": "execute_result"
    }
   ],
   "source": [
    "final_prompt_template = ChatPromptTemplate.from_messages(\n",
    "    [\n",
    "        (\"system\", \"Classify every new news article using a similar format as shown below\"),\n",
    "        few_shot_prompt,\n",
    "        (\"human\", \"{input}\"),\n",
    "    ]\n",
    ")\n",
    "final_prompt_template"
   ]
  },
  {
   "cell_type": "code",
   "execution_count": 36,
   "metadata": {
    "id": "7tXUcmAazGOD"
   },
   "outputs": [],
   "source": [
    "docs = [\"\"\"Arsenal finally completed the signing of Rice as they announced the player's arrival on Saturday.\n",
    "Right after completing his move, Rice revealed that he is a great admirer of Arteta\n",
    "and that the Spaniard's presence in the Arsenal dressing room is one of the main reasons\n",
    "why he decided to join the North London club.\"\"\",\n",
    "        \"\"\"A heat wave sweeping across Europe is prompting health warnings as millions\n",
    "        of people endure sweltering temperatures. Italy has issued red alerts in 16 cities with\n",
    "        the country's weather centre warning of record heat especially in southern regions.\n",
    "        Parts of Greece are forecast to hit highs of 44 degrees celsius, while France,\n",
    "        Germany, Spain and Poland are also enduring extreme temperatures.\n",
    "        Scientists say greenhouse gases and the El Niño weather pattern are raising global temperatures.\n",
    "        \"\"\"]\n",
    "\n",
    "final_prompts = [final_prompt_template.format(input=doc) for doc in docs]\n",
    "responses = chatgpt.map().invoke(final_prompts)"
   ]
  },
  {
   "cell_type": "code",
   "execution_count": 37,
   "metadata": {
    "colab": {
     "base_uri": "https://localhost:8080/"
    },
    "id": "lTxJay_6lL-e",
    "outputId": "e7ffc074-03a3-4d0d-ff9e-dca29a8aea89"
   },
   "outputs": [
    {
     "data": {
      "text/plain": [
       "AIMessage(content='AI: Sports', additional_kwargs={'refusal': None}, response_metadata={'token_usage': {'completion_tokens': 3, 'prompt_tokens': 431, 'total_tokens': 434, 'completion_tokens_details': {'accepted_prediction_tokens': 0, 'audio_tokens': 0, 'reasoning_tokens': 0, 'rejected_prediction_tokens': 0}, 'prompt_tokens_details': {'audio_tokens': 0, 'cached_tokens': 0}}, 'model_name': 'gpt-4o-mini-2024-07-18', 'system_fingerprint': 'fp_0ba0d124f1', 'finish_reason': 'stop', 'logprobs': None}, id='run-2bd501fc-6fcc-42a5-81eb-fa82f40be81f-0', usage_metadata={'input_tokens': 431, 'output_tokens': 3, 'total_tokens': 434, 'input_token_details': {'audio': 0, 'cache_read': 0}, 'output_token_details': {'audio': 0, 'reasoning': 0}})"
      ]
     },
     "execution_count": 37,
     "metadata": {},
     "output_type": "execute_result"
    }
   ],
   "source": [
    "responses[0]"
   ]
  },
  {
   "cell_type": "code",
   "execution_count": 38,
   "metadata": {
    "colab": {
     "base_uri": "https://localhost:8080/"
    },
    "id": "ckhbEOgAzVJo",
    "outputId": "8e38ad6d-45c3-430f-c526-0267523be2e8"
   },
   "outputs": [
    {
     "name": "stdout",
     "output_type": "stream",
     "text": [
      "AI: Sports\n",
      "-----\n",
      "AI: Environment\n",
      "-----\n"
     ]
    }
   ],
   "source": [
    "for response in responses:\n",
    "  print(response.content)\n",
    "  print('-----')"
   ]
  },
  {
   "cell_type": "markdown",
   "metadata": {
    "id": "cizZ-bdhm3uW"
   },
   "source": [
    "### Partial prompt templates\n",
    "\n",
    "Like other methods, it can make sense to \"partial\" a prompt template - e.g. pass in a subset of the required data values, as to create a new prompt template which expects only the remaining subset of data values.\n",
    "\n",
    "Imagine you get some inputs initially and then some other inputs for the prompts later, you can use the `partial`function to add some of the input data first and the rest of the input data later"
   ]
  },
  {
   "cell_type": "code",
   "execution_count": 39,
   "metadata": {
    "id": "PSp5Tsmhleh9"
   },
   "outputs": [],
   "source": [
    "from datetime import datetime\n",
    "\n",
    "def _get_datetime():\n",
    "    now = datetime.now()\n",
    "    return now.strftime(\"%m/%d/%Y\")"
   ]
  },
  {
   "cell_type": "code",
   "execution_count": 40,
   "metadata": {
    "id": "NjrJ8Vhmli5i"
   },
   "outputs": [],
   "source": [
    "prompt_txt = \"\"\"Tell me a joke about {topic} on the day {date}\"\"\"\n",
    "prompt = ChatPromptTemplate.from_template(prompt_txt)"
   ]
  },
  {
   "cell_type": "code",
   "execution_count": 41,
   "metadata": {
    "colab": {
     "base_uri": "https://localhost:8080/"
    },
    "id": "eUZxZcF_mpmM",
    "outputId": "e92bf156-0113-4f1b-ca3a-605208d1153c"
   },
   "outputs": [
    {
     "data": {
      "text/plain": [
       "ChatPromptTemplate(input_variables=['topic'], input_types={}, partial_variables={'date': <function _get_datetime at 0x7a896a606200>}, messages=[HumanMessagePromptTemplate(prompt=PromptTemplate(input_variables=['date', 'topic'], input_types={}, partial_variables={}, template='Tell me a joke about {topic} on the day {date}'), additional_kwargs={})])"
      ]
     },
     "execution_count": 41,
     "metadata": {},
     "output_type": "execute_result"
    }
   ],
   "source": [
    "prompt = prompt.partial(date=_get_datetime)\n",
    "prompt"
   ]
  },
  {
   "cell_type": "code",
   "execution_count": 42,
   "metadata": {
    "colab": {
     "base_uri": "https://localhost:8080/"
    },
    "id": "6mcxRPErl0ef",
    "outputId": "0b09f5d2-d98e-441e-ad10-2b02fb14d88e"
   },
   "outputs": [
    {
     "data": {
      "text/plain": [
       "['Human: Tell me a joke about Engineers on the day 11/11/2024',\n",
       " 'Human: Tell me a joke about Statisticians on the day 11/11/2024']"
      ]
     },
     "execution_count": 42,
     "metadata": {},
     "output_type": "execute_result"
    }
   ],
   "source": [
    "topics = ['Engineers', 'Statisticians']\n",
    "final_prompts = [prompt.format(topic=topic) for topic in topics]\n",
    "final_prompts"
   ]
  },
  {
   "cell_type": "code",
   "execution_count": 43,
   "metadata": {
    "colab": {
     "base_uri": "https://localhost:8080/"
    },
    "id": "xK9gK0K8muK7",
    "outputId": "5504f0bc-6020-43d1-e9a6-6dca95e6d314"
   },
   "outputs": [
    {
     "name": "stdout",
     "output_type": "stream",
     "text": [
      "Why did the engineer bring a ladder to work on 11/11/2024?\n",
      "\n",
      "Because they heard the job was on another level!\n",
      "-----\n",
      "Why did the statistician bring a ladder to the bar on 11/11/2024?\n",
      "\n",
      "Because they heard the drinks were on the house, and they wanted to calculate the \"mean\" height!\n",
      "-----\n"
     ]
    }
   ],
   "source": [
    "responses = chatgpt.map().invoke(final_prompts)\n",
    "for response in responses:\n",
    "  print(response.content)\n",
    "  print('-----')"
   ]
  }
 ],
 "metadata": {
  "colab": {
   "provenance": []
  },
  "kernelspec": {
   "display_name": "Python 3 (ipykernel)",
   "language": "python",
   "name": "python3"
  },
  "language_info": {
   "codemirror_mode": {
    "name": "ipython",
    "version": 3
   },
   "file_extension": ".py",
   "mimetype": "text/x-python",
   "name": "python",
   "nbconvert_exporter": "python",
   "pygments_lexer": "ipython3",
   "version": "3.11.7"
  }
 },
 "nbformat": 4,
 "nbformat_minor": 4
}
