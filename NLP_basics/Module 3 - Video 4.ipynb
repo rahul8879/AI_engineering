{
 "cells": [
  {
   "cell_type": "markdown",
   "id": "c27a97c3",
   "metadata": {},
   "source": [
    "## Video 4 - Building an RNN Model with Word Indexing"
   ]
  },
  {
   "cell_type": "code",
   "execution_count": 2,
   "id": "e7d11c07",
   "metadata": {},
   "outputs": [],
   "source": [
    "import nltk\n",
    "import pandas as pd\n",
    "from nltk.corpus import stopwords\n",
    "from sklearn.metrics import accuracy_score\n",
    "from torch.nn.utils.rnn import pad_sequence\n",
    "import torch\n",
    "import torch.nn as nn\n",
    "import torch.optim as optim\n",
    "from torch.utils.data import DataLoader, TensorDataset"
   ]
  },
  {
   "cell_type": "markdown",
   "id": "d1ccd5eb",
   "metadata": {},
   "source": [
    "It checks if a CUDA-enabled GPU is present using torch.cuda.is_available() and sets the device variable to \"cuda\" to utilize the GPU's processing power for faster computation. "
   ]
  },
  {
   "cell_type": "code",
   "execution_count": 3,
   "id": "3e8f6faa-e512-4bd8-b7fc-d0e9b0f6b8f2",
   "metadata": {},
   "outputs": [
    {
     "data": {
      "text/plain": [
       "device(type='cpu')"
      ]
     },
     "execution_count": 3,
     "metadata": {},
     "output_type": "execute_result"
    }
   ],
   "source": [
    "device = torch.device(\"cuda\" if torch.cuda.is_available() else \"cpu\")\n",
    "device"
   ]
  },
  {
   "cell_type": "code",
   "execution_count": 4,
   "id": "628b9194",
   "metadata": {},
   "outputs": [],
   "source": [
    "# read the dataset\n",
    "train = pd.read_csv('../data/train.csv')\n",
    "validation = pd.read_csv('../data/validation.csv')\n",
    "test = pd.read_csv('../data/test.csv')"
   ]
  },
  {
   "cell_type": "code",
   "execution_count": 5,
   "id": "d8acb375",
   "metadata": {},
   "outputs": [
    {
     "data": {
      "text/plain": [
       "((17877, 5), (3831, 5), (3831, 5))"
      ]
     },
     "execution_count": 5,
     "metadata": {},
     "output_type": "execute_result"
    }
   ],
   "source": [
    "train.shape, validation.shape, test.shape"
   ]
  },
  {
   "cell_type": "code",
   "execution_count": 6,
   "id": "e307d5a5",
   "metadata": {},
   "outputs": [],
   "source": [
    "import re\n",
    "\n",
    "def preprocess_text(text):\n",
    "    # Check if the text is a string\n",
    "    if not isinstance(text, str):\n",
    "        return []\n",
    "    \n",
    "    # Keep only letters and whitespaces\n",
    "    pattern = f\"[a-zA-Z\\s]\"\n",
    "    text = ''.join(re.findall(pattern, text))\n",
    "    \n",
    "    # Convert to lowercase\n",
    "    text = text.lower()\n",
    "    \n",
    "    # Tokenize the text\n",
    "    tokens = nltk.word_tokenize(text)\n",
    "#     tokens = ' '.join(tokens)\n",
    "    \n",
    "    return tokens\n"
   ]
  },
  {
   "cell_type": "code",
   "execution_count": 7,
   "id": "dae592b0",
   "metadata": {},
   "outputs": [],
   "source": [
    "#apply the preprocess text to \n",
    "train['user_review'] = train['user_review'].apply(preprocess_text)\n",
    "validation['user_review'] = validation['user_review'].apply(preprocess_text)\n",
    "test['user_review'] = test['user_review'].apply(preprocess_text)"
   ]
  },
  {
   "cell_type": "code",
   "execution_count": 8,
   "id": "9e19d003",
   "metadata": {},
   "outputs": [
    {
     "data": {
      "text/html": [
       "<div>\n",
       "<style scoped>\n",
       "    .dataframe tbody tr th:only-of-type {\n",
       "        vertical-align: middle;\n",
       "    }\n",
       "\n",
       "    .dataframe tbody tr th {\n",
       "        vertical-align: top;\n",
       "    }\n",
       "\n",
       "    .dataframe thead th {\n",
       "        text-align: right;\n",
       "    }\n",
       "</style>\n",
       "<table border=\"1\" class=\"dataframe\">\n",
       "  <thead>\n",
       "    <tr style=\"text-align: right;\">\n",
       "      <th></th>\n",
       "      <th>review_id</th>\n",
       "      <th>title</th>\n",
       "      <th>year</th>\n",
       "      <th>user_review</th>\n",
       "      <th>user_suggestion</th>\n",
       "    </tr>\n",
       "  </thead>\n",
       "  <tbody>\n",
       "    <tr>\n",
       "      <th>0</th>\n",
       "      <td>460</td>\n",
       "      <td>Black Squad</td>\n",
       "      <td>2018.0</td>\n",
       "      <td>[early, access, reviewvery, great, shooter, th...</td>\n",
       "      <td>1</td>\n",
       "    </tr>\n",
       "    <tr>\n",
       "      <th>1</th>\n",
       "      <td>2166</td>\n",
       "      <td>Tree of Savior (English Ver.)</td>\n",
       "      <td>2016.0</td>\n",
       "      <td>[i, love, love, love, playing, this, gamesuper...</td>\n",
       "      <td>1</td>\n",
       "    </tr>\n",
       "    <tr>\n",
       "      <th>2</th>\n",
       "      <td>17242</td>\n",
       "      <td>Eternal Card Game</td>\n",
       "      <td>2016.0</td>\n",
       "      <td>[early, access, reviewas, a, fan, of, mtg, and...</td>\n",
       "      <td>1</td>\n",
       "    </tr>\n",
       "    <tr>\n",
       "      <th>3</th>\n",
       "      <td>6959</td>\n",
       "      <td>Tactical Monsters Rumble Arena</td>\n",
       "      <td>2018.0</td>\n",
       "      <td>[turn, based, strategy, game, similiar, to, ff...</td>\n",
       "      <td>1</td>\n",
       "    </tr>\n",
       "    <tr>\n",
       "      <th>4</th>\n",
       "      <td>8807</td>\n",
       "      <td>Yu-Gi-Oh! Duel Links</td>\n",
       "      <td>2017.0</td>\n",
       "      <td>[this, game, has, an, insanely, huge, download...</td>\n",
       "      <td>0</td>\n",
       "    </tr>\n",
       "  </tbody>\n",
       "</table>\n",
       "</div>"
      ],
      "text/plain": [
       "   review_id                           title    year  \\\n",
       "0        460                     Black Squad  2018.0   \n",
       "1       2166   Tree of Savior (English Ver.)  2016.0   \n",
       "2      17242               Eternal Card Game  2016.0   \n",
       "3       6959  Tactical Monsters Rumble Arena  2018.0   \n",
       "4       8807            Yu-Gi-Oh! Duel Links  2017.0   \n",
       "\n",
       "                                         user_review  user_suggestion  \n",
       "0  [early, access, reviewvery, great, shooter, th...                1  \n",
       "1  [i, love, love, love, playing, this, gamesuper...                1  \n",
       "2  [early, access, reviewas, a, fan, of, mtg, and...                1  \n",
       "3  [turn, based, strategy, game, similiar, to, ff...                1  \n",
       "4  [this, game, has, an, insanely, huge, download...                0  "
      ]
     },
     "execution_count": 8,
     "metadata": {},
     "output_type": "execute_result"
    }
   ],
   "source": [
    "#check the head of train data\n",
    "train.head()"
   ]
  },
  {
   "cell_type": "markdown",
   "id": "3ea114ba",
   "metadata": {},
   "source": [
    "As you can see, we have achieved our desired result."
   ]
  },
  {
   "cell_type": "code",
   "execution_count": 10,
   "id": "c27a298f",
   "metadata": {},
   "outputs": [],
   "source": [
    "def build_vocabulary(reviews):\n",
    "    vocab = {}\n",
    "    index = 1  # Start indexing from 1; reserve 0 for padding\n",
    "    for review in reviews:\n",
    "        for word in review:\n",
    "            if word not in vocab:\n",
    "                vocab[word] = index\n",
    "                index += 1\n",
    "    return vocab"
   ]
  },
  {
   "cell_type": "code",
   "execution_count": null,
   "id": "208d5a59",
   "metadata": {},
   "outputs": [],
   "source": []
  },
  {
   "cell_type": "code",
   "execution_count": 11,
   "id": "24a105cb",
   "metadata": {},
   "outputs": [
    {
     "name": "stdout",
     "output_type": "stream",
     "text": [
      "Vocabulary Length: 104326\n",
      "early: 1\n",
      "access: 2\n",
      "reviewvery: 3\n",
      "great: 4\n",
      "shooter: 5\n",
      "that: 6\n",
      "have: 7\n",
      "originality: 8\n",
      "in: 9\n",
      "it: 10\n",
      "but: 11\n",
      "of: 12\n",
      "course: 13\n",
      "some: 14\n",
      "newbies: 15\n",
      "dont: 16\n",
      "understand: 17\n",
      "mechanic: 18\n",
      "shooting: 19\n",
      "which: 20\n",
      "guns: 21\n",
      "is: 22\n",
      "same: 23\n",
      "or: 24\n",
      "not: 25\n",
      "throught: 26\n",
      "visual: 27\n",
      "look: 28\n",
      "and: 29\n",
      "what: 30\n",
      "to: 31\n",
      "do: 32\n",
      "rankedbut: 33\n",
      "theres: 34\n",
      "thing: 35\n",
      "keeps: 36\n",
      "me: 37\n",
      "think: 38\n",
      "how: 39\n",
      "would: 40\n",
      "game: 41\n",
      "evolve: 42\n",
      "sure: 43\n",
      "its: 44\n",
      "still: 45\n",
      "i: 46\n",
      "developers: 47\n",
      "need: 48\n",
      "speed: 49\n",
      "up: 50\n"
     ]
    }
   ],
   "source": [
    "# Concatenate all reviews to build the vocabulary\n",
    "all_reviews = train['user_review'].tolist() + validation['user_review'].tolist() + test['user_review'].tolist()\n",
    "vocab = build_vocabulary(all_reviews)\n",
    "print(\"Vocabulary Length:\", len(vocab))\n",
    "first_50 = list(vocab.items())[:50]\n",
    "for key, value in first_50:\n",
    "    print(f'{key}: {value}')\n"
   ]
  },
  {
   "cell_type": "markdown",
   "id": "69427c53",
   "metadata": {},
   "source": [
    "\n",
    "Zero padding is beneficial in maintaining a consistent length of input sequences for the model. Zero index is used to \n"
   ]
  },
  {
   "cell_type": "code",
   "execution_count": 12,
   "id": "aaa39260",
   "metadata": {},
   "outputs": [],
   "source": [
    "#Indexing reviews based on the vocabulary\n",
    "def index_and_pad_reviews(reviews, vocab, max_length=100):\n",
    "    \"\"\"Index and pad tokenized reviews to a fixed length.\"\"\"\n",
    "    indexed_reviews = []\n",
    "    for review in reviews:\n",
    "        indexed_review = [vocab.get(word, 0) for word in review]  # Use vocab.get to handle unknown words\n",
    "        # Truncate if review length exceeds max_length\n",
    "        truncated_review = indexed_review[:max_length]\n",
    "        # Pad review with zeros if it's shorter than max_length\n",
    "        padded_review = truncated_review + [0] * (max_length - len(truncated_review))\n",
    "        indexed_reviews.append(padded_review)\n",
    "    return indexed_reviews"
   ]
  },
  {
   "cell_type": "markdown",
   "id": "55530687",
   "metadata": {},
   "source": [
    "#### The problem of zero padding-\n",
    "Imagine we have three text sentences that we want to convert to numerical form using word indexing technique that we just performed:\n",
    "\n",
    "1. \"The rapid advancement of technology in the field of artificial intelligence is creating new opportunities and challenges in both research and practical applications\" (25 words)\n",
    "2. \"Artificial intelligence will revolutionize the way we interact with technology\" (10 words)\n",
    "3. \"Machine learning transforms data into predictions\" (6 words)\n",
    "\n",
    "We'll convert each word into a numerical index for simplicity. Here's an example indexing:\n",
    "\n",
    "- \"The\" -> [1]\n",
    "- \"Rapid\" -> [2]\n",
    "- \"Advancement\" -> [3]\n",
    "- \"Of\" -> [4]\n",
    "- \"Technology\" -> [5]\n",
    "- \"In\" -> [6]\n",
    "- \"Field\" -> [7]\n",
    "- \"Artificial\" -> [8]\n",
    "- \"Intelligence\" -> [9]\n",
    "- \"Is\" -> [10]\n",
    "- \"Creating\" -> [11]\n",
    "- \"New\" -> [12]\n",
    "- \"Opportunities\" -> [13]\n",
    "- \"And\" -> [14]\n",
    "- \"Challenges\" -> [15]\n",
    "- \"Both\" -> [16]\n",
    "- \"Research\" -> [17]\n",
    "- \"Practical\" -> [18]\n",
    "- \"Applications\" -> [19]\n",
    "- \"Will\" -> [20]\n",
    "- \"Revolutionize\" -> [21]\n",
    "- \"Way\" -> [22]\n",
    "- \"We\" -> [23]\n",
    "- \"Interact\" -> [24]\n",
    "- \"With\" -> [25]\n",
    "- \"Machine\" -> [26]\n",
    "- \"Learning\" -> [27]\n",
    "- \"Transforms\" -> [28]\n",
    "- \"Data\" -> [29]\n",
    "- \"Into\" -> [30]\n",
    "- \"Predictions\" -> [31]\n",
    "\n",
    "Without padding, the numerical sequences for these sentences would be:\n",
    "\n",
    "1. [1, 2, 3, 4, 5, 6, 7, 8, 9, 10, 11, 12, 13, 14, 15, 16, 17, 18, 19]\n",
    "2. [8, 9, 20, 21, 22, 23, 24, 25, 5]\n",
    "3. [26, 27, 28, 29, 30, 31]\n",
    "\n",
    "To ensure uniform input sizes for neural network training, we'll set the maximum sequence length to 10 and adjust the sequences accordingly:\n",
    "\n",
    "1. [1, 2, 3, 4, 5, 6, 7, 8, 9, 10] __(Truncated)__\n",
    "2. [8, 9, 20, 21, 22, 23, 24, 25, 5, 0] __(Zero Padded)__\n",
    "3. [26, 27, 28, 29, 30, 31, 0, 0, 0, 0] __(Zero Padded)__\n",
    "\n",
    "In this setup:\n",
    "- Sentence 1 is truncated after the 10th index.\n",
    "- Sentence 2 is padded with one zero to reach the maximum length of 10.\n",
    "- Sentence 3 is significantly padded with four zeros to also reach the length of 10.\n",
    "\n",
    "Each \"sentence\" now is represented by a 10-element array, making it possible to feed them into a neural network in a uniform manner. The zeros are placeholders that do not carry any meaningful information but maintain the necessary structure for input data.\n",
    "\n",
    "Note that, the padding that we have done is post-padding which is the more common form of padding. In certain cases prepadding can also be done, where zeros are added in the beginning of the sentence. You can think of pre and post padding as hyperparameters.\n",
    "\n",
    "Now, each \"sentence\" is represented by a 10x1 matrix, making it possible to feed them into a neural network in a uniform manner. The zero vectors do not carry any meaningful information and are typically ignored by the model in terms of learning but provide the necessary structure for the input data."
   ]
  },
  {
   "cell_type": "code",
   "execution_count": null,
   "id": "b8f4a7b1",
   "metadata": {},
   "outputs": [],
   "source": []
  },
  {
   "cell_type": "code",
   "execution_count": 13,
   "id": "6bc3e367",
   "metadata": {},
   "outputs": [],
   "source": [
    "#converting dataframe to list\n",
    "train_review = train['user_review'].tolist()\n",
    "test_review = test['user_review'].tolist()\n",
    "validation_review = validation['user_review'].tolist()"
   ]
  },
  {
   "cell_type": "code",
   "execution_count": 14,
   "id": "284bd9e1",
   "metadata": {},
   "outputs": [],
   "source": [
    "# Index and pad reviews for each set\n",
    "train_indexed = index_and_pad_reviews(train_review, vocab)\n",
    "test_indexed = index_and_pad_reviews(test_review, vocab)\n",
    "validation_indexed = index_and_pad_reviews(validation_review, vocab)"
   ]
  },
  {
   "cell_type": "code",
   "execution_count": 15,
   "id": "34197a2b",
   "metadata": {},
   "outputs": [],
   "source": [
    "# Convert indexed reviews back to DataFrame for further use\n",
    "train['user_review_indexed'] = train_indexed\n",
    "test['user_review_indexed'] = test_indexed\n",
    "validation['user_review_indexed'] = validation_indexed\n"
   ]
  },
  {
   "cell_type": "code",
   "execution_count": 16,
   "id": "e833b462",
   "metadata": {
    "scrolled": true
   },
   "outputs": [
    {
     "data": {
      "text/html": [
       "<div>\n",
       "<style scoped>\n",
       "    .dataframe tbody tr th:only-of-type {\n",
       "        vertical-align: middle;\n",
       "    }\n",
       "\n",
       "    .dataframe tbody tr th {\n",
       "        vertical-align: top;\n",
       "    }\n",
       "\n",
       "    .dataframe thead th {\n",
       "        text-align: right;\n",
       "    }\n",
       "</style>\n",
       "<table border=\"1\" class=\"dataframe\">\n",
       "  <thead>\n",
       "    <tr style=\"text-align: right;\">\n",
       "      <th></th>\n",
       "      <th>review_id</th>\n",
       "      <th>title</th>\n",
       "      <th>year</th>\n",
       "      <th>user_review</th>\n",
       "      <th>user_suggestion</th>\n",
       "      <th>user_review_indexed</th>\n",
       "    </tr>\n",
       "  </thead>\n",
       "  <tbody>\n",
       "    <tr>\n",
       "      <th>0</th>\n",
       "      <td>460</td>\n",
       "      <td>Black Squad</td>\n",
       "      <td>2018.0</td>\n",
       "      <td>[early, access, reviewvery, great, shooter, th...</td>\n",
       "      <td>1</td>\n",
       "      <td>[1, 2, 3, 4, 5, 6, 7, 8, 9, 10, 11, 12, 13, 14...</td>\n",
       "    </tr>\n",
       "    <tr>\n",
       "      <th>1</th>\n",
       "      <td>2166</td>\n",
       "      <td>Tree of Savior (English Ver.)</td>\n",
       "      <td>2016.0</td>\n",
       "      <td>[i, love, love, love, playing, this, gamesuper...</td>\n",
       "      <td>1</td>\n",
       "      <td>[46, 84, 84, 84, 85, 57, 86, 10, 58, 82, 87, 1...</td>\n",
       "    </tr>\n",
       "    <tr>\n",
       "      <th>2</th>\n",
       "      <td>17242</td>\n",
       "      <td>Eternal Card Game</td>\n",
       "      <td>2016.0</td>\n",
       "      <td>[early, access, reviewas, a, fan, of, mtg, and...</td>\n",
       "      <td>1</td>\n",
       "      <td>[1, 2, 102, 82, 103, 12, 104, 29, 105, 57, 58,...</td>\n",
       "    </tr>\n",
       "    <tr>\n",
       "      <th>3</th>\n",
       "      <td>6959</td>\n",
       "      <td>Tactical Monsters Rumble Arena</td>\n",
       "      <td>2018.0</td>\n",
       "      <td>[turn, based, strategy, game, similiar, to, ff...</td>\n",
       "      <td>1</td>\n",
       "      <td>[126, 127, 128, 41, 129, 31, 130, 131, 132, 9,...</td>\n",
       "    </tr>\n",
       "    <tr>\n",
       "      <th>4</th>\n",
       "      <td>8807</td>\n",
       "      <td>Yu-Gi-Oh! Duel Links</td>\n",
       "      <td>2017.0</td>\n",
       "      <td>[this, game, has, an, insanely, huge, download...</td>\n",
       "      <td>0</td>\n",
       "      <td>[57, 41, 58, 159, 160, 161, 71, 81, 162, 82, 1...</td>\n",
       "    </tr>\n",
       "  </tbody>\n",
       "</table>\n",
       "</div>"
      ],
      "text/plain": [
       "   review_id                           title    year  \\\n",
       "0        460                     Black Squad  2018.0   \n",
       "1       2166   Tree of Savior (English Ver.)  2016.0   \n",
       "2      17242               Eternal Card Game  2016.0   \n",
       "3       6959  Tactical Monsters Rumble Arena  2018.0   \n",
       "4       8807            Yu-Gi-Oh! Duel Links  2017.0   \n",
       "\n",
       "                                         user_review  user_suggestion  \\\n",
       "0  [early, access, reviewvery, great, shooter, th...                1   \n",
       "1  [i, love, love, love, playing, this, gamesuper...                1   \n",
       "2  [early, access, reviewas, a, fan, of, mtg, and...                1   \n",
       "3  [turn, based, strategy, game, similiar, to, ff...                1   \n",
       "4  [this, game, has, an, insanely, huge, download...                0   \n",
       "\n",
       "                                 user_review_indexed  \n",
       "0  [1, 2, 3, 4, 5, 6, 7, 8, 9, 10, 11, 12, 13, 14...  \n",
       "1  [46, 84, 84, 84, 85, 57, 86, 10, 58, 82, 87, 1...  \n",
       "2  [1, 2, 102, 82, 103, 12, 104, 29, 105, 57, 58,...  \n",
       "3  [126, 127, 128, 41, 129, 31, 130, 131, 132, 9,...  \n",
       "4  [57, 41, 58, 159, 160, 161, 71, 81, 162, 82, 1...  "
      ]
     },
     "execution_count": 16,
     "metadata": {},
     "output_type": "execute_result"
    }
   ],
   "source": [
    "train.head()"
   ]
  },
  {
   "cell_type": "code",
   "execution_count": 17,
   "id": "4512ab22",
   "metadata": {},
   "outputs": [
    {
     "name": "stdout",
     "output_type": "stream",
     "text": [
      "['early', 'access', 'reviewvery', 'great', 'shooter', 'that', 'have', 'originality', 'in', 'it', 'but', 'of', 'course', 'some', 'newbies', 'dont', 'understand', 'mechanic', 'of', 'shooting', 'which', 'guns', 'is', 'same', 'or', 'not', 'throught', 'visual', 'look', 'and', 'what', 'to', 'do', 'in', 'rankedbut', 'theres', 'thing', 'that', 'keeps', 'me', 'think', 'how', 'would', 'game', 'evolve', 'sure', 'its', 'still', 'in', 'early', 'access', 'but', 'i', 'think', 'developers', 'need', 'to', 'speed', 'up', 'process', 'of', 'finishing', 'game', 'cuz', 'still', 'comparing', 'to', 'other', 'games', 'this', 'game', 'has', 'low', 'number', 'of', 'community', 'and', 'some', 'things', 'that', 'makes', 'player', 'think', 'that', 'black', 'squad', 'is', 'another', 'copy', 'of', 'csgo', 'and', 'he', 'would', 'not', 'download', 'iti', 'hope', 'you', 'understand', 'my', 'message', 'i', 'really', 'like', 'this', 'game', 'but', 'i', 'dont', 'think', 'it', 'can', 'keep', 'me', 'for', 'a', 'year'] \n",
      "\n",
      "['i', 'love', 'love', 'love', 'playing', 'this', 'gamesuper', 'it', 'has', 'a', 'lot', 'of', 'classes', 'to', 'choose', 'from', 'you', 'are', 'not', 'bounded', 'w', 'just', 'jobrich', 'storyline', 'and', 'the', 'art', 'work', 'is', 'so', 'amazingmuch', 'love', 'to', 'this', 'game'] \n",
      "\n",
      "['early', 'access', 'reviewas', 'a', 'fan', 'of', 'mtg', 'and', 'hearthstone', 'this', 'has', 'been', 'a', 'fun', 'game', 'so', 'far', 'with', 'the', 'campaign', 'mode', 'and', 'full', 'deck', 'building', 'feature', 'your', 'getting', 'a', 'good', 'few', 'hours', 'in', 'before', 'you', 'even', 'know', 'it', 'haha', 'd', 'great', 'game', 'for', 'what', 'it', 'is'] \n",
      "\n"
     ]
    }
   ],
   "source": [
    "for i in range(3):\n",
    "    print(train.user_review[i], '\\n')"
   ]
  },
  {
   "cell_type": "code",
   "execution_count": 18,
   "id": "f92887fa",
   "metadata": {},
   "outputs": [
    {
     "name": "stdout",
     "output_type": "stream",
     "text": [
      "[1, 2, 3, 4, 5, 6, 7, 8, 9, 10, 11, 12, 13, 14, 15, 16, 17, 18, 12, 19, 20, 21, 22, 23, 24, 25, 26, 27, 28, 29, 30, 31, 32, 9, 33, 34, 35, 6, 36, 37, 38, 39, 40, 41, 42, 43, 44, 45, 9, 1, 2, 11, 46, 38, 47, 48, 31, 49, 50, 51, 12, 52, 41, 53, 45, 54, 31, 55, 56, 57, 41, 58, 59, 60, 12, 61, 29, 14, 62, 6, 63, 64, 38, 6, 65, 66, 22, 67, 68, 12, 69, 29, 70, 40, 25, 71, 72, 73, 74, 17] \n",
      "\n",
      "[46, 84, 84, 84, 85, 57, 86, 10, 58, 82, 87, 12, 88, 31, 89, 90, 74, 91, 25, 92, 93, 94, 95, 96, 29, 97, 98, 99, 22, 100, 101, 84, 31, 57, 41, 0, 0, 0, 0, 0, 0, 0, 0, 0, 0, 0, 0, 0, 0, 0, 0, 0, 0, 0, 0, 0, 0, 0, 0, 0, 0, 0, 0, 0, 0, 0, 0, 0, 0, 0, 0, 0, 0, 0, 0, 0, 0, 0, 0, 0, 0, 0, 0, 0, 0, 0, 0, 0, 0, 0, 0, 0, 0, 0, 0, 0, 0, 0, 0, 0] \n",
      "\n",
      "[1, 2, 102, 82, 103, 12, 104, 29, 105, 57, 58, 106, 82, 107, 41, 100, 108, 109, 97, 110, 111, 29, 112, 113, 114, 115, 116, 117, 82, 118, 119, 120, 9, 121, 74, 122, 123, 10, 124, 125, 4, 41, 81, 30, 10, 22, 0, 0, 0, 0, 0, 0, 0, 0, 0, 0, 0, 0, 0, 0, 0, 0, 0, 0, 0, 0, 0, 0, 0, 0, 0, 0, 0, 0, 0, 0, 0, 0, 0, 0, 0, 0, 0, 0, 0, 0, 0, 0, 0, 0, 0, 0, 0, 0, 0, 0, 0, 0, 0, 0] \n",
      "\n"
     ]
    }
   ],
   "source": [
    "for i in range(3):\n",
    "    print(train_indexed[:3][i], '\\n')"
   ]
  },
  {
   "cell_type": "code",
   "execution_count": 19,
   "id": "1a6b8bc2",
   "metadata": {},
   "outputs": [],
   "source": [
    "def prepare_data(reviews, labels):\n",
    "    # Convert the pre-padded reviews into a tensor\n",
    "    X = torch.tensor(reviews, dtype=torch.float)\n",
    "\n",
    "    # Convert the labels into a tensor\n",
    "    y = torch.tensor(labels, dtype=torch.float)\n",
    "\n",
    "    return X, y"
   ]
  },
  {
   "cell_type": "code",
   "execution_count": 20,
   "id": "39d5172c",
   "metadata": {},
   "outputs": [],
   "source": [
    "# Prepare data\n",
    "X_train, y_train = prepare_data(train['user_review_indexed'], train['user_suggestion'])\n",
    "\n",
    "X_val, y_val = prepare_data(validation['user_review_indexed'], validation['user_suggestion'])"
   ]
  },
  {
   "cell_type": "code",
   "execution_count": 21,
   "id": "16af0ec8",
   "metadata": {},
   "outputs": [],
   "source": [
    "# Create DataLoader\n",
    "batch_size = 64\n",
    "train_data = TensorDataset(X_train, y_train)\n",
    "train_loader = DataLoader(train_data, batch_size=batch_size, shuffle=True)"
   ]
  },
  {
   "cell_type": "code",
   "execution_count": 22,
   "id": "e6711f6a",
   "metadata": {},
   "outputs": [],
   "source": [
    "# Create DataLoader\n",
    "val_data = TensorDataset(X_val, y_val)\n",
    "val_loader = DataLoader(val_data, batch_size=batch_size, shuffle=True)"
   ]
  },
  {
   "cell_type": "markdown",
   "id": "0bc70aa0",
   "metadata": {},
   "source": [
    "#### RNN Model with Word Indexing"
   ]
  },
  {
   "cell_type": "markdown",
   "id": "8306ec55",
   "metadata": {},
   "source": [
    "Now, we will define the hyperparameters for our RNN Model. You can come back to this code and change them to experiment further. Make sure to go through the comments explaining each hyperparameter. We have given the explantion for each of them below."
   ]
  },
  {
   "cell_type": "code",
   "execution_count": 23,
   "id": "007fb847",
   "metadata": {},
   "outputs": [],
   "source": [
    "#Define hyperparameters\n",
    "input_size = 1\n",
    "hidden_size = 128\n",
    "output_size = 1\n",
    "num_layers = 1\n",
    "learning_rate = 0.001\n",
    "num_epochs = 30\n"
   ]
  },
  {
   "cell_type": "markdown",
   "id": "c647c1c3",
   "metadata": {},
   "source": [
    "#### Explantion-\n",
    "Here are brief descriptions for each of the listed hyperparameters in the RNN model:\n",
    "\n",
    "1. **input_size = 1**\n",
    "   - This specifies the number of features in the input. For an RNN, it's the size of the input vector for each timestep. Here, each input vector contains only one feature.\n",
    "\n",
    "2. **hidden_size = 128**\n",
    "   - This defines the size of the hidden state of the RNN. A larger hidden size allows the model to learn more complex patterns but increases computational complexity and risk of overfitting. Here, each hidden layer has 128 units.\n",
    "\n",
    "3. **output_size = 1**\n",
    "   - This is the dimensionality of the output from the RNN. For this model, it means that each output vector produced by the RNN has one feature.\n",
    "\n",
    "4. **num_layers = 1**\n",
    "   - This parameter indicates the number of stacked RNN layers in the model, which can enhance the model's ability to capture more complex patterns. A single layer is used here, making the model simpler and faster to train.\n",
    "\n",
    "5. **learning_rate = 0.001**\n",
    "   - The learning rate controls how much to adjust the model's weights with respect to the gradient of the loss function during training. A smaller learning rate can lead to better convergence, but training progresses slowly.\n",
    "\n",
    "6. **num_epochs = 30**\n",
    "   - This denotes the number of times the entire dataset is passed forward and backward through the RNN during training. Thirty epochs mean the model iterates over the dataset thirty times to minimize the loss function."
   ]
  },
  {
   "cell_type": "code",
   "execution_count": null,
   "id": "30b782a1",
   "metadata": {},
   "outputs": [],
   "source": []
  },
  {
   "cell_type": "code",
   "execution_count": 24,
   "id": "14a22fda",
   "metadata": {},
   "outputs": [],
   "source": [
    "class SentimentRNN(nn.Module):\n",
    "    def __init__(self, input_size, hidden_size, output_size, num_layers):\n",
    "        super(SentimentRNN, self).__init__()\n",
    "        self.hidden_size = hidden_size\n",
    "        self.num_layers = num_layers\n",
    "        # Basic RNN layer, without dropout\n",
    "        self.rnn = nn.RNN(input_size, hidden_size, num_layers, batch_first=True)\n",
    "        self.tanh = nn.Tanh()  # Tanh activation layer\n",
    "        self.fc = nn.Linear(hidden_size, output_size)\n",
    "        self.sigmoid = nn.Sigmoid()  # Sigmoid activation layer\n",
    "\n",
    "    def forward(self, x):\n",
    "        # Initial hidden state\n",
    "        h0 = torch.zeros(self.num_layers, x.size(0), self.hidden_size).to(x.device)\n",
    "        # RNN output\n",
    "        out, _ = self.rnn(x, h0)\n",
    "        # Apply Tanh to the outputs of the RNN layer\n",
    "        out = self.tanh(out)\n",
    "        # Get the last sequence output for classification\n",
    "        out = out[:, -1, :]\n",
    "        # Apply the linear layer for the final output\n",
    "        out = self.fc(out)\n",
    "        # Apply the sigmoid activation\n",
    "        out = self.sigmoid(out)\n",
    "        return out"
   ]
  },
  {
   "cell_type": "code",
   "execution_count": 25,
   "id": "cc3c29df",
   "metadata": {
    "scrolled": true
   },
   "outputs": [],
   "source": [
    "# Initialize model, loss function, and optimizer\n",
    "model = SentimentRNN(input_size, hidden_size, output_size, num_layers)\n",
    "criterion = nn.BCELoss()\n",
    "optimizer = optim.Adam(model.parameters(), lr=learning_rate)"
   ]
  },
  {
   "cell_type": "code",
   "execution_count": 26,
   "id": "225aeb47",
   "metadata": {},
   "outputs": [],
   "source": [
    "def calculate_accuracy(loader):\n",
    "    model.eval()\n",
    "    correct, total = 0, 0\n",
    "    with torch.no_grad():\n",
    "        for inputs, labels in loader:\n",
    "            inputs = inputs.unsqueeze(-1).float()\n",
    "            outputs = model(inputs)\n",
    "            predicted = outputs.squeeze() > 0.5\n",
    "            total += labels.size(0)\n",
    "            correct += (predicted == labels).sum().item()\n",
    "    return 100 * correct / total"
   ]
  },
  {
   "cell_type": "code",
   "execution_count": 27,
   "id": "aafbb2df-166d-4fad-840a-02868f847af1",
   "metadata": {
    "scrolled": false
   },
   "outputs": [
    {
     "name": "stdout",
     "output_type": "stream",
     "text": [
      "Epoch 1/30, Loss: 0.6852, Val Loss: 0.6863\n",
      "Epoch 2/30, Loss: 0.6849, Val Loss: 0.6842\n",
      "Epoch 3/30, Loss: 0.6840, Val Loss: 0.6832\n",
      "Epoch 4/30, Loss: 0.6847, Val Loss: 0.6836\n",
      "Epoch 5/30, Loss: 0.6840, Val Loss: 0.6871\n",
      "Epoch 6/30, Loss: 0.6846, Val Loss: 0.6858\n",
      "Epoch 7/30, Loss: 0.6846, Val Loss: 0.6838\n",
      "Epoch 8/30, Loss: 0.6854, Val Loss: 0.6852\n",
      "Epoch 9/30, Loss: 0.6845, Val Loss: 0.6836\n",
      "Epoch 10/30, Loss: 0.6849, Val Loss: 0.6831\n",
      "Epoch 11/30, Loss: 0.6838, Val Loss: 0.6834\n",
      "Epoch 12/30, Loss: 0.6841, Val Loss: 0.6847\n",
      "Epoch 13/30, Loss: 0.6843, Val Loss: 0.6855\n",
      "Epoch 14/30, Loss: 0.6846, Val Loss: 0.6842\n",
      "Epoch 15/30, Loss: 0.6848, Val Loss: 0.6836\n",
      "Epoch 16/30, Loss: 0.6839, Val Loss: 0.6846\n",
      "Epoch 17/30, Loss: 0.6843, Val Loss: 0.6832\n",
      "Epoch 18/30, Loss: 0.6841, Val Loss: 0.6852\n",
      "Epoch 19/30, Loss: 0.6837, Val Loss: 0.6844\n",
      "Epoch 20/30, Loss: 0.6838, Val Loss: 0.6830\n",
      "Epoch 21/30, Loss: 0.6838, Val Loss: 0.6834\n",
      "Epoch 22/30, Loss: 0.6840, Val Loss: 0.6831\n",
      "Epoch 23/30, Loss: 0.6837, Val Loss: 0.6850\n",
      "Epoch 24/30, Loss: 0.6840, Val Loss: 0.6869\n",
      "Epoch 25/30, Loss: 0.6845, Val Loss: 0.6833\n",
      "Epoch 26/30, Loss: 0.6845, Val Loss: 0.6857\n",
      "Epoch 27/30, Loss: 0.6849, Val Loss: 0.6836\n",
      "Epoch 28/30, Loss: 0.6836, Val Loss: 0.6827\n",
      "Epoch 29/30, Loss: 0.6844, Val Loss: 0.6832\n",
      "Epoch 30/30, Loss: 0.6840, Val Loss: 0.6870\n",
      "Lowest Validation Loss: 0.6827 at Epoch 28\n"
     ]
    },
    {
     "data": {
      "image/png": "[encoded data removed]",
      "text/plain": [
       "<Figure size 1000x500 with 1 Axes>"
      ]
     },
     "metadata": {},
     "output_type": "display_data"
    },
    {
     "name": "stdout",
     "output_type": "stream",
     "text": [
      "Best Model Training Accuracy: 56.72092632992113%\n",
      "Best Model Validation Accuracy: 56.8780997128687%\n"
     ]
    }
   ],
   "source": [
    "#Training loop\n",
    "import matplotlib.pyplot as plt\n",
    "\n",
    "num_epochs = 30  # Number of epochs\n",
    "losses = []  # List to store the average train loss per epoch\n",
    "val_losses = []  # List to store the average validation loss per epoch\n",
    "best_val_loss = float('inf')  # Initialize the best validation loss to infinity\n",
    "best_epoch = 0  # Epoch with the best validation loss\n",
    "\n",
    "for epoch in range(num_epochs):\n",
    "    model.train()  # Set the model to training mode\n",
    "    total_loss = 0\n",
    "    total_val_loss = 0\n",
    "    count = 0\n",
    "    val_count = 0\n",
    "    for inputs, labels in train_loader:\n",
    "        inputs = inputs.unsqueeze(-1).float()\n",
    "        optimizer.zero_grad()\n",
    "        outputs = model(inputs)\n",
    "        outputs = outputs.squeeze()\n",
    "        loss = criterion(outputs, labels.float())\n",
    "        loss.backward()\n",
    "        optimizer.step()\n",
    "        total_loss += loss.item()\n",
    "        count += 1\n",
    "    average_loss = total_loss / count\n",
    "    losses.append(average_loss)\n",
    "\n",
    "    model.eval()  # Set the model to evaluation mode\n",
    "    with torch.no_grad():\n",
    "        for inputs, labels in val_loader:\n",
    "            inputs = inputs.unsqueeze(-1).float()\n",
    "            val_outputs = model(inputs)\n",
    "            val_outputs = val_outputs.squeeze()\n",
    "            val_loss = criterion(val_outputs, labels.float())\n",
    "            total_val_loss += val_loss.item()\n",
    "            val_count += 1\n",
    "    average_val_loss = total_val_loss / val_count\n",
    "    val_losses.append(average_val_loss)\n",
    "    print(f'Epoch {epoch+1}/{num_epochs}, Loss: {average_loss:.4f}, Val Loss: {average_val_loss:.4f}')\n",
    "    \n",
    "    # Check if the current validation loss is the lowest; if so, save the model\n",
    "    if average_val_loss < best_val_loss:\n",
    "        best_val_loss = average_val_loss\n",
    "        best_epoch = epoch\n",
    "        torch.save(model.state_dict(), 'rnn_indexing_best_model.pth')  # Save the best model\n",
    "\n",
    "print(f'Lowest Validation Loss: {best_val_loss:.4f} at Epoch {best_epoch + 1}')\n",
    "\n",
    "# Plotting the training and validation losses\n",
    "plt.figure(figsize=(10, 5))\n",
    "plt.plot(range(1, num_epochs + 1), losses, 'bo-', label='Training Loss')\n",
    "plt.plot(range(1, num_epochs + 1), val_losses, 'ro-', label='Validation Loss')\n",
    "plt.title('Training and Validation Loss per Epoch')\n",
    "plt.xlabel('Epoch')\n",
    "plt.ylabel('Loss')\n",
    "plt.legend()\n",
    "plt.grid(True)\n",
    "plt.show()\n",
    "\n",
    "# Load the best model and calculate accuracy only for that\n",
    "model.load_state_dict(torch.load('rnn_indexing_best_model.pth'))\n",
    "train_accuracy = calculate_accuracy(train_loader)\n",
    "val_accuracy = calculate_accuracy(val_loader)\n",
    "print(f'Best Model Training Accuracy: {train_accuracy}%')\n",
    "print(f'Best Model Validation Accuracy: {val_accuracy}%')\n"
   ]
  },
  {
   "cell_type": "code",
   "execution_count": null,
   "id": "5c386482",
   "metadata": {},
   "outputs": [],
   "source": []
  }
 ],
 "metadata": {
  "kernelspec": {
   "display_name": "ai-env",
   "language": "python",
   "name": "python3"
  },
  "language_info": {
   "codemirror_mode": {
    "name": "ipython",
    "version": 3
   },
   "file_extension": ".py",
   "mimetype": "text/x-python",
   "name": "python",
   "nbconvert_exporter": "python",
   "pygments_lexer": "ipython3",
   "version": "3.11.4"
  }
 },
 "nbformat": 4,
 "nbformat_minor": 5
}
